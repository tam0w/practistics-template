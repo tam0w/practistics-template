{
 "cells": [
  {
   "cell_type": "code",
   "execution_count": 187,
   "outputs": [],
   "source": [
    "def load_concat_csv(paths):\n",
    "    \n",
    "    header = ['first_kill', 'time', 'first_death', 'spike_plant', 'defuse', 'fb_team', 'fb_players', 'dt_players',\n",
    "              'team_buy', 'oppo_buy', 'total_kills', 'total_deaths', 'awps_info', 'side', 'round_win']\n",
    "\n",
    "    df = pd.DataFrame()\n",
    "    for path in paths:\n",
    "        data = pd.read_csv(path)\n",
    "        df = pd.concat([df, data], axis=0)\n",
    "    \n",
    "    return df"
   ],
   "metadata": {
    "collapsed": false,
    "ExecuteTime": {
     "end_time": "2023-09-10T05:19:55.139896100Z",
     "start_time": "2023-09-10T05:19:55.122852200Z"
    }
   },
   "id": "e45f71a8d10519af"
  },
  {
   "cell_type": "markdown",
   "source": [
    "# Practistics Analytics Template\n",
    "This is a template made for use with Practistics scrim data. Instructions:\n",
    "-- Load as many scrim CSVs (of the same map) as required into a directory.\n",
    "-- Paste the file paths of all the CSVs into the read CSVs function. \n",
    "-- Execute all the cells for the required analytics each cell provides."
   ],
   "metadata": {
    "collapsed": false
   },
   "id": "1defbb03f10db9d1"
  },
  {
   "cell_type": "code",
   "execution_count": 188,
   "outputs": [],
   "source": [
    "!pip install matplotlib -q\n",
    "!pip install seaborn -q\n",
    "!pip install pandas -q"
   ],
   "metadata": {
    "collapsed": false,
    "ExecuteTime": {
     "end_time": "2023-09-10T05:20:01.385035500Z",
     "start_time": "2023-09-10T05:19:56.142467500Z"
    }
   },
   "id": "initial_id"
  },
  {
   "cell_type": "code",
   "execution_count": 189,
   "outputs": [],
   "source": [
    "import pandas as pd\n",
    "import matplotlib.pyplot as plt\n",
    "import seaborn as sns\n",
    "import warnings\n",
    "warnings.filterwarnings('ignore')\n",
    "sns.set_style('dark')"
   ],
   "metadata": {
    "collapsed": false,
    "ExecuteTime": {
     "end_time": "2023-09-10T05:20:01.390582600Z",
     "start_time": "2023-09-10T05:20:01.386034400Z"
    }
   },
   "id": "33fc577027ce0c1"
  },
  {
   "cell_type": "markdown",
   "source": [
    "## Loading CSVs:\n",
    "Enter all the file paths of the CSVs here, how many ever there are: \n",
    "(Make sure all the paths are inside the `[ ]` square brackets, surrounded by `' '` marks, and seperated by `,` commas)\n",
    "\n",
    "**Example:**\n",
    "\n",
    ">path_list = ['D:\\PROJECTS\\practistics-template\\08_09_2023_Split_9-13.csv', 'D:\\PROJECTS\\practistics-template\\08_09_2023_Split_13-9.csv']"
   ],
   "metadata": {
    "collapsed": false
   },
   "id": "d0acb82f04bd6ca3"
  },
  {
   "cell_type": "code",
   "execution_count": 104,
   "outputs": [
    {
     "data": {
      "text/plain": "  first_kill  time first_death spike_plant  defuse   fb_team   fb_players  \\\n0       Raze    32      Cypher           B    True      team      BOIt OP   \n1       Sage    38       Gekko       False   False  opponent  Sasta rossi   \n2       Sage     9       Viper           A    True  opponent  Sasta rossi   \n3       Raze     7        Raze       False   False      team      BOIt OP   \n4       Raze     4        Raze           B   False  opponent      BOIt OP   \n\n     dt_players  team_buy  oppo_buy  total_kills  total_deaths awps_info  \\\n0       PavamaN       800       700            1             5      none   \n1        bhooka       600      2600            0             5      none   \n2  SadScientist      4200      3200            4             5      none   \n3       BOIt OP      3300      4600            6             4      none   \n4         tam0w      3900      3400            5             4      none   \n\n     side round_win  \n0  Attack      loss  \n1  Attack      loss  \n2  Attack      loss  \n3  Attack       win  \n4  Attack       win  ",
      "text/html": "<div>\n<style scoped>\n    .dataframe tbody tr th:only-of-type {\n        vertical-align: middle;\n    }\n\n    .dataframe tbody tr th {\n        vertical-align: top;\n    }\n\n    .dataframe thead th {\n        text-align: right;\n    }\n</style>\n<table border=\"1\" class=\"dataframe\">\n  <thead>\n    <tr style=\"text-align: right;\">\n      <th></th>\n      <th>first_kill</th>\n      <th>time</th>\n      <th>first_death</th>\n      <th>spike_plant</th>\n      <th>defuse</th>\n      <th>fb_team</th>\n      <th>fb_players</th>\n      <th>dt_players</th>\n      <th>team_buy</th>\n      <th>oppo_buy</th>\n      <th>total_kills</th>\n      <th>total_deaths</th>\n      <th>awps_info</th>\n      <th>side</th>\n      <th>round_win</th>\n    </tr>\n  </thead>\n  <tbody>\n    <tr>\n      <th>0</th>\n      <td>Raze</td>\n      <td>32</td>\n      <td>Cypher</td>\n      <td>B</td>\n      <td>True</td>\n      <td>team</td>\n      <td>BOIt OP</td>\n      <td>PavamaN</td>\n      <td>800</td>\n      <td>700</td>\n      <td>1</td>\n      <td>5</td>\n      <td>none</td>\n      <td>Attack</td>\n      <td>loss</td>\n    </tr>\n    <tr>\n      <th>1</th>\n      <td>Sage</td>\n      <td>38</td>\n      <td>Gekko</td>\n      <td>False</td>\n      <td>False</td>\n      <td>opponent</td>\n      <td>Sasta rossi</td>\n      <td>bhooka</td>\n      <td>600</td>\n      <td>2600</td>\n      <td>0</td>\n      <td>5</td>\n      <td>none</td>\n      <td>Attack</td>\n      <td>loss</td>\n    </tr>\n    <tr>\n      <th>2</th>\n      <td>Sage</td>\n      <td>9</td>\n      <td>Viper</td>\n      <td>A</td>\n      <td>True</td>\n      <td>opponent</td>\n      <td>Sasta rossi</td>\n      <td>SadScientist</td>\n      <td>4200</td>\n      <td>3200</td>\n      <td>4</td>\n      <td>5</td>\n      <td>none</td>\n      <td>Attack</td>\n      <td>loss</td>\n    </tr>\n    <tr>\n      <th>3</th>\n      <td>Raze</td>\n      <td>7</td>\n      <td>Raze</td>\n      <td>False</td>\n      <td>False</td>\n      <td>team</td>\n      <td>BOIt OP</td>\n      <td>BOIt OP</td>\n      <td>3300</td>\n      <td>4600</td>\n      <td>6</td>\n      <td>4</td>\n      <td>none</td>\n      <td>Attack</td>\n      <td>win</td>\n    </tr>\n    <tr>\n      <th>4</th>\n      <td>Raze</td>\n      <td>4</td>\n      <td>Raze</td>\n      <td>B</td>\n      <td>False</td>\n      <td>opponent</td>\n      <td>BOIt OP</td>\n      <td>tam0w</td>\n      <td>3900</td>\n      <td>3400</td>\n      <td>5</td>\n      <td>4</td>\n      <td>none</td>\n      <td>Attack</td>\n      <td>win</td>\n    </tr>\n  </tbody>\n</table>\n</div>"
     },
     "execution_count": 104,
     "metadata": {},
     "output_type": "execute_result"
    }
   ],
   "source": [
    "path_list = [r'D:\\PROJECTS\\practistics-template\\08_09_2023_Split_9-13.csv', r'D:\\PROJECTS\\practistics-template\\08_09_2023_Split_13-9.csv', r'D:\\PROJECTS\\practistics-template\\split_22_08_2023_time_12_56.csv', r'D:\\PROJECTS\\practistics-template\\08_09_2023_Split_10-13.csv']\n",
    "\n",
    "df = load_concat_csv(path_list)\n",
    "\n",
    "df.team_buy = df.team_buy.str.replace(',','')\n",
    "df.oppo_buy = df.oppo_buy.str.replace(',','')\n",
    "df.time = df.time.str.replace('0:0','')\n",
    "df.time = df.time.str.replace('0:','')\n",
    "df.time = df.time.str.replace('.','')\n",
    "\n",
    "df.team_buy = df.team_buy.astype(int)\n",
    "df.time = df.time.astype(int)\n",
    "df.oppo_buy = df.oppo_buy.astype(int)\n",
    "\n",
    "sepe = \"------------------------------\"\n",
    "\n",
    "df.head()"
   ],
   "metadata": {
    "collapsed": false,
    "ExecuteTime": {
     "end_time": "2023-09-10T04:15:46.819046300Z",
     "start_time": "2023-09-10T04:15:46.790927500Z"
    }
   },
   "id": "94d647fcd65b8768"
  },
  {
   "cell_type": "markdown",
   "source": [
    "# Analytics:\n",
    "\n",
    "We will now run different standard queries on the given loaded dataset to give us various bits of information regarding scrim performances."
   ],
   "metadata": {
    "collapsed": false
   },
   "id": "ba3be7a476c745f2"
  },
  {
   "cell_type": "markdown",
   "source": [
    "## Basics Stats:\n",
    "Basic computations performed on your dataset based on the whole map.\n"
   ],
   "metadata": {
    "collapsed": false
   },
   "id": "5d4e4c0cebdecba0"
  },
  {
   "cell_type": "code",
   "execution_count": 105,
   "outputs": [
    {
     "name": "stdout",
     "output_type": "stream",
     "text": [
      "Round Win %: 40.74%\n",
      "------------------------------\n",
      "Attack Win %: 39.13%\n",
      "Defense Win %: 42.86%\n",
      "------------------------------\n",
      "Anti-Eco Loss %: 50.0% (6/12)\n"
     ]
    },
    {
     "ename": "KeyError",
     "evalue": "'win'",
     "output_type": "error",
     "traceback": [
      "\u001B[1;31m---------------------------------------------------------------------------\u001B[0m",
      "\u001B[1;31mKeyError\u001B[0m                                  Traceback (most recent call last)",
      "File \u001B[1;32mD:\\PROJECTS\\practistics-template\\venv\\Lib\\site-packages\\pandas\\core\\indexes\\base.py:3790\u001B[0m, in \u001B[0;36mIndex.get_loc\u001B[1;34m(self, key)\u001B[0m\n\u001B[0;32m   3789\u001B[0m \u001B[38;5;28;01mtry\u001B[39;00m:\n\u001B[1;32m-> 3790\u001B[0m     \u001B[38;5;28;01mreturn\u001B[39;00m \u001B[38;5;28;43mself\u001B[39;49m\u001B[38;5;241;43m.\u001B[39;49m\u001B[43m_engine\u001B[49m\u001B[38;5;241;43m.\u001B[39;49m\u001B[43mget_loc\u001B[49m\u001B[43m(\u001B[49m\u001B[43mcasted_key\u001B[49m\u001B[43m)\u001B[49m\n\u001B[0;32m   3791\u001B[0m \u001B[38;5;28;01mexcept\u001B[39;00m \u001B[38;5;167;01mKeyError\u001B[39;00m \u001B[38;5;28;01mas\u001B[39;00m err:\n",
      "File \u001B[1;32mindex.pyx:152\u001B[0m, in \u001B[0;36mpandas._libs.index.IndexEngine.get_loc\u001B[1;34m()\u001B[0m\n",
      "File \u001B[1;32mindex.pyx:181\u001B[0m, in \u001B[0;36mpandas._libs.index.IndexEngine.get_loc\u001B[1;34m()\u001B[0m\n",
      "File \u001B[1;32mpandas\\_libs\\hashtable_class_helper.pxi:7080\u001B[0m, in \u001B[0;36mpandas._libs.hashtable.PyObjectHashTable.get_item\u001B[1;34m()\u001B[0m\n",
      "File \u001B[1;32mpandas\\_libs\\hashtable_class_helper.pxi:7088\u001B[0m, in \u001B[0;36mpandas._libs.hashtable.PyObjectHashTable.get_item\u001B[1;34m()\u001B[0m\n",
      "\u001B[1;31mKeyError\u001B[0m: 'win'",
      "\nThe above exception was the direct cause of the following exception:\n",
      "\u001B[1;31mKeyError\u001B[0m                                  Traceback (most recent call last)",
      "Cell \u001B[1;32mIn[105], line 19\u001B[0m\n\u001B[0;32m     16\u001B[0m eco_wins_pct \u001B[38;5;241m=\u001B[39m \u001B[38;5;28mfloat\u001B[39m(\u001B[38;5;124m\"\u001B[39m\u001B[38;5;132;01m{:.2f}\u001B[39;00m\u001B[38;5;124m\"\u001B[39m\u001B[38;5;241m.\u001B[39mformat(anti_ecos_lost \u001B[38;5;241m/\u001B[39m total_ecos_opp \u001B[38;5;241m*\u001B[39m \u001B[38;5;241m100\u001B[39m))\n\u001B[0;32m     17\u001B[0m \u001B[38;5;28mprint\u001B[39m(\u001B[38;5;124mf\u001B[39m\u001B[38;5;124m\"\u001B[39m\u001B[38;5;124mAnti-Eco Loss %: \u001B[39m\u001B[38;5;132;01m{\u001B[39;00meco_wins_pct\u001B[38;5;132;01m}\u001B[39;00m\u001B[38;5;124m% (\u001B[39m\u001B[38;5;132;01m{\u001B[39;00manti_ecos_lost\u001B[38;5;132;01m}\u001B[39;00m\u001B[38;5;124m/\u001B[39m\u001B[38;5;132;01m{\u001B[39;00mtotal_ecos_opp\u001B[38;5;132;01m}\u001B[39;00m\u001B[38;5;124m)\u001B[39m\u001B[38;5;124m\"\u001B[39m)\n\u001B[1;32m---> 19\u001B[0m eco_wins \u001B[38;5;241m=\u001B[39m \u001B[43mdf\u001B[49m\u001B[38;5;241;43m.\u001B[39;49m\u001B[43mquery\u001B[49m\u001B[43m(\u001B[49m\u001B[38;5;124;43m'\u001B[39;49m\u001B[38;5;124;43moppo_buy >= 3500 & team_buy <= 2700\u001B[39;49m\u001B[38;5;124;43m'\u001B[39;49m\u001B[43m)\u001B[49m\u001B[43m[\u001B[49m\u001B[38;5;124;43m'\u001B[39;49m\u001B[38;5;124;43mround_win\u001B[39;49m\u001B[38;5;124;43m'\u001B[39;49m\u001B[43m]\u001B[49m\u001B[38;5;241;43m.\u001B[39;49m\u001B[43mvalue_counts\u001B[49m\u001B[43m(\u001B[49m\u001B[43m)\u001B[49m\u001B[43m[\u001B[49m\u001B[38;5;124;43m'\u001B[39;49m\u001B[38;5;124;43mwin\u001B[39;49m\u001B[38;5;124;43m'\u001B[39;49m\u001B[43m]\u001B[49m\n\u001B[0;32m     20\u001B[0m total_ecos_team \u001B[38;5;241m=\u001B[39m df\u001B[38;5;241m.\u001B[39mquery(\u001B[38;5;124m'\u001B[39m\u001B[38;5;124moppo_buy >= 3500 & team_buy <= 2700\u001B[39m\u001B[38;5;124m'\u001B[39m)[\u001B[38;5;124m'\u001B[39m\u001B[38;5;124mround_win\u001B[39m\u001B[38;5;124m'\u001B[39m]\u001B[38;5;241m.\u001B[39mcount()\n\u001B[0;32m     21\u001B[0m eco_wins_pct \u001B[38;5;241m=\u001B[39m \u001B[38;5;28mfloat\u001B[39m(\u001B[38;5;124m\"\u001B[39m\u001B[38;5;132;01m{:.2f}\u001B[39;00m\u001B[38;5;124m\"\u001B[39m\u001B[38;5;241m.\u001B[39mformat(eco_wins \u001B[38;5;241m/\u001B[39m total_ecos_team \u001B[38;5;241m*\u001B[39m \u001B[38;5;241m100\u001B[39m))\n",
      "File \u001B[1;32mD:\\PROJECTS\\practistics-template\\venv\\Lib\\site-packages\\pandas\\core\\series.py:1040\u001B[0m, in \u001B[0;36mSeries.__getitem__\u001B[1;34m(self, key)\u001B[0m\n\u001B[0;32m   1037\u001B[0m     \u001B[38;5;28;01mreturn\u001B[39;00m \u001B[38;5;28mself\u001B[39m\u001B[38;5;241m.\u001B[39m_values[key]\n\u001B[0;32m   1039\u001B[0m \u001B[38;5;28;01melif\u001B[39;00m key_is_scalar:\n\u001B[1;32m-> 1040\u001B[0m     \u001B[38;5;28;01mreturn\u001B[39;00m \u001B[38;5;28;43mself\u001B[39;49m\u001B[38;5;241;43m.\u001B[39;49m\u001B[43m_get_value\u001B[49m\u001B[43m(\u001B[49m\u001B[43mkey\u001B[49m\u001B[43m)\u001B[49m\n\u001B[0;32m   1042\u001B[0m \u001B[38;5;66;03m# Convert generator to list before going through hashable part\u001B[39;00m\n\u001B[0;32m   1043\u001B[0m \u001B[38;5;66;03m# (We will iterate through the generator there to check for slices)\u001B[39;00m\n\u001B[0;32m   1044\u001B[0m \u001B[38;5;28;01mif\u001B[39;00m is_iterator(key):\n",
      "File \u001B[1;32mD:\\PROJECTS\\practistics-template\\venv\\Lib\\site-packages\\pandas\\core\\series.py:1156\u001B[0m, in \u001B[0;36mSeries._get_value\u001B[1;34m(self, label, takeable)\u001B[0m\n\u001B[0;32m   1153\u001B[0m     \u001B[38;5;28;01mreturn\u001B[39;00m \u001B[38;5;28mself\u001B[39m\u001B[38;5;241m.\u001B[39m_values[label]\n\u001B[0;32m   1155\u001B[0m \u001B[38;5;66;03m# Similar to Index.get_value, but we do not fall back to positional\u001B[39;00m\n\u001B[1;32m-> 1156\u001B[0m loc \u001B[38;5;241m=\u001B[39m \u001B[38;5;28;43mself\u001B[39;49m\u001B[38;5;241;43m.\u001B[39;49m\u001B[43mindex\u001B[49m\u001B[38;5;241;43m.\u001B[39;49m\u001B[43mget_loc\u001B[49m\u001B[43m(\u001B[49m\u001B[43mlabel\u001B[49m\u001B[43m)\u001B[49m\n\u001B[0;32m   1158\u001B[0m \u001B[38;5;28;01mif\u001B[39;00m is_integer(loc):\n\u001B[0;32m   1159\u001B[0m     \u001B[38;5;28;01mreturn\u001B[39;00m \u001B[38;5;28mself\u001B[39m\u001B[38;5;241m.\u001B[39m_values[loc]\n",
      "File \u001B[1;32mD:\\PROJECTS\\practistics-template\\venv\\Lib\\site-packages\\pandas\\core\\indexes\\base.py:3797\u001B[0m, in \u001B[0;36mIndex.get_loc\u001B[1;34m(self, key)\u001B[0m\n\u001B[0;32m   3792\u001B[0m     \u001B[38;5;28;01mif\u001B[39;00m \u001B[38;5;28misinstance\u001B[39m(casted_key, \u001B[38;5;28mslice\u001B[39m) \u001B[38;5;129;01mor\u001B[39;00m (\n\u001B[0;32m   3793\u001B[0m         \u001B[38;5;28misinstance\u001B[39m(casted_key, abc\u001B[38;5;241m.\u001B[39mIterable)\n\u001B[0;32m   3794\u001B[0m         \u001B[38;5;129;01mand\u001B[39;00m \u001B[38;5;28many\u001B[39m(\u001B[38;5;28misinstance\u001B[39m(x, \u001B[38;5;28mslice\u001B[39m) \u001B[38;5;28;01mfor\u001B[39;00m x \u001B[38;5;129;01min\u001B[39;00m casted_key)\n\u001B[0;32m   3795\u001B[0m     ):\n\u001B[0;32m   3796\u001B[0m         \u001B[38;5;28;01mraise\u001B[39;00m InvalidIndexError(key)\n\u001B[1;32m-> 3797\u001B[0m     \u001B[38;5;28;01mraise\u001B[39;00m \u001B[38;5;167;01mKeyError\u001B[39;00m(key) \u001B[38;5;28;01mfrom\u001B[39;00m \u001B[38;5;21;01merr\u001B[39;00m\n\u001B[0;32m   3798\u001B[0m \u001B[38;5;28;01mexcept\u001B[39;00m \u001B[38;5;167;01mTypeError\u001B[39;00m:\n\u001B[0;32m   3799\u001B[0m     \u001B[38;5;66;03m# If we have a listlike key, _check_indexing_error will raise\u001B[39;00m\n\u001B[0;32m   3800\u001B[0m     \u001B[38;5;66;03m#  InvalidIndexError. Otherwise we fall through and re-raise\u001B[39;00m\n\u001B[0;32m   3801\u001B[0m     \u001B[38;5;66;03m#  the TypeError.\u001B[39;00m\n\u001B[0;32m   3802\u001B[0m     \u001B[38;5;28mself\u001B[39m\u001B[38;5;241m.\u001B[39m_check_indexing_error(key)\n",
      "\u001B[1;31mKeyError\u001B[0m: 'win'"
     ]
    }
   ],
   "source": [
    "win_percent = float(\"{:.2f}\".format((df['round_win'].value_counts()[1] / df['round_win'].count() * 100)))\n",
    "print(f\"Round Win %: {win_percent}%\")\n",
    "\n",
    "print(sepe)\n",
    "\n",
    "attack_win_pct = float(\"{:.2f}\".format((df[df['side'] == \"Attack\"]['round_win'].value_counts()[1] / df[df['side'] == \"Attack\"]['round_win'].count() * 100)))\n",
    "print(f\"Attack Win %: {attack_win_pct}%\")\n",
    "\n",
    "def_win_pct = float(\"{:.2f}\".format((df[df['side'] == \"Defense\"]['round_win'].value_counts()[1] / df[df['side'] == \"Defense\"]['round_win'].count() * 100)))\n",
    "print(f\"Defense Win %: {def_win_pct}%\")\n",
    "\n",
    "print(sepe)\n",
    "\n",
    "anti_ecos_lost = df.query('team_buy >= 3500 & oppo_buy <= 2700')['round_win'].value_counts()['loss']\n",
    "total_ecos_opp = df.query('team_buy >= 3500 & oppo_buy <= 2000')['round_win'].count()\n",
    "eco_wins_pct = float(\"{:.2f}\".format(anti_ecos_lost / total_ecos_opp * 100))\n",
    "print(f\"Anti-Eco Loss %: {eco_wins_pct}% ({anti_ecos_lost}/{total_ecos_opp})\")\n",
    "\n",
    "eco_wins = df.query('oppo_buy >= 3500 & team_buy <= 2700')['round_win'].value_counts()['win']\n",
    "total_ecos_team = df.query('oppo_buy >= 3500 & team_buy <= 2700')['round_win'].count()\n",
    "eco_wins_pct = float(\"{:.2f}\".format(eco_wins / total_ecos_team * 100))\n",
    "print(f\"Eco Win %: {eco_wins_pct}% ({eco_wins}/{total_ecos_team})\")\n",
    "\n",
    "print(sepe)\n",
    "\n",
    "post_plants_wins = df.query('spike_plant == \"A\"| spike_plant == \"B\"')['round_win'].value_counts()['win']\n",
    "total_post_plants = df.query('spike_plant == \"A\"| spike_plant == \"B\"')['round_win'].count()\n",
    "pp_win_pct = float(\"{:.2f}\".format(post_plants_wins / total_post_plants * 100))\n",
    "print(f\"Post-Plant Win %: {pp_win_pct}% ({post_plants_wins}/{total_post_plants})\")\n",
    "\n",
    "retake_wins = df.query('oppo_buy >= 3500 & team_buy <= 2700')['round_win'].value_counts()['win']\n",
    "total_retakes = df.query('oppo_buy >= 3500 & team_buy <= 2700')['round_win'].count()\n",
    "retake_win_pct = float(\"{:.2f}\".format(retake_wins / total_retakes * 100))\n",
    "print(f\"Eco Win %: {retake_wins}% ({retake_wins}/{total_retakes})\")\n"
   ],
   "metadata": {
    "collapsed": false,
    "ExecuteTime": {
     "end_time": "2023-09-10T04:15:46.916093400Z",
     "start_time": "2023-09-10T04:15:46.821042600Z"
    }
   },
   "id": "ac0501ed9aa330f2"
  },
  {
   "cell_type": "code",
   "execution_count": 256,
   "outputs": [
    {
     "name": "stdout",
     "output_type": "stream",
     "text": [
      "Winrate when the first kill is in the first 10 seconds: 85.71% (12/14)\n",
      "Winrate when the first kill is between 10-20 seconds of the round: 50.0% (6/12)\n",
      "Winrate when the first kill is after 20 seconds: 44.44% (4/9)\n"
     ]
    }
   ],
   "source": [
    "early = df.query('time <= 10 & fb_team == \"team\"')\n",
    "early_wins = early.round_win.value_counts()['win']\n",
    "early_total = early.round_win.count()\n",
    "early_win_pct = float(\"{:.2f}\".format((early_wins / early_total) * 100))\n",
    "print(f'Winrate when the first kill is in the first 10 seconds: {early_win_pct}% ({early_wins}/{early_total})')\n",
    "\n",
    "mid = df.query('20 > time > 10 & fb_team == \"team\"')\n",
    "mid_wins = mid.round_win.value_counts()['win']\n",
    "mid_total = mid.round_win.count()\n",
    "mid_win_pct = float(\"{:.2f}\".format((mid_wins / mid_total) * 100))\n",
    "print(f'Winrate when the first kill is between 10-20 seconds of the round: {mid_win_pct}% ({mid_wins}/{mid_total})')\n",
    "\n",
    "late = df.query('time >= 20 & fb_team == \"team\"')\n",
    "late_wins = late.round_win.value_counts()['win']\n",
    "late_total = late.round_win.count()\n",
    "late_win_pct = float(\"{:.2f}\".format((late_wins / late_total) * 100))\n",
    "print(f'Winrate when the first kill is after 20 seconds: {late_win_pct}% ({late_wins}/{late_total})')\n",
    "\n",
    "sns.barplot(y=[early_win_pct,mid_win_pct,late_win_pct], x=['0 - 10','10 - 20','beyond 20'], color='green')\n",
    "plt.xlabel('first kill time (seconds)')\n",
    "plt.ylabel('round winrate %')\n",
    "plt.title('Avg. Winrate when your team gets first kill in different time brackets')\n",
    "plt.show()"
   ],
   "metadata": {
    "collapsed": false,
    "ExecuteTime": {
     "end_time": "2023-09-10T08:48:58.458343700Z",
     "start_time": "2023-09-10T08:48:58.252290600Z"
    }
   },
   "id": "c946d4420ae79369"
  },
  {
   "cell_type": "markdown",
   "source": [
    "## Site-Based Stats:\n",
    "\n",
    "## A-Site Stats:\n",
    "\n"
   ],
   "metadata": {
    "collapsed": false
   },
   "id": "e9c33f52860a0347"
  },
  {
   "cell_type": "markdown",
   "source": [],
   "metadata": {
    "collapsed": false
   },
   "id": "65a64350a14b8d78"
  },
  {
   "cell_type": "code",
   "execution_count": 107,
   "outputs": [
    {
     "name": "stdout",
     "output_type": "stream",
     "text": [
      "A Retake %: 8.33% (1/12)\n",
      "A Site Concede %: 70.59% (12/17)\n"
     ]
    }
   ],
   "source": [
    "a_def_won = df.query('side == \"Defense\" & spike_plant == \"A\"')['round_win'].value_counts()['win']\n",
    "a_plants = df.query('side == \"Defense\" & spike_plant == \"A\"')['round_win'].count()\n",
    "plants = df.query('side == \"Defense\" & (spike_plant == \"A\" | spike_plant == \"B\")')['round_win'].count()\n",
    "a_retake_pct = float(\"{:.2f}\".format(a_def_won / a_plants * 100))\n",
    "a_concede_pct = float(\"{:.2f}\".format(a_plants / plants * 100))\n",
    "print(f\"A Retake %: {a_retake_pct}% ({a_def_won}/{a_plants})\")\n",
    "print(f\"A Site Concede %: {a_concede_pct}% ({a_plants}/{plants})\")"
   ],
   "metadata": {
    "collapsed": false,
    "ExecuteTime": {
     "start_time": "2023-09-10T04:44:45.884060400Z"
    }
   },
   "id": "eebec7f84361153e"
  },
  {
   "cell_type": "markdown",
   "source": [
    "## B-Site Stats:"
   ],
   "metadata": {
    "collapsed": false
   },
   "id": "82bdd0e595ff13eb"
  },
  {
   "cell_type": "code",
   "execution_count": 108,
   "outputs": [
    {
     "ename": "KeyError",
     "evalue": "'win'",
     "output_type": "error",
     "traceback": [
      "\u001B[1;31m---------------------------------------------------------------------------\u001B[0m",
      "\u001B[1;31mKeyError\u001B[0m                                  Traceback (most recent call last)",
      "File \u001B[1;32mD:\\PROJECTS\\practistics-template\\venv\\Lib\\site-packages\\pandas\\core\\indexes\\base.py:3790\u001B[0m, in \u001B[0;36mIndex.get_loc\u001B[1;34m(self, key)\u001B[0m\n\u001B[0;32m   3789\u001B[0m \u001B[38;5;28;01mtry\u001B[39;00m:\n\u001B[1;32m-> 3790\u001B[0m     \u001B[38;5;28;01mreturn\u001B[39;00m \u001B[38;5;28;43mself\u001B[39;49m\u001B[38;5;241;43m.\u001B[39;49m\u001B[43m_engine\u001B[49m\u001B[38;5;241;43m.\u001B[39;49m\u001B[43mget_loc\u001B[49m\u001B[43m(\u001B[49m\u001B[43mcasted_key\u001B[49m\u001B[43m)\u001B[49m\n\u001B[0;32m   3791\u001B[0m \u001B[38;5;28;01mexcept\u001B[39;00m \u001B[38;5;167;01mKeyError\u001B[39;00m \u001B[38;5;28;01mas\u001B[39;00m err:\n",
      "File \u001B[1;32mindex.pyx:152\u001B[0m, in \u001B[0;36mpandas._libs.index.IndexEngine.get_loc\u001B[1;34m()\u001B[0m\n",
      "File \u001B[1;32mindex.pyx:181\u001B[0m, in \u001B[0;36mpandas._libs.index.IndexEngine.get_loc\u001B[1;34m()\u001B[0m\n",
      "File \u001B[1;32mpandas\\_libs\\hashtable_class_helper.pxi:7080\u001B[0m, in \u001B[0;36mpandas._libs.hashtable.PyObjectHashTable.get_item\u001B[1;34m()\u001B[0m\n",
      "File \u001B[1;32mpandas\\_libs\\hashtable_class_helper.pxi:7088\u001B[0m, in \u001B[0;36mpandas._libs.hashtable.PyObjectHashTable.get_item\u001B[1;34m()\u001B[0m\n",
      "\u001B[1;31mKeyError\u001B[0m: 'win'",
      "\nThe above exception was the direct cause of the following exception:\n",
      "\u001B[1;31mKeyError\u001B[0m                                  Traceback (most recent call last)",
      "Cell \u001B[1;32mIn[108], line 1\u001B[0m\n\u001B[1;32m----> 1\u001B[0m b_def_won \u001B[38;5;241m=\u001B[39m \u001B[43mdf\u001B[49m\u001B[38;5;241;43m.\u001B[39;49m\u001B[43mquery\u001B[49m\u001B[43m(\u001B[49m\u001B[38;5;124;43m'\u001B[39;49m\u001B[38;5;124;43mside == \u001B[39;49m\u001B[38;5;124;43m\"\u001B[39;49m\u001B[38;5;124;43mDefense\u001B[39;49m\u001B[38;5;124;43m\"\u001B[39;49m\u001B[38;5;124;43m & spike_plant == \u001B[39;49m\u001B[38;5;124;43m\"\u001B[39;49m\u001B[38;5;124;43mB\u001B[39;49m\u001B[38;5;124;43m\"\u001B[39;49m\u001B[38;5;124;43m'\u001B[39;49m\u001B[43m)\u001B[49m\u001B[43m[\u001B[49m\u001B[38;5;124;43m'\u001B[39;49m\u001B[38;5;124;43mround_win\u001B[39;49m\u001B[38;5;124;43m'\u001B[39;49m\u001B[43m]\u001B[49m\u001B[38;5;241;43m.\u001B[39;49m\u001B[43mvalue_counts\u001B[49m\u001B[43m(\u001B[49m\u001B[43m)\u001B[49m\u001B[43m[\u001B[49m\u001B[38;5;124;43m'\u001B[39;49m\u001B[38;5;124;43mwin\u001B[39;49m\u001B[38;5;124;43m'\u001B[39;49m\u001B[43m]\u001B[49m\n\u001B[0;32m      2\u001B[0m b_plants \u001B[38;5;241m=\u001B[39m df\u001B[38;5;241m.\u001B[39mquery(\u001B[38;5;124m'\u001B[39m\u001B[38;5;124mside == \u001B[39m\u001B[38;5;124m\"\u001B[39m\u001B[38;5;124mDefense\u001B[39m\u001B[38;5;124m\"\u001B[39m\u001B[38;5;124m & spike_plant == \u001B[39m\u001B[38;5;124m\"\u001B[39m\u001B[38;5;124mB\u001B[39m\u001B[38;5;124m\"\u001B[39m\u001B[38;5;124m'\u001B[39m)[\u001B[38;5;124m'\u001B[39m\u001B[38;5;124mround_win\u001B[39m\u001B[38;5;124m'\u001B[39m]\u001B[38;5;241m.\u001B[39mcount()\n\u001B[0;32m      3\u001B[0m plants \u001B[38;5;241m=\u001B[39m df\u001B[38;5;241m.\u001B[39mquery(\u001B[38;5;124m'\u001B[39m\u001B[38;5;124mside == \u001B[39m\u001B[38;5;124m\"\u001B[39m\u001B[38;5;124mDefense\u001B[39m\u001B[38;5;124m\"\u001B[39m\u001B[38;5;124m & (spike_plant == \u001B[39m\u001B[38;5;124m\"\u001B[39m\u001B[38;5;124mB\u001B[39m\u001B[38;5;124m\"\u001B[39m\u001B[38;5;124m | spike_plant == \u001B[39m\u001B[38;5;124m\"\u001B[39m\u001B[38;5;124mB\u001B[39m\u001B[38;5;124m\"\u001B[39m\u001B[38;5;124m)\u001B[39m\u001B[38;5;124m'\u001B[39m)[\u001B[38;5;124m'\u001B[39m\u001B[38;5;124mround_win\u001B[39m\u001B[38;5;124m'\u001B[39m]\u001B[38;5;241m.\u001B[39mcount()\n",
      "File \u001B[1;32mD:\\PROJECTS\\practistics-template\\venv\\Lib\\site-packages\\pandas\\core\\series.py:1040\u001B[0m, in \u001B[0;36mSeries.__getitem__\u001B[1;34m(self, key)\u001B[0m\n\u001B[0;32m   1037\u001B[0m     \u001B[38;5;28;01mreturn\u001B[39;00m \u001B[38;5;28mself\u001B[39m\u001B[38;5;241m.\u001B[39m_values[key]\n\u001B[0;32m   1039\u001B[0m \u001B[38;5;28;01melif\u001B[39;00m key_is_scalar:\n\u001B[1;32m-> 1040\u001B[0m     \u001B[38;5;28;01mreturn\u001B[39;00m \u001B[38;5;28;43mself\u001B[39;49m\u001B[38;5;241;43m.\u001B[39;49m\u001B[43m_get_value\u001B[49m\u001B[43m(\u001B[49m\u001B[43mkey\u001B[49m\u001B[43m)\u001B[49m\n\u001B[0;32m   1042\u001B[0m \u001B[38;5;66;03m# Convert generator to list before going through hashable part\u001B[39;00m\n\u001B[0;32m   1043\u001B[0m \u001B[38;5;66;03m# (We will iterate through the generator there to check for slices)\u001B[39;00m\n\u001B[0;32m   1044\u001B[0m \u001B[38;5;28;01mif\u001B[39;00m is_iterator(key):\n",
      "File \u001B[1;32mD:\\PROJECTS\\practistics-template\\venv\\Lib\\site-packages\\pandas\\core\\series.py:1156\u001B[0m, in \u001B[0;36mSeries._get_value\u001B[1;34m(self, label, takeable)\u001B[0m\n\u001B[0;32m   1153\u001B[0m     \u001B[38;5;28;01mreturn\u001B[39;00m \u001B[38;5;28mself\u001B[39m\u001B[38;5;241m.\u001B[39m_values[label]\n\u001B[0;32m   1155\u001B[0m \u001B[38;5;66;03m# Similar to Index.get_value, but we do not fall back to positional\u001B[39;00m\n\u001B[1;32m-> 1156\u001B[0m loc \u001B[38;5;241m=\u001B[39m \u001B[38;5;28;43mself\u001B[39;49m\u001B[38;5;241;43m.\u001B[39;49m\u001B[43mindex\u001B[49m\u001B[38;5;241;43m.\u001B[39;49m\u001B[43mget_loc\u001B[49m\u001B[43m(\u001B[49m\u001B[43mlabel\u001B[49m\u001B[43m)\u001B[49m\n\u001B[0;32m   1158\u001B[0m \u001B[38;5;28;01mif\u001B[39;00m is_integer(loc):\n\u001B[0;32m   1159\u001B[0m     \u001B[38;5;28;01mreturn\u001B[39;00m \u001B[38;5;28mself\u001B[39m\u001B[38;5;241m.\u001B[39m_values[loc]\n",
      "File \u001B[1;32mD:\\PROJECTS\\practistics-template\\venv\\Lib\\site-packages\\pandas\\core\\indexes\\base.py:3797\u001B[0m, in \u001B[0;36mIndex.get_loc\u001B[1;34m(self, key)\u001B[0m\n\u001B[0;32m   3792\u001B[0m     \u001B[38;5;28;01mif\u001B[39;00m \u001B[38;5;28misinstance\u001B[39m(casted_key, \u001B[38;5;28mslice\u001B[39m) \u001B[38;5;129;01mor\u001B[39;00m (\n\u001B[0;32m   3793\u001B[0m         \u001B[38;5;28misinstance\u001B[39m(casted_key, abc\u001B[38;5;241m.\u001B[39mIterable)\n\u001B[0;32m   3794\u001B[0m         \u001B[38;5;129;01mand\u001B[39;00m \u001B[38;5;28many\u001B[39m(\u001B[38;5;28misinstance\u001B[39m(x, \u001B[38;5;28mslice\u001B[39m) \u001B[38;5;28;01mfor\u001B[39;00m x \u001B[38;5;129;01min\u001B[39;00m casted_key)\n\u001B[0;32m   3795\u001B[0m     ):\n\u001B[0;32m   3796\u001B[0m         \u001B[38;5;28;01mraise\u001B[39;00m InvalidIndexError(key)\n\u001B[1;32m-> 3797\u001B[0m     \u001B[38;5;28;01mraise\u001B[39;00m \u001B[38;5;167;01mKeyError\u001B[39;00m(key) \u001B[38;5;28;01mfrom\u001B[39;00m \u001B[38;5;21;01merr\u001B[39;00m\n\u001B[0;32m   3798\u001B[0m \u001B[38;5;28;01mexcept\u001B[39;00m \u001B[38;5;167;01mTypeError\u001B[39;00m:\n\u001B[0;32m   3799\u001B[0m     \u001B[38;5;66;03m# If we have a listlike key, _check_indexing_error will raise\u001B[39;00m\n\u001B[0;32m   3800\u001B[0m     \u001B[38;5;66;03m#  InvalidIndexError. Otherwise we fall through and re-raise\u001B[39;00m\n\u001B[0;32m   3801\u001B[0m     \u001B[38;5;66;03m#  the TypeError.\u001B[39;00m\n\u001B[0;32m   3802\u001B[0m     \u001B[38;5;28mself\u001B[39m\u001B[38;5;241m.\u001B[39m_check_indexing_error(key)\n",
      "\u001B[1;31mKeyError\u001B[0m: 'win'"
     ]
    }
   ],
   "source": [
    "b_def_won = df.query('side == \"Defense\" & spike_plant == \"B\"')['round_win'].value_counts()['win']\n",
    "b_plants = df.query('side == \"Defense\" & spike_plant == \"B\"')['round_win'].count()\n",
    "plants = df.query('side == \"Defense\" & (spike_plant == \"B\" | spike_plant == \"B\")')['round_win'].count()\n",
    "b_retake_pct = float(\"{:.2f}\".format(b_def_won / b_plants * 100))\n",
    "b_concede_pct = float(\"{:.2f}\".format(b_plants / plants * 100))\n",
    "print(f\"B Retake %: {b_retake_pct}% ({b_def_won}/{b_plants})\")\n",
    "print(f\"B Site Concede %: {b_concede_pct}% ({b_plants}/{plants})\")"
   ],
   "metadata": {
    "collapsed": false,
    "ExecuteTime": {
     "start_time": "2023-09-10T04:44:46.892652700Z"
    }
   },
   "id": "e1a44a6f8e739551"
  },
  {
   "cell_type": "markdown",
   "source": [],
   "metadata": {
    "collapsed": false
   },
   "id": "fdcbf1a9e4a6cc04"
  },
  {
   "cell_type": "code",
   "execution_count": 198,
   "outputs": [
    {
     "data": {
      "text/plain": "count    81.000000\nmean     13.209877\nstd      10.127581\nmin       2.000000\n25%       7.000000\n50%      10.000000\n75%      16.000000\nmax      53.000000\nName: time, dtype: float64"
     },
     "execution_count": 198,
     "metadata": {},
     "output_type": "execute_result"
    }
   ],
   "source": [
    "df.time.describe()"
   ],
   "metadata": {
    "collapsed": false,
    "ExecuteTime": {
     "start_time": "2023-09-10T05:22:29.211620500Z"
    }
   },
   "id": "5c84d69f1ba69bbd"
  },
  {
   "cell_type": "code",
   "execution_count": null,
   "outputs": [],
   "source": [],
   "metadata": {
    "collapsed": false
   },
   "id": "cd00e26df2fbcdac"
  },
  {
   "cell_type": "markdown",
   "source": [
    "1) Attack Side vs Def Side Win rate"
   ],
   "metadata": {
    "collapsed": false
   },
   "id": "9be37ebe3d2ffd52"
  },
  {
   "cell_type": "code",
   "execution_count": null,
   "outputs": [],
   "source": [
    "sns.set_palette(\"husl\") \n",
    "sns.scatterplot(df, x=df['oppo_buy'],y=df['team_buy'],hue=df['round_win'])\n",
    "plt.xlabel('opponent buy')\n",
    "plt.ylabel('team buy')\n",
    "plt.title('Distribution of every round won or lost based on economies')"
   ],
   "metadata": {
    "collapsed": false,
    "ExecuteTime": {
     "start_time": "2023-09-10T04:15:46.896147400Z"
    }
   },
   "id": "fbc7d90a5ea95fdc"
  },
  {
   "cell_type": "code",
   "execution_count": null,
   "outputs": [],
   "source": [],
   "metadata": {
    "collapsed": false,
    "ExecuteTime": {
     "start_time": "2023-09-10T04:15:46.897144700Z"
    }
   },
   "id": "3007089e315328af"
  },
  {
   "cell_type": "code",
   "execution_count": null,
   "outputs": [],
   "source": [],
   "metadata": {
    "collapsed": false,
    "ExecuteTime": {
     "start_time": "2023-09-10T04:15:46.898141900Z"
    }
   },
   "id": "d6135cadb120feb4"
  },
  {
   "cell_type": "code",
   "execution_count": null,
   "outputs": [],
   "source": [],
   "metadata": {
    "collapsed": false,
    "ExecuteTime": {
     "start_time": "2023-09-10T04:15:46.900136600Z"
    }
   },
   "id": "6c9f899421dcb1c0"
  },
  {
   "cell_type": "code",
   "execution_count": 254,
   "outputs": [
    {
     "data": {
      "text/plain": "   first_kill  time first_death spike_plant  defuse fb_team   fb_players  \\\n0        Raze    32      Cypher           B    True    team      BOIt OP   \n3        Raze     7        Raze       False   False    team      BOIt OP   \n5        Raze     9      Cypher           B   False    team      BOIt OP   \n6        Raze    16      Cypher           B    True    team      BOIt OP   \n7       Viper    20        Sage       False   False    team          NaN   \n12      Gekko    16       KAYIO       False   False    team          NaN   \n13      Viper    11        Sage       False   False    team          NaN   \n14       Raze    14       KAYIO       False   False    team      BOIt OP   \n15      Reyna    53      Cypher       False   False    team          NaN   \n16       Raze    40       KAYIO       False   False    team      BOIt OP   \n20      Viper     7        Sage       False   False    team          NaN   \n8       Reyna    12       Reyna           A   False    team  Silly Boost   \n12       Skye     6        Jett           B   False    team       Zmewus   \n14       Raze    13       Reyna           A   False    team          NaN   \n15       Omen    12       Reyna           B   False    team         2107   \n17       Sage     9        Jett           B   False    team          NaN   \n18       Raze    12        Jett           B   False    team          NaN   \n19       Omen    30        Jett           B   False    team         2107   \n21       Raze     8        Skye           A   False    team          NaN   \n0       Reyna    16        Raze       False    True    team   One Bullet   \n3        Omen    19        Raze       False    True    team         2107   \n6        Sova    24       Reyna       False    True    team       Zmewus   \n7        Jett    22       Reyna       False    True    team          NaN   \n11      Reyna     8        Sova       False    True    team   One Bullet   \n0        Jett    10        Sage           A   False    team          NaN   \n4        Jett     3        Raze           B   False    team          NaN   \n5        Jett    14        Sage           B    True    team          NaN   \n12      Astra    10        Raze       False   False    team          NaN   \n13   Deadlock    27       Reyna       False   False    team          NaN   \n15       Skye     5        Raze           A    True    team         NEPX   \n17       Raze     7        Skye           B   False    team      HMI mrX   \n18       Jett    16       Reyna       False   False    team          NaN   \n19   Deadlock     6        Skye       False   False    team          NaN   \n21       Raze     7       Reyna       False   False    team      HMI mrX   \n22       Jett    20        Raze           A   False    team          NaN   \n\n       dt_players  team_buy  oppo_buy  total_kills  total_deaths awps_info  \\\n0         PavamaN       800       700            1             5      none   \n3         BOIt OP      3300      4600            6             4      none   \n5         PavamaN      3800      4000            5             1      none   \n6         PavamaN      4300       900            2             5      none   \n7     Sasta rossi      4500      4900            2             5      none   \n12        MA DMAN       800       700            5             4      none   \n13    Sasta rossi      2900       200            5             0      none   \n14        MA DMAN      3500      4200            4             5      none   \n15        PavamaN      4100      3400            5             0      none   \n16        MA DMAN      4500       600            5             1      none   \n20    Sasta rossi      4200      4500            5             2      none   \n8     Silly Boost      3300      4700            2             5      none   \n12     melancholy       800       800            5             4      none   \n14    Silly Boost      3800      4000            5             2      none   \n15    Silly Boost      4800       400            5             3      none   \n17     melancholy      4400      2400            5             2      none   \n18     melancholy      4700      4500            5             3  opponent   \n19     melancholy      4800      2200            5             1      none   \n21         Zmewus      4700      3300            5             2      none   \n0   kittymeowmeow       800       700            2             5      none   \n3   kittymeowmeow      4200       400            3             5      none   \n6      One Bullet      2000      4700            4             5      none   \n7      One Bullet      4500      4500            3             5      none   \n11         Zmewus      3300      5200            4             5  opponent   \n0           Leozm       800       800            5             4      none   \n4         HMI mrX      3300       400            5             1  opponent   \n5           Leozm      4800      4000            4             5      team   \n12        HMI mrX       700       800            5             4      none   \n13    XXxMANASxXx      3100       400            5             0      none   \n15        HMI mrX      4400      1700            5             3      none   \n17           NEPX      4400      4700            3             5      none   \n18    XXxMANASxXx      3500      4700            5             1      none   \n19           NEPX      4100      2600            5             3      none   \n21    XXxMANASxXx      4100      4600            5             4      none   \n22        HMI mrX      4100       600            2             5      none   \n\n       side round_win        counts  \n0    Attack      loss  (30.0, 35.0]  \n3    Attack       win   (5.0, 10.0]  \n5    Attack       win   (5.0, 10.0]  \n6    Attack      loss  (15.0, 20.0]  \n7    Attack      loss  (15.0, 20.0]  \n12  Defense       win  (15.0, 20.0]  \n13  Defense       win  (10.0, 15.0]  \n14  Defense      loss  (10.0, 15.0]  \n15  Defense       win           NaN  \n16  Defense       win  (35.0, 40.0]  \n20  Defense       win   (5.0, 10.0]  \n8   Defense      loss  (10.0, 15.0]  \n12   Attack       win   (5.0, 10.0]  \n14   Attack       win  (10.0, 15.0]  \n15   Attack       win  (10.0, 15.0]  \n17   Attack       win   (5.0, 10.0]  \n18   Attack       win  (10.0, 15.0]  \n19   Attack       win  (25.0, 30.0]  \n21   Attack       win   (5.0, 10.0]  \n0    Attack      loss  (15.0, 20.0]  \n3    Attack      loss  (15.0, 20.0]  \n6    Attack      loss  (20.0, 25.0]  \n7    Attack      loss  (20.0, 25.0]  \n11   Attack      loss   (5.0, 10.0]  \n0    Attack       win   (5.0, 10.0]  \n4    Attack       win    (0.0, 5.0]  \n5    Attack      loss  (10.0, 15.0]  \n12  Defense       win   (5.0, 10.0]  \n13  Defense       win  (25.0, 30.0]  \n15  Defense       win    (0.0, 5.0]  \n17  Defense      loss   (5.0, 10.0]  \n18  Defense       win  (15.0, 20.0]  \n19  Defense       win   (5.0, 10.0]  \n21  Defense       win   (5.0, 10.0]  \n22  Defense      loss  (15.0, 20.0]  ",
      "text/html": "<div>\n<style scoped>\n    .dataframe tbody tr th:only-of-type {\n        vertical-align: middle;\n    }\n\n    .dataframe tbody tr th {\n        vertical-align: top;\n    }\n\n    .dataframe thead th {\n        text-align: right;\n    }\n</style>\n<table border=\"1\" class=\"dataframe\">\n  <thead>\n    <tr style=\"text-align: right;\">\n      <th></th>\n      <th>first_kill</th>\n      <th>time</th>\n      <th>first_death</th>\n      <th>spike_plant</th>\n      <th>defuse</th>\n      <th>fb_team</th>\n      <th>fb_players</th>\n      <th>dt_players</th>\n      <th>team_buy</th>\n      <th>oppo_buy</th>\n      <th>total_kills</th>\n      <th>total_deaths</th>\n      <th>awps_info</th>\n      <th>side</th>\n      <th>round_win</th>\n      <th>counts</th>\n    </tr>\n  </thead>\n  <tbody>\n    <tr>\n      <th>0</th>\n      <td>Raze</td>\n      <td>32</td>\n      <td>Cypher</td>\n      <td>B</td>\n      <td>True</td>\n      <td>team</td>\n      <td>BOIt OP</td>\n      <td>PavamaN</td>\n      <td>800</td>\n      <td>700</td>\n      <td>1</td>\n      <td>5</td>\n      <td>none</td>\n      <td>Attack</td>\n      <td>loss</td>\n      <td>(30.0, 35.0]</td>\n    </tr>\n    <tr>\n      <th>3</th>\n      <td>Raze</td>\n      <td>7</td>\n      <td>Raze</td>\n      <td>False</td>\n      <td>False</td>\n      <td>team</td>\n      <td>BOIt OP</td>\n      <td>BOIt OP</td>\n      <td>3300</td>\n      <td>4600</td>\n      <td>6</td>\n      <td>4</td>\n      <td>none</td>\n      <td>Attack</td>\n      <td>win</td>\n      <td>(5.0, 10.0]</td>\n    </tr>\n    <tr>\n      <th>5</th>\n      <td>Raze</td>\n      <td>9</td>\n      <td>Cypher</td>\n      <td>B</td>\n      <td>False</td>\n      <td>team</td>\n      <td>BOIt OP</td>\n      <td>PavamaN</td>\n      <td>3800</td>\n      <td>4000</td>\n      <td>5</td>\n      <td>1</td>\n      <td>none</td>\n      <td>Attack</td>\n      <td>win</td>\n      <td>(5.0, 10.0]</td>\n    </tr>\n    <tr>\n      <th>6</th>\n      <td>Raze</td>\n      <td>16</td>\n      <td>Cypher</td>\n      <td>B</td>\n      <td>True</td>\n      <td>team</td>\n      <td>BOIt OP</td>\n      <td>PavamaN</td>\n      <td>4300</td>\n      <td>900</td>\n      <td>2</td>\n      <td>5</td>\n      <td>none</td>\n      <td>Attack</td>\n      <td>loss</td>\n      <td>(15.0, 20.0]</td>\n    </tr>\n    <tr>\n      <th>7</th>\n      <td>Viper</td>\n      <td>20</td>\n      <td>Sage</td>\n      <td>False</td>\n      <td>False</td>\n      <td>team</td>\n      <td>NaN</td>\n      <td>Sasta rossi</td>\n      <td>4500</td>\n      <td>4900</td>\n      <td>2</td>\n      <td>5</td>\n      <td>none</td>\n      <td>Attack</td>\n      <td>loss</td>\n      <td>(15.0, 20.0]</td>\n    </tr>\n    <tr>\n      <th>12</th>\n      <td>Gekko</td>\n      <td>16</td>\n      <td>KAYIO</td>\n      <td>False</td>\n      <td>False</td>\n      <td>team</td>\n      <td>NaN</td>\n      <td>MA DMAN</td>\n      <td>800</td>\n      <td>700</td>\n      <td>5</td>\n      <td>4</td>\n      <td>none</td>\n      <td>Defense</td>\n      <td>win</td>\n      <td>(15.0, 20.0]</td>\n    </tr>\n    <tr>\n      <th>13</th>\n      <td>Viper</td>\n      <td>11</td>\n      <td>Sage</td>\n      <td>False</td>\n      <td>False</td>\n      <td>team</td>\n      <td>NaN</td>\n      <td>Sasta rossi</td>\n      <td>2900</td>\n      <td>200</td>\n      <td>5</td>\n      <td>0</td>\n      <td>none</td>\n      <td>Defense</td>\n      <td>win</td>\n      <td>(10.0, 15.0]</td>\n    </tr>\n    <tr>\n      <th>14</th>\n      <td>Raze</td>\n      <td>14</td>\n      <td>KAYIO</td>\n      <td>False</td>\n      <td>False</td>\n      <td>team</td>\n      <td>BOIt OP</td>\n      <td>MA DMAN</td>\n      <td>3500</td>\n      <td>4200</td>\n      <td>4</td>\n      <td>5</td>\n      <td>none</td>\n      <td>Defense</td>\n      <td>loss</td>\n      <td>(10.0, 15.0]</td>\n    </tr>\n    <tr>\n      <th>15</th>\n      <td>Reyna</td>\n      <td>53</td>\n      <td>Cypher</td>\n      <td>False</td>\n      <td>False</td>\n      <td>team</td>\n      <td>NaN</td>\n      <td>PavamaN</td>\n      <td>4100</td>\n      <td>3400</td>\n      <td>5</td>\n      <td>0</td>\n      <td>none</td>\n      <td>Defense</td>\n      <td>win</td>\n      <td>NaN</td>\n    </tr>\n    <tr>\n      <th>16</th>\n      <td>Raze</td>\n      <td>40</td>\n      <td>KAYIO</td>\n      <td>False</td>\n      <td>False</td>\n      <td>team</td>\n      <td>BOIt OP</td>\n      <td>MA DMAN</td>\n      <td>4500</td>\n      <td>600</td>\n      <td>5</td>\n      <td>1</td>\n      <td>none</td>\n      <td>Defense</td>\n      <td>win</td>\n      <td>(35.0, 40.0]</td>\n    </tr>\n    <tr>\n      <th>20</th>\n      <td>Viper</td>\n      <td>7</td>\n      <td>Sage</td>\n      <td>False</td>\n      <td>False</td>\n      <td>team</td>\n      <td>NaN</td>\n      <td>Sasta rossi</td>\n      <td>4200</td>\n      <td>4500</td>\n      <td>5</td>\n      <td>2</td>\n      <td>none</td>\n      <td>Defense</td>\n      <td>win</td>\n      <td>(5.0, 10.0]</td>\n    </tr>\n    <tr>\n      <th>8</th>\n      <td>Reyna</td>\n      <td>12</td>\n      <td>Reyna</td>\n      <td>A</td>\n      <td>False</td>\n      <td>team</td>\n      <td>Silly Boost</td>\n      <td>Silly Boost</td>\n      <td>3300</td>\n      <td>4700</td>\n      <td>2</td>\n      <td>5</td>\n      <td>none</td>\n      <td>Defense</td>\n      <td>loss</td>\n      <td>(10.0, 15.0]</td>\n    </tr>\n    <tr>\n      <th>12</th>\n      <td>Skye</td>\n      <td>6</td>\n      <td>Jett</td>\n      <td>B</td>\n      <td>False</td>\n      <td>team</td>\n      <td>Zmewus</td>\n      <td>melancholy</td>\n      <td>800</td>\n      <td>800</td>\n      <td>5</td>\n      <td>4</td>\n      <td>none</td>\n      <td>Attack</td>\n      <td>win</td>\n      <td>(5.0, 10.0]</td>\n    </tr>\n    <tr>\n      <th>14</th>\n      <td>Raze</td>\n      <td>13</td>\n      <td>Reyna</td>\n      <td>A</td>\n      <td>False</td>\n      <td>team</td>\n      <td>NaN</td>\n      <td>Silly Boost</td>\n      <td>3800</td>\n      <td>4000</td>\n      <td>5</td>\n      <td>2</td>\n      <td>none</td>\n      <td>Attack</td>\n      <td>win</td>\n      <td>(10.0, 15.0]</td>\n    </tr>\n    <tr>\n      <th>15</th>\n      <td>Omen</td>\n      <td>12</td>\n      <td>Reyna</td>\n      <td>B</td>\n      <td>False</td>\n      <td>team</td>\n      <td>2107</td>\n      <td>Silly Boost</td>\n      <td>4800</td>\n      <td>400</td>\n      <td>5</td>\n      <td>3</td>\n      <td>none</td>\n      <td>Attack</td>\n      <td>win</td>\n      <td>(10.0, 15.0]</td>\n    </tr>\n    <tr>\n      <th>17</th>\n      <td>Sage</td>\n      <td>9</td>\n      <td>Jett</td>\n      <td>B</td>\n      <td>False</td>\n      <td>team</td>\n      <td>NaN</td>\n      <td>melancholy</td>\n      <td>4400</td>\n      <td>2400</td>\n      <td>5</td>\n      <td>2</td>\n      <td>none</td>\n      <td>Attack</td>\n      <td>win</td>\n      <td>(5.0, 10.0]</td>\n    </tr>\n    <tr>\n      <th>18</th>\n      <td>Raze</td>\n      <td>12</td>\n      <td>Jett</td>\n      <td>B</td>\n      <td>False</td>\n      <td>team</td>\n      <td>NaN</td>\n      <td>melancholy</td>\n      <td>4700</td>\n      <td>4500</td>\n      <td>5</td>\n      <td>3</td>\n      <td>opponent</td>\n      <td>Attack</td>\n      <td>win</td>\n      <td>(10.0, 15.0]</td>\n    </tr>\n    <tr>\n      <th>19</th>\n      <td>Omen</td>\n      <td>30</td>\n      <td>Jett</td>\n      <td>B</td>\n      <td>False</td>\n      <td>team</td>\n      <td>2107</td>\n      <td>melancholy</td>\n      <td>4800</td>\n      <td>2200</td>\n      <td>5</td>\n      <td>1</td>\n      <td>none</td>\n      <td>Attack</td>\n      <td>win</td>\n      <td>(25.0, 30.0]</td>\n    </tr>\n    <tr>\n      <th>21</th>\n      <td>Raze</td>\n      <td>8</td>\n      <td>Skye</td>\n      <td>A</td>\n      <td>False</td>\n      <td>team</td>\n      <td>NaN</td>\n      <td>Zmewus</td>\n      <td>4700</td>\n      <td>3300</td>\n      <td>5</td>\n      <td>2</td>\n      <td>none</td>\n      <td>Attack</td>\n      <td>win</td>\n      <td>(5.0, 10.0]</td>\n    </tr>\n    <tr>\n      <th>0</th>\n      <td>Reyna</td>\n      <td>16</td>\n      <td>Raze</td>\n      <td>False</td>\n      <td>True</td>\n      <td>team</td>\n      <td>One Bullet</td>\n      <td>kittymeowmeow</td>\n      <td>800</td>\n      <td>700</td>\n      <td>2</td>\n      <td>5</td>\n      <td>none</td>\n      <td>Attack</td>\n      <td>loss</td>\n      <td>(15.0, 20.0]</td>\n    </tr>\n    <tr>\n      <th>3</th>\n      <td>Omen</td>\n      <td>19</td>\n      <td>Raze</td>\n      <td>False</td>\n      <td>True</td>\n      <td>team</td>\n      <td>2107</td>\n      <td>kittymeowmeow</td>\n      <td>4200</td>\n      <td>400</td>\n      <td>3</td>\n      <td>5</td>\n      <td>none</td>\n      <td>Attack</td>\n      <td>loss</td>\n      <td>(15.0, 20.0]</td>\n    </tr>\n    <tr>\n      <th>6</th>\n      <td>Sova</td>\n      <td>24</td>\n      <td>Reyna</td>\n      <td>False</td>\n      <td>True</td>\n      <td>team</td>\n      <td>Zmewus</td>\n      <td>One Bullet</td>\n      <td>2000</td>\n      <td>4700</td>\n      <td>4</td>\n      <td>5</td>\n      <td>none</td>\n      <td>Attack</td>\n      <td>loss</td>\n      <td>(20.0, 25.0]</td>\n    </tr>\n    <tr>\n      <th>7</th>\n      <td>Jett</td>\n      <td>22</td>\n      <td>Reyna</td>\n      <td>False</td>\n      <td>True</td>\n      <td>team</td>\n      <td>NaN</td>\n      <td>One Bullet</td>\n      <td>4500</td>\n      <td>4500</td>\n      <td>3</td>\n      <td>5</td>\n      <td>none</td>\n      <td>Attack</td>\n      <td>loss</td>\n      <td>(20.0, 25.0]</td>\n    </tr>\n    <tr>\n      <th>11</th>\n      <td>Reyna</td>\n      <td>8</td>\n      <td>Sova</td>\n      <td>False</td>\n      <td>True</td>\n      <td>team</td>\n      <td>One Bullet</td>\n      <td>Zmewus</td>\n      <td>3300</td>\n      <td>5200</td>\n      <td>4</td>\n      <td>5</td>\n      <td>opponent</td>\n      <td>Attack</td>\n      <td>loss</td>\n      <td>(5.0, 10.0]</td>\n    </tr>\n    <tr>\n      <th>0</th>\n      <td>Jett</td>\n      <td>10</td>\n      <td>Sage</td>\n      <td>A</td>\n      <td>False</td>\n      <td>team</td>\n      <td>NaN</td>\n      <td>Leozm</td>\n      <td>800</td>\n      <td>800</td>\n      <td>5</td>\n      <td>4</td>\n      <td>none</td>\n      <td>Attack</td>\n      <td>win</td>\n      <td>(5.0, 10.0]</td>\n    </tr>\n    <tr>\n      <th>4</th>\n      <td>Jett</td>\n      <td>3</td>\n      <td>Raze</td>\n      <td>B</td>\n      <td>False</td>\n      <td>team</td>\n      <td>NaN</td>\n      <td>HMI mrX</td>\n      <td>3300</td>\n      <td>400</td>\n      <td>5</td>\n      <td>1</td>\n      <td>opponent</td>\n      <td>Attack</td>\n      <td>win</td>\n      <td>(0.0, 5.0]</td>\n    </tr>\n    <tr>\n      <th>5</th>\n      <td>Jett</td>\n      <td>14</td>\n      <td>Sage</td>\n      <td>B</td>\n      <td>True</td>\n      <td>team</td>\n      <td>NaN</td>\n      <td>Leozm</td>\n      <td>4800</td>\n      <td>4000</td>\n      <td>4</td>\n      <td>5</td>\n      <td>team</td>\n      <td>Attack</td>\n      <td>loss</td>\n      <td>(10.0, 15.0]</td>\n    </tr>\n    <tr>\n      <th>12</th>\n      <td>Astra</td>\n      <td>10</td>\n      <td>Raze</td>\n      <td>False</td>\n      <td>False</td>\n      <td>team</td>\n      <td>NaN</td>\n      <td>HMI mrX</td>\n      <td>700</td>\n      <td>800</td>\n      <td>5</td>\n      <td>4</td>\n      <td>none</td>\n      <td>Defense</td>\n      <td>win</td>\n      <td>(5.0, 10.0]</td>\n    </tr>\n    <tr>\n      <th>13</th>\n      <td>Deadlock</td>\n      <td>27</td>\n      <td>Reyna</td>\n      <td>False</td>\n      <td>False</td>\n      <td>team</td>\n      <td>NaN</td>\n      <td>XXxMANASxXx</td>\n      <td>3100</td>\n      <td>400</td>\n      <td>5</td>\n      <td>0</td>\n      <td>none</td>\n      <td>Defense</td>\n      <td>win</td>\n      <td>(25.0, 30.0]</td>\n    </tr>\n    <tr>\n      <th>15</th>\n      <td>Skye</td>\n      <td>5</td>\n      <td>Raze</td>\n      <td>A</td>\n      <td>True</td>\n      <td>team</td>\n      <td>NEPX</td>\n      <td>HMI mrX</td>\n      <td>4400</td>\n      <td>1700</td>\n      <td>5</td>\n      <td>3</td>\n      <td>none</td>\n      <td>Defense</td>\n      <td>win</td>\n      <td>(0.0, 5.0]</td>\n    </tr>\n    <tr>\n      <th>17</th>\n      <td>Raze</td>\n      <td>7</td>\n      <td>Skye</td>\n      <td>B</td>\n      <td>False</td>\n      <td>team</td>\n      <td>HMI mrX</td>\n      <td>NEPX</td>\n      <td>4400</td>\n      <td>4700</td>\n      <td>3</td>\n      <td>5</td>\n      <td>none</td>\n      <td>Defense</td>\n      <td>loss</td>\n      <td>(5.0, 10.0]</td>\n    </tr>\n    <tr>\n      <th>18</th>\n      <td>Jett</td>\n      <td>16</td>\n      <td>Reyna</td>\n      <td>False</td>\n      <td>False</td>\n      <td>team</td>\n      <td>NaN</td>\n      <td>XXxMANASxXx</td>\n      <td>3500</td>\n      <td>4700</td>\n      <td>5</td>\n      <td>1</td>\n      <td>none</td>\n      <td>Defense</td>\n      <td>win</td>\n      <td>(15.0, 20.0]</td>\n    </tr>\n    <tr>\n      <th>19</th>\n      <td>Deadlock</td>\n      <td>6</td>\n      <td>Skye</td>\n      <td>False</td>\n      <td>False</td>\n      <td>team</td>\n      <td>NaN</td>\n      <td>NEPX</td>\n      <td>4100</td>\n      <td>2600</td>\n      <td>5</td>\n      <td>3</td>\n      <td>none</td>\n      <td>Defense</td>\n      <td>win</td>\n      <td>(5.0, 10.0]</td>\n    </tr>\n    <tr>\n      <th>21</th>\n      <td>Raze</td>\n      <td>7</td>\n      <td>Reyna</td>\n      <td>False</td>\n      <td>False</td>\n      <td>team</td>\n      <td>HMI mrX</td>\n      <td>XXxMANASxXx</td>\n      <td>4100</td>\n      <td>4600</td>\n      <td>5</td>\n      <td>4</td>\n      <td>none</td>\n      <td>Defense</td>\n      <td>win</td>\n      <td>(5.0, 10.0]</td>\n    </tr>\n    <tr>\n      <th>22</th>\n      <td>Jett</td>\n      <td>20</td>\n      <td>Raze</td>\n      <td>A</td>\n      <td>False</td>\n      <td>team</td>\n      <td>NaN</td>\n      <td>HMI mrX</td>\n      <td>4100</td>\n      <td>600</td>\n      <td>2</td>\n      <td>5</td>\n      <td>none</td>\n      <td>Defense</td>\n      <td>loss</td>\n      <td>(15.0, 20.0]</td>\n    </tr>\n  </tbody>\n</table>\n</div>"
     },
     "execution_count": 254,
     "metadata": {},
     "output_type": "execute_result"
    }
   ],
   "source": [
    "df.query('fb_team == \"team\"')"
   ],
   "metadata": {
    "collapsed": false,
    "ExecuteTime": {
     "end_time": "2023-09-10T05:58:44.996068400Z",
     "start_time": "2023-09-10T05:58:44.958669900Z"
    }
   },
   "id": "ae95b679fcf43bd"
  },
  {
   "cell_type": "code",
   "execution_count": null,
   "outputs": [],
   "source": [],
   "metadata": {
    "collapsed": false,
    "ExecuteTime": {
     "start_time": "2023-09-10T04:15:46.902131100Z"
    }
   },
   "id": "f9f1aae8521177a6"
  },
  {
   "cell_type": "code",
   "execution_count": 154,
   "outputs": [
    {
     "data": {
      "text/plain": "<Axes: xlabel='Value', ylabel='Frequency'>"
     },
     "execution_count": 154,
     "metadata": {},
     "output_type": "execute_result"
    },
    {
     "data": {
      "text/plain": "<Figure size 640x480 with 1 Axes>",
      "image/png": "[encoded data removed]"
     },
     "metadata": {},
     "output_type": "display_data"
    }
   ],
   "source": [
    "df['counts'] = pd.cut(df['time'], bins=[0,5,10,15,20,25,30,35,40,45,50])\n",
    "\n",
    "test = df.counts.value_counts().sort_index().reset_index()\n",
    "test\n",
    "test = pd.DataFrame(test)\n",
    "test.columns = ['Seconds', 'Frequency']\n",
    "test.dtypes\n",
    "# print(test)\n",
    "sns.barplot(data=test,x=test.Value, y=test.Frequency)\n",
    "# \n",
    "# plt.xlabel('X-axis Label')\n",
    "# plt.ylabel('Y-axis Label')\n",
    "# plt.title('Series Plot')\n",
    "# \n",
    "# # Show the plot\n",
    "# plt.show()"
   ],
   "metadata": {
    "collapsed": false,
    "ExecuteTime": {
     "start_time": "2023-09-10T05:00:12.604047600Z"
    }
   },
   "id": "9ef9489fa840bf99"
  }
 ],
 "metadata": {
  "kernelspec": {
   "display_name": "Python 3",
   "language": "python",
   "name": "python3"
  },
  "language_info": {
   "codemirror_mode": {
    "name": "ipython",
    "version": 2
   },
   "file_extension": ".py",
   "mimetype": "text/x-python",
   "name": "python",
   "nbconvert_exporter": "python",
   "pygments_lexer": "ipython2",
   "version": "2.7.6"
  }
 },
 "nbformat": 4,
 "nbformat_minor": 5
}
