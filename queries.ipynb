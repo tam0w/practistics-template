{
 "cells": [
  {
   "cell_type": "code",
   "execution_count": 2,
   "outputs": [],
   "source": [
    "def load_concat_csv(paths):\n",
    "    \n",
    "    header = ['first_kill', 'time', 'first_death', 'spike_plant', 'defuse', 'fb_team', 'fb_players', 'dt_players',\n",
    "              'team_buy', 'oppo_buy', 'total_kills', 'total_deaths', 'awps_info', 'side', 'round_win']\n",
    "\n",
    "    df = pd.DataFrame()\n",
    "    for path in paths:\n",
    "        data = pd.read_csv(path)\n",
    "        df = pd.concat([df, data], axis=0)\n",
    "    \n",
    "    return df"
   ],
   "metadata": {
    "collapsed": false,
    "ExecuteTime": {
     "end_time": "2023-09-15T06:10:14.721571Z",
     "start_time": "2023-09-15T06:10:14.652971300Z"
    }
   },
   "id": "e45f71a8d10519af"
  },
  {
   "cell_type": "markdown",
   "source": [
    "# Practistics Analytics Template\n",
    "This is a template made for use with Practistics scrim data. Instructions:\n",
    "-- Load as many scrim CSVs (of the same map) as required into a directory.\n",
    "-- Paste the file paths of all the CSVs into the read CSVs function. \n",
    "-- Execute all the cells for the required analytics each cell provides."
   ],
   "metadata": {
    "collapsed": false
   },
   "id": "1defbb03f10db9d1"
  },
  {
   "cell_type": "code",
   "execution_count": 3,
   "outputs": [],
   "source": [
    "!pip install matplotlib -q\n",
    "!pip install seaborn -q\n",
    "!pip install pandas -q"
   ],
   "metadata": {
    "collapsed": false,
    "ExecuteTime": {
     "end_time": "2023-09-15T06:10:20.260743700Z",
     "start_time": "2023-09-15T06:10:14.661730400Z"
    }
   },
   "id": "initial_id"
  },
  {
   "cell_type": "code",
   "execution_count": 4,
   "outputs": [],
   "source": [
    "import pandas as pd\n",
    "import matplotlib.pyplot as plt\n",
    "import seaborn as sns\n",
    "import warnings\n",
    "warnings.filterwarnings('ignore')\n",
    "sns.set_style('dark')"
   ],
   "metadata": {
    "collapsed": false,
    "ExecuteTime": {
     "end_time": "2023-09-15T06:10:20.267714100Z",
     "start_time": "2023-09-15T06:10:20.263217500Z"
    }
   },
   "id": "33fc577027ce0c1"
  },
  {
   "cell_type": "markdown",
   "source": [
    "## Loading CSVs:\n",
    "Enter all the file paths of the CSVs here, how many ever there are: \n",
    "(Make sure all the paths are inside the `[ ]` square brackets, surrounded by `' '` marks, and seperated by `,` commas)\n",
    "\n",
    "**Example:**\n",
    "\n",
    ">path_list = ['D:\\PROJECTS\\practistics-template\\08_09_2023_Split_9-13.csv', 'D:\\PROJECTS\\practistics-template\\08_09_2023_Split_13-9.csv']"
   ],
   "metadata": {
    "collapsed": false
   },
   "id": "d0acb82f04bd6ca3"
  },
  {
   "cell_type": "code",
   "execution_count": 5,
   "outputs": [
    {
     "data": {
      "text/plain": "   first_kill  time first_death spike_plant  defuse   fb_team   fb_players  \\\n0        Raze    32      Cypher           B    True      team      BOIt OP   \n1        Sage    38       Gekko       False   False  opponent  Sasta rossi   \n2        Sage     9       Viper           A    True  opponent  Sasta rossi   \n3        Raze     7        Raze       False   False      team      BOIt OP   \n4        Raze     4        Raze           B   False  opponent      BOIt OP   \n..        ...   ...         ...         ...     ...       ...          ...   \n19      Reyna    16        Raze           B   False  opponent      Sama 70   \n20       Raze     4        Sage           B   False  opponent        KinGG   \n21       Raze     4        Raze           A   False  opponent        KinGG   \n22       Sage    40     Killjoy       False   False      team          NaN   \n23       Jett    12       Reyna       False   False      team          NaN   \n\n      dt_players  team_buy  oppo_buy  total_kills  total_deaths awps_info  \\\n0        PavamaN       800       700            1             5      none   \n1         bhooka       600      2600            0             5      none   \n2   SadScientist      4200      3200            4             5      none   \n3        BOIt OP      3300      4600            6             4      none   \n4          tam0w      3900      3400            5             4      none   \n..           ...       ...       ...          ...           ...       ...   \n19  PsychoXClown      4900      3600            4             5      team   \n20         NEROO      4300      4100            3             5      none   \n21  PsychoXClown      1800      4400            0             5      none   \n22        MiCkeY      4500      4600            5             0      none   \n23       Sama 70      4700      4600            5             3      none   \n\n       side round_win  \n0    Attack      loss  \n1    Attack      loss  \n2    Attack      loss  \n3    Attack       win  \n4    Attack       win  \n..      ...       ...  \n19  Defense      loss  \n20  Defense      loss  \n21  Defense      loss  \n22  Defense       win  \n23  Defense       win  \n\n[105 rows x 15 columns]",
      "text/html": "<div>\n<style scoped>\n    .dataframe tbody tr th:only-of-type {\n        vertical-align: middle;\n    }\n\n    .dataframe tbody tr th {\n        vertical-align: top;\n    }\n\n    .dataframe thead th {\n        text-align: right;\n    }\n</style>\n<table border=\"1\" class=\"dataframe\">\n  <thead>\n    <tr style=\"text-align: right;\">\n      <th></th>\n      <th>first_kill</th>\n      <th>time</th>\n      <th>first_death</th>\n      <th>spike_plant</th>\n      <th>defuse</th>\n      <th>fb_team</th>\n      <th>fb_players</th>\n      <th>dt_players</th>\n      <th>team_buy</th>\n      <th>oppo_buy</th>\n      <th>total_kills</th>\n      <th>total_deaths</th>\n      <th>awps_info</th>\n      <th>side</th>\n      <th>round_win</th>\n    </tr>\n  </thead>\n  <tbody>\n    <tr>\n      <th>0</th>\n      <td>Raze</td>\n      <td>32</td>\n      <td>Cypher</td>\n      <td>B</td>\n      <td>True</td>\n      <td>team</td>\n      <td>BOIt OP</td>\n      <td>PavamaN</td>\n      <td>800</td>\n      <td>700</td>\n      <td>1</td>\n      <td>5</td>\n      <td>none</td>\n      <td>Attack</td>\n      <td>loss</td>\n    </tr>\n    <tr>\n      <th>1</th>\n      <td>Sage</td>\n      <td>38</td>\n      <td>Gekko</td>\n      <td>False</td>\n      <td>False</td>\n      <td>opponent</td>\n      <td>Sasta rossi</td>\n      <td>bhooka</td>\n      <td>600</td>\n      <td>2600</td>\n      <td>0</td>\n      <td>5</td>\n      <td>none</td>\n      <td>Attack</td>\n      <td>loss</td>\n    </tr>\n    <tr>\n      <th>2</th>\n      <td>Sage</td>\n      <td>9</td>\n      <td>Viper</td>\n      <td>A</td>\n      <td>True</td>\n      <td>opponent</td>\n      <td>Sasta rossi</td>\n      <td>SadScientist</td>\n      <td>4200</td>\n      <td>3200</td>\n      <td>4</td>\n      <td>5</td>\n      <td>none</td>\n      <td>Attack</td>\n      <td>loss</td>\n    </tr>\n    <tr>\n      <th>3</th>\n      <td>Raze</td>\n      <td>7</td>\n      <td>Raze</td>\n      <td>False</td>\n      <td>False</td>\n      <td>team</td>\n      <td>BOIt OP</td>\n      <td>BOIt OP</td>\n      <td>3300</td>\n      <td>4600</td>\n      <td>6</td>\n      <td>4</td>\n      <td>none</td>\n      <td>Attack</td>\n      <td>win</td>\n    </tr>\n    <tr>\n      <th>4</th>\n      <td>Raze</td>\n      <td>4</td>\n      <td>Raze</td>\n      <td>B</td>\n      <td>False</td>\n      <td>opponent</td>\n      <td>BOIt OP</td>\n      <td>tam0w</td>\n      <td>3900</td>\n      <td>3400</td>\n      <td>5</td>\n      <td>4</td>\n      <td>none</td>\n      <td>Attack</td>\n      <td>win</td>\n    </tr>\n    <tr>\n      <th>...</th>\n      <td>...</td>\n      <td>...</td>\n      <td>...</td>\n      <td>...</td>\n      <td>...</td>\n      <td>...</td>\n      <td>...</td>\n      <td>...</td>\n      <td>...</td>\n      <td>...</td>\n      <td>...</td>\n      <td>...</td>\n      <td>...</td>\n      <td>...</td>\n      <td>...</td>\n    </tr>\n    <tr>\n      <th>19</th>\n      <td>Reyna</td>\n      <td>16</td>\n      <td>Raze</td>\n      <td>B</td>\n      <td>False</td>\n      <td>opponent</td>\n      <td>Sama 70</td>\n      <td>PsychoXClown</td>\n      <td>4900</td>\n      <td>3600</td>\n      <td>4</td>\n      <td>5</td>\n      <td>team</td>\n      <td>Defense</td>\n      <td>loss</td>\n    </tr>\n    <tr>\n      <th>20</th>\n      <td>Raze</td>\n      <td>4</td>\n      <td>Sage</td>\n      <td>B</td>\n      <td>False</td>\n      <td>opponent</td>\n      <td>KinGG</td>\n      <td>NEROO</td>\n      <td>4300</td>\n      <td>4100</td>\n      <td>3</td>\n      <td>5</td>\n      <td>none</td>\n      <td>Defense</td>\n      <td>loss</td>\n    </tr>\n    <tr>\n      <th>21</th>\n      <td>Raze</td>\n      <td>4</td>\n      <td>Raze</td>\n      <td>A</td>\n      <td>False</td>\n      <td>opponent</td>\n      <td>KinGG</td>\n      <td>PsychoXClown</td>\n      <td>1800</td>\n      <td>4400</td>\n      <td>0</td>\n      <td>5</td>\n      <td>none</td>\n      <td>Defense</td>\n      <td>loss</td>\n    </tr>\n    <tr>\n      <th>22</th>\n      <td>Sage</td>\n      <td>40</td>\n      <td>Killjoy</td>\n      <td>False</td>\n      <td>False</td>\n      <td>team</td>\n      <td>NaN</td>\n      <td>MiCkeY</td>\n      <td>4500</td>\n      <td>4600</td>\n      <td>5</td>\n      <td>0</td>\n      <td>none</td>\n      <td>Defense</td>\n      <td>win</td>\n    </tr>\n    <tr>\n      <th>23</th>\n      <td>Jett</td>\n      <td>12</td>\n      <td>Reyna</td>\n      <td>False</td>\n      <td>False</td>\n      <td>team</td>\n      <td>NaN</td>\n      <td>Sama 70</td>\n      <td>4700</td>\n      <td>4600</td>\n      <td>5</td>\n      <td>3</td>\n      <td>none</td>\n      <td>Defense</td>\n      <td>win</td>\n    </tr>\n  </tbody>\n</table>\n<p>105 rows × 15 columns</p>\n</div>"
     },
     "execution_count": 5,
     "metadata": {},
     "output_type": "execute_result"
    }
   ],
   "source": [
    "path_list = [r'D:\\PROJECTS\\practistics-template\\08_09_2023_Split_9-13.csv', r'D:\\PROJECTS\\practistics-template\\08_09_2023_Split_13-9.csv', r'D:\\PROJECTS\\practistics-template\\split_22_08_2023_time_12_56.csv', r'D:\\PROJECTS\\practistics-template\\08_09_2023_Split_10-13.csv', r'D:\\PROJECTS\\practistics-template\\10_09_2023_Split_13-11.csv']\n",
    "\n",
    "df = load_concat_csv(path_list)\n",
    "\n",
    "df.team_buy = df.team_buy.str.replace(',','')\n",
    "df.oppo_buy = df.oppo_buy.str.replace(',','')\n",
    "df.time = df.time.str.replace('0:0','')\n",
    "df.time = df.time.str.replace('0:','')\n",
    "df.time = df.time.str.replace('.','')\n",
    "\n",
    "df.team_buy = df.team_buy.astype(int)\n",
    "df.time = df.time.astype(int)\n",
    "df.oppo_buy = df.oppo_buy.astype(int)\n",
    "\n",
    "sepe = \"------------------------------\"\n",
    "\n",
    "df"
   ],
   "metadata": {
    "collapsed": false,
    "ExecuteTime": {
     "end_time": "2023-09-15T06:10:20.570021100Z",
     "start_time": "2023-09-15T06:10:20.266716100Z"
    }
   },
   "id": "94d647fcd65b8768"
  },
  {
   "cell_type": "markdown",
   "source": [
    "# Analytics:\n",
    "\n",
    "We will now run different standard queries on the given loaded dataset to give us various bits of information regarding scrim performances."
   ],
   "metadata": {
    "collapsed": false
   },
   "id": "ba3be7a476c745f2"
  },
  {
   "cell_type": "markdown",
   "source": [
    "## Basics Stats:\n",
    "Basic computations performed on your dataset based on the whole map.\n"
   ],
   "metadata": {
    "collapsed": false
   },
   "id": "5d4e4c0cebdecba0"
  },
  {
   "cell_type": "markdown",
   "source": [
    "1) Attack Side vs Def Side Win rate"
   ],
   "metadata": {
    "collapsed": false
   },
   "id": "9be37ebe3d2ffd52"
  },
  {
   "cell_type": "code",
   "execution_count": 6,
   "outputs": [
    {
     "name": "stdout",
     "output_type": "stream",
     "text": [
      "Round Win %: 43.81%\n",
      "------------------------------\n",
      "Attack Win %: 43.1%\n",
      "Defense Win %: 44.68%\n",
      "------------------------------\n",
      "Anti-Eco Loss %: 57.14% (8/14)\n",
      "------------------------------\n",
      "Post-Plant Win %: 77.78% (21/27)\n",
      "Retake Win %: 1% (1/23)\n"
     ]
    }
   ],
   "source": [
    "win_percent = float(\"{:.2f}\".format((df['round_win'].value_counts()[1] / df['round_win'].count() * 100)))\n",
    "print(f\"Round Win %: {win_percent}%\")\n",
    "\n",
    "print(sepe)\n",
    "\n",
    "attack_win_pct = float(\"{:.2f}\".format((df[df['side'] == \"Attack\"]['round_win'].value_counts()[1] / df[df['side'] == \"Attack\"]['round_win'].count() * 100)))\n",
    "print(f\"Attack Win %: {attack_win_pct}%\")\n",
    "\n",
    "def_win_pct = float(\"{:.2f}\".format((df[df['side'] == \"Defense\"]['round_win'].value_counts()[1] / df[df['side'] == \"Defense\"]['round_win'].count() * 100)))\n",
    "print(f\"Defense Win %: {def_win_pct}%\")\n",
    "\n",
    "print(sepe)\n",
    "\n",
    "anti_ecos_lost = df.query('team_buy >= 3500 & oppo_buy <= 2700')['round_win'].value_counts()['loss']\n",
    "total_ecos_opp = df.query('team_buy >= 3500 & oppo_buy <= 2000')['round_win'].count()\n",
    "eco_wins_pct = float(\"{:.2f}\".format(anti_ecos_lost / total_ecos_opp * 100))\n",
    "print(f\"Anti-Eco Loss %: {eco_wins_pct}% ({anti_ecos_lost}/{total_ecos_opp})\")\n",
    "\n",
    "eco_wins = df.query('oppo_buy >= 3500 & team_buy <= 2700')['round_win'].value_counts()['win']\n",
    "total_ecos_team = df.query('oppo_buy >= 3500 & team_buy <= 2700')['round_win'].count()\n",
    "eco_wins_pct = float(\"{:.2f}\".format(eco_wins / total_ecos_team * 100))\n",
    "print(f\"Eco Win %: {eco_wins_pct}% ({eco_wins}/{total_ecos_team})\")\n",
    "\n",
    "print(sepe)\n",
    "\n",
    "post_plants_wins = df.query('(spike_plant == \"A\" | spike_plant == \"B\") & side == \"Attack\"')['round_win'].value_counts()['win']\n",
    "total_post_plants = df.query('(spike_plant == \"A\" | spike_plant == \"B\") & side == \"Attack\"')['round_win'].count()\n",
    "pp_win_pct = float(\"{:.2f}\".format(post_plants_wins / total_post_plants * 100))\n",
    "print(f\"Post-Plant Win %: {pp_win_pct}% ({post_plants_wins}/{total_post_plants})\")\n",
    "\n",
    "retake_wins = df.query('(spike_plant == \"A\" | spike_plant == \"B\") & side == \"Defense\"')['round_win'].value_counts()['win']\n",
    "total_retakes = df.query('(spike_plant == \"A\" | spike_plant == \"B\") & side == \"Defense\"')['round_win'].count()\n",
    "retake_win_pct = float(\"{:.2f}\".format(retake_wins / total_retakes * 100))\n",
    "print(f\"Retake Win %: {retake_wins}% ({retake_wins}/{total_retakes})\")\n"
   ],
   "metadata": {
    "collapsed": false,
    "ExecuteTime": {
     "start_time": "2023-09-15T06:10:20.543093400Z"
    }
   },
   "id": "ac0501ed9aa330f2"
  },
  {
   "cell_type": "code",
   "execution_count": 43,
   "outputs": [
    {
     "data": {
      "text/plain": "<Figure size 640x480 with 1 Axes>",
      "image/png": "[encoded data removed]"
     },
     "metadata": {},
     "output_type": "display_data"
    }
   ],
   "source": [
    "sns.set_palette(\"husl\") \n",
    "sns.scatterplot(df, x=df['oppo_buy'],y=df['team_buy'],hue=df['round_win'])\n",
    "plt.xlabel('opponent buy')\n",
    "plt.ylabel('team buy')\n",
    "plt.title('Distribution of every round won or lost based on economies')\n",
    "plt.text(x=1000,y=2000,s='Pistol Rounds')\n",
    "plt.text(x=3300,y=2000,s='Ecos')\n",
    "plt.text(x=1000,y=3000,s='Anti-ecos')\n",
    "plt.text(x=3300,y=3000,s='Full Buys')\n",
    "plt.hlines(2500,xmin=0,xmax=5000, colors='black')\n",
    "plt.vlines(2500,ymin=0,ymax=5000, colors='black')\n",
    "plt.show()"
   ],
   "metadata": {
    "collapsed": false,
    "ExecuteTime": {
     "start_time": "2023-09-15T06:24:08.211366400Z"
    }
   },
   "id": "fbc7d90a5ea95fdc"
  },
  {
   "cell_type": "code",
   "execution_count": 7,
   "outputs": [
    {
     "name": "stdout",
     "output_type": "stream",
     "text": [
      "Winrate when the first kill is in the first 10 seconds: 81.82% (18/22)\n",
      "Winrate when the first kill is between 10-20 seconds of the round: 50.0% (7/14)\n",
      "Winrate when the first kill is after 20 seconds: 54.55% (6/11)\n"
     ]
    }
   ],
   "source": [
    "early = df.query('time <= 10 & fb_team == \"team\"')\n",
    "early_wins = early.round_win.value_counts()['win']\n",
    "early_total = early.round_win.count()\n",
    "early_win_pct = float(\"{:.2f}\".format((early_wins / early_total) * 100))\n",
    "print(f'Winrate when the first kill is in the first 10 seconds: {early_win_pct}% ({early_wins}/{early_total})')\n",
    "\n",
    "mid = df.query('20 > time > 10 & fb_team == \"team\"')\n",
    "mid_wins = mid.round_win.value_counts()['win']\n",
    "mid_total = mid.round_win.count()\n",
    "mid_win_pct = float(\"{:.2f}\".format((mid_wins / mid_total) * 100))\n",
    "print(f'Winrate when the first kill is between 10-20 seconds of the round: {mid_win_pct}% ({mid_wins}/{mid_total})')\n",
    "\n",
    "late = df.query('time >= 20 & fb_team == \"team\"')\n",
    "late_wins = late.round_win.value_counts()['win']\n",
    "late_total = late.round_win.count()\n",
    "late_win_pct = float(\"{:.2f}\".format((late_wins / late_total) * 100))\n",
    "print(f'Winrate when the first kill is after 20 seconds: {late_win_pct}% ({late_wins}/{late_total})')"
   ],
   "metadata": {
    "collapsed": false,
    "ExecuteTime": {
     "start_time": "2023-09-15T06:10:20.637856Z"
    }
   },
   "id": "c946d4420ae79369"
  },
  {
   "cell_type": "markdown",
   "source": [
    "## Site-Based Stats:\n",
    "\n",
    "## A-Site Stats:\n",
    "\n"
   ],
   "metadata": {
    "collapsed": false
   },
   "id": "e9c33f52860a0347"
  },
  {
   "cell_type": "markdown",
   "source": [],
   "metadata": {
    "collapsed": false
   },
   "id": "65a64350a14b8d78"
  },
  {
   "cell_type": "code",
   "execution_count": 8,
   "outputs": [
    {
     "name": "stdout",
     "output_type": "stream",
     "text": [
      "A Retake %: 7.69% (1/13)\n",
      "A Site Concede %: 56.52% (13/23)\n",
      "A Post-Plant Win %: 84.62% (11/13)\n"
     ]
    }
   ],
   "source": [
    "a_def_won = df.query('side == \"Defense\" & spike_plant == \"A\"')['round_win'].value_counts()['win']\n",
    "a_plants = df.query('side == \"Defense\" & spike_plant == \"A\"')['round_win'].count()\n",
    "plants = df.query('side == \"Defense\" & (spike_plant == \"A\" | spike_plant == \"B\")')['round_win'].count()\n",
    "a_retake_pct = float(\"{:.2f}\".format(a_def_won / a_plants * 100))\n",
    "a_concede_pct = float(\"{:.2f}\".format(a_plants / plants * 100))\n",
    "\n",
    "print(f\"A Retake %: {a_retake_pct}% ({a_def_won}/{a_plants})\")\n",
    "print(f\"A Site Concede %: {a_concede_pct}% ({a_plants}/{plants})\")\n",
    "\n",
    "post_plants_wins = df.query('spike_plant == \"A\" & side == \"Attack\"')['round_win'].value_counts()['win']\n",
    "total_post_plants = df.query('spike_plant == \"A\" & side == \"Attack\"')['round_win'].count()\n",
    "pp_win_pct = float(\"{:.2f}\".format(post_plants_wins / total_post_plants * 100))\n",
    "print(f\"A Post-Plant Win %: {pp_win_pct}% ({post_plants_wins}/{total_post_plants})\")\n"
   ],
   "metadata": {
    "collapsed": false,
    "ExecuteTime": {
     "start_time": "2023-09-15T06:10:20.640729600Z"
    }
   },
   "id": "eebec7f84361153e"
  },
  {
   "cell_type": "markdown",
   "source": [
    "## B-Site Stats:"
   ],
   "metadata": {
    "collapsed": false
   },
   "id": "82bdd0e595ff13eb"
  },
  {
   "cell_type": "code",
   "execution_count": 9,
   "outputs": [
    {
     "name": "stdout",
     "output_type": "stream",
     "text": [
      "B Retake %: 100.0% (10/10)\n",
      "B Site Concede %: 43.48% (10/23)\n",
      "B Post-Plant Win %: 71.43% (10/14)\n"
     ]
    }
   ],
   "source": [
    "b_def_won = df.query('side == \"Defense\" & spike_plant == \"B\"')['round_win'].value_counts()['loss']\n",
    "b_plants = df.query('side == \"Defense\" & spike_plant == \"B\"')['round_win'].count()\n",
    "plants = df.query('side == \"Defense\" & (spike_plant == \"A\" | spike_plant == \"B\")')['round_win'].count()\n",
    "b_retake_pct = float(\"{:.2f}\".format(b_def_won / b_plants * 100))\n",
    "b_concede_pct = float(\"{:.2f}\".format(b_plants / plants * 100))\n",
    "\n",
    "print(f\"B Retake %: {b_retake_pct}% ({b_def_won}/{b_plants})\")\n",
    "print(f\"B Site Concede %: {b_concede_pct}% ({b_plants}/{plants})\")\n",
    "\n",
    "post_plants_wins = df.query('spike_plant == \"B\" & side == \"Attack\"')['round_win'].value_counts()['win']\n",
    "total_post_plants = df.query('spike_plant == \"B\" & side == \"Attack\"')['round_win'].count()\n",
    "pp_win_pct = float(\"{:.2f}\".format(post_plants_wins / total_post_plants * 100))\n",
    "print(f\"B Post-Plant Win %: {pp_win_pct}% ({post_plants_wins}/{total_post_plants})\")"
   ],
   "metadata": {
    "collapsed": false,
    "ExecuteTime": {
     "start_time": "2023-09-15T06:10:20.660675900Z"
    }
   },
   "id": "e1a44a6f8e739551"
  },
  {
   "cell_type": "markdown",
   "source": [],
   "metadata": {
    "collapsed": false
   },
   "id": "fdcbf1a9e4a6cc04"
  },
  {
   "cell_type": "markdown",
   "source": [],
   "metadata": {
    "collapsed": false
   },
   "id": "207d4e2f8dfb54d5"
  },
  {
   "cell_type": "code",
   "execution_count": 179,
   "outputs": [
    {
     "data": {
      "text/plain": "<Figure size 594.875x500 with 1 Axes>",
      "image/png": "[encoded data removed]"
     },
     "metadata": {},
     "output_type": "display_data"
    }
   ],
   "source": [
    "fkr = df['first_kill'].value_counts(normalize=True)\n",
    "fdr = df['first_death'].value_counts(normalize=True)\n",
    "fkr = pd.DataFrame(fkr).reset_index()\n",
    "fdr = pd.DataFrame(fdr).reset_index()\n",
    "fkr.columns = [\"Names\", \"fkr\"]\n",
    "fdr.columns = [\"Names\", \"fdr\"]\n",
    "test = pd.merge(fkr,fdr,on='Names', how='inner').head(6)\n",
    "sns.relplot(test, x='fkr',y='fdr', hue='Names')\n",
    "plt.xlabel('First Kills / round')\n",
    "plt.ylabel('First Deaths / round')\n",
    "plt.title('First Kill Rate vs First Death Rate')\n",
    "plt.show()"
   ],
   "metadata": {
    "collapsed": false,
    "ExecuteTime": {
     "end_time": "2023-09-15T10:30:05.204779300Z",
     "start_time": "2023-09-15T10:30:04.723888200Z"
    }
   },
   "id": "3007089e315328af"
  },
  {
   "cell_type": "code",
   "execution_count": 136,
   "outputs": [],
   "source": [
    "fkr = pd.DataFrame(fkr).reset_index()\n",
    "fdr = pd.DataFrame(fdr).reset_index()\n",
    "fkr.columns = [\"Names\", \"fkr\"]\n",
    "fdr.columns = [\"Names\", \"fdr\"]"
   ],
   "metadata": {
    "collapsed": false,
    "ExecuteTime": {
     "end_time": "2023-09-15T10:15:40.695955400Z",
     "start_time": "2023-09-15T10:15:40.667013400Z"
    }
   },
   "id": "8d2b4520212e2915"
  },
  {
   "cell_type": "code",
   "execution_count": 172,
   "outputs": [],
   "source": [],
   "metadata": {
    "collapsed": false,
    "ExecuteTime": {
     "end_time": "2023-09-15T10:26:25.832008500Z",
     "start_time": "2023-09-15T10:26:25.789611200Z"
    }
   },
   "id": "ae95b679fcf43bd"
  },
  {
   "cell_type": "code",
   "execution_count": 170,
   "outputs": [
    {
     "data": {
      "text/plain": "       Names       fkr\n0       Raze  0.238095\n1      Reyna  0.190476\n2       Jett  0.142857\n3       Sage  0.104762\n4       Omen  0.085714\n5     Cypher  0.066667\n6      Gekko  0.038095\n7       Skye  0.038095\n8      Viper  0.028571\n9   Deadlock  0.019048\n10   Killjoy  0.019048\n11     KAYIO  0.009524\n12      Sova  0.009524\n13     Astra  0.009524",
      "text/html": "<div>\n<style scoped>\n    .dataframe tbody tr th:only-of-type {\n        vertical-align: middle;\n    }\n\n    .dataframe tbody tr th {\n        vertical-align: top;\n    }\n\n    .dataframe thead th {\n        text-align: right;\n    }\n</style>\n<table border=\"1\" class=\"dataframe\">\n  <thead>\n    <tr style=\"text-align: right;\">\n      <th></th>\n      <th>Names</th>\n      <th>fkr</th>\n    </tr>\n  </thead>\n  <tbody>\n    <tr>\n      <th>0</th>\n      <td>Raze</td>\n      <td>0.238095</td>\n    </tr>\n    <tr>\n      <th>1</th>\n      <td>Reyna</td>\n      <td>0.190476</td>\n    </tr>\n    <tr>\n      <th>2</th>\n      <td>Jett</td>\n      <td>0.142857</td>\n    </tr>\n    <tr>\n      <th>3</th>\n      <td>Sage</td>\n      <td>0.104762</td>\n    </tr>\n    <tr>\n      <th>4</th>\n      <td>Omen</td>\n      <td>0.085714</td>\n    </tr>\n    <tr>\n      <th>5</th>\n      <td>Cypher</td>\n      <td>0.066667</td>\n    </tr>\n    <tr>\n      <th>6</th>\n      <td>Gekko</td>\n      <td>0.038095</td>\n    </tr>\n    <tr>\n      <th>7</th>\n      <td>Skye</td>\n      <td>0.038095</td>\n    </tr>\n    <tr>\n      <th>8</th>\n      <td>Viper</td>\n      <td>0.028571</td>\n    </tr>\n    <tr>\n      <th>9</th>\n      <td>Deadlock</td>\n      <td>0.019048</td>\n    </tr>\n    <tr>\n      <th>10</th>\n      <td>Killjoy</td>\n      <td>0.019048</td>\n    </tr>\n    <tr>\n      <th>11</th>\n      <td>KAYIO</td>\n      <td>0.009524</td>\n    </tr>\n    <tr>\n      <th>12</th>\n      <td>Sova</td>\n      <td>0.009524</td>\n    </tr>\n    <tr>\n      <th>13</th>\n      <td>Astra</td>\n      <td>0.009524</td>\n    </tr>\n  </tbody>\n</table>\n</div>"
     },
     "execution_count": 170,
     "metadata": {},
     "output_type": "execute_result"
    }
   ],
   "source": [
    "fkr"
   ],
   "metadata": {
    "collapsed": false,
    "ExecuteTime": {
     "end_time": "2023-09-15T10:25:36.343608Z",
     "start_time": "2023-09-15T10:25:36.311128600Z"
    }
   },
   "id": "f9f1aae8521177a6"
  },
  {
   "cell_type": "code",
   "execution_count": 166,
   "outputs": [
    {
     "data": {
      "text/plain": "Names     object\nfkr      float64\ndtype: object"
     },
     "execution_count": 166,
     "metadata": {},
     "output_type": "execute_result"
    }
   ],
   "source": [
    "fdr.Names = fdr.Names.astype('object')\n",
    "fdr.dtypes\n",
    "fkr.Names = fkr.Names.astype('object')\n",
    "fkr.dtypes"
   ],
   "metadata": {
    "collapsed": false,
    "ExecuteTime": {
     "end_time": "2023-09-15T10:23:58.385524700Z",
     "start_time": "2023-09-15T10:23:58.366667100Z"
    }
   },
   "id": "d0382992435f79db"
  },
  {
   "cell_type": "code",
   "execution_count": 13,
   "outputs": [],
   "source": [
    "df['counts'] = pd.cut(df['time'], bins=[0,5,10,15,20,25,30,35,40,45,50])\n",
    "\n",
    "\n",
    "# test = df.counts.value_counts().sort_index().reset_index()\n",
    "# test\n",
    "# test = pd.DataFrame(test)\n",
    "# test.columns = ['Seconds', 'Frequency']\n",
    "# test.dtypes\n",
    "# # print(test)\n",
    "# sns.barplot(data=test,x=test.Value, y=test.Frequency)\n",
    "# # \n",
    "# # plt.xlabel('X-axis Label')\n",
    "# plt.ylabel('Y-axis Label')\n",
    "# plt.title('Series Plot')\n",
    "# \n",
    "# # Show the plot\n",
    "# plt.show()"
   ],
   "metadata": {
    "collapsed": false,
    "ExecuteTime": {
     "end_time": "2023-09-15T06:10:21.422811100Z",
     "start_time": "2023-09-15T06:10:21.348778400Z"
    }
   },
   "id": "9ef9489fa840bf99"
  },
  {
   "cell_type": "code",
   "execution_count": 13,
   "outputs": [],
   "source": [],
   "metadata": {
    "collapsed": false,
    "ExecuteTime": {
     "end_time": "2023-09-15T06:10:21.422811100Z",
     "start_time": "2023-09-15T06:10:21.384916Z"
    }
   },
   "id": "830a90f73144de59"
  }
 ],
 "metadata": {
  "kernelspec": {
   "display_name": "Python 3",
   "language": "python",
   "name": "python3"
  },
  "language_info": {
   "codemirror_mode": {
    "name": "ipython",
    "version": 2
   },
   "file_extension": ".py",
   "mimetype": "text/x-python",
   "name": "python",
   "nbconvert_exporter": "python",
   "pygments_lexer": "ipython2",
   "version": "2.7.6"
  }
 },
 "nbformat": 4,
 "nbformat_minor": 5
}
