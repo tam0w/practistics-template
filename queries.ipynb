{
 "cells": [
  {
   "cell_type": "markdown",
   "source": [
    "# Practistics Analytics Template\n",
    "This is a template made for use with Practistics scrim data. Instructions:\n",
    "-- Load as many scrim CSVs (of the same map) as required into a directory.\n",
    "-- Paste the file paths of all the CSVs into the read CSVs function. \n",
    "-- Execute all the cells for the required analytics each cell provides."
   ],
   "metadata": {
    "collapsed": false
   },
   "id": "1defbb03f10db9d1"
  },
  {
   "cell_type": "code",
   "execution_count": 5,
   "outputs": [],
   "source": [
    "!pip install matplotlib -q\n",
    "!pip install seaborn -q\n",
    "!pip install pandas -q"
   ],
   "metadata": {
    "collapsed": false,
    "ExecuteTime": {
     "end_time": "2023-09-09T14:49:07.235015500Z",
     "start_time": "2023-09-09T14:49:02.207148300Z"
    }
   },
   "id": "initial_id"
  },
  {
   "cell_type": "code",
   "execution_count": 6,
   "outputs": [],
   "source": [
    "import pandas as pd\n",
    "import matplotlib.pyplot as plt\n",
    "import seaborn as sns\n",
    "\n",
    "sns.set_style('dark')"
   ],
   "metadata": {
    "collapsed": false,
    "ExecuteTime": {
     "end_time": "2023-09-09T14:49:07.426921100Z",
     "start_time": "2023-09-09T14:49:07.237011800Z"
    }
   },
   "id": "33fc577027ce0c1"
  },
  {
   "cell_type": "markdown",
   "source": [
    "## Loading CSVs:\n",
    "Enter all the file paths of the CSVs here, how many ever there are: \n",
    "(Make sure all the paths are inside the `[ ]` square brackets, surrounded by `' '` marks, and seperated by `,` commas)\n",
    "\n",
    "**Example:**\n",
    "\n",
    ">path_list = ['D:\\PROJECTS\\practistics-template\\08_09_2023_Split_9-13.csv', 'D:\\PROJECTS\\practistics-template\\08_09_2023_Split_13-9.csv']"
   ],
   "metadata": {
    "collapsed": false
   },
   "id": "d0acb82f04bd6ca3"
  },
  {
   "cell_type": "code",
   "execution_count": 20,
   "outputs": [
    {
     "data": {
      "text/plain": "  first_kill  time first_death spike_plant  defuse   fb_team   fb_players  \\\n0       Raze  0:32      Cypher           B    True      team      BOIt OP   \n1       Sage  0:38       Gekko       False   False  opponent  Sasta rossi   \n2       Sage  0:09       Viper           A    True  opponent  Sasta rossi   \n3       Raze  0:07        Raze       False   False      team      BOIt OP   \n4       Raze  0:04        Raze           B   False  opponent      BOIt OP   \n\n     dt_players  team_buy  oppo_buy  total_kills  total_deaths awps_info  \\\n0       PavamaN       800       700            1             5      none   \n1        bhooka       600      2600            0             5      none   \n2  SadScientist      4200      3200            4             5      none   \n3       BOIt OP      3300      4600            6             4      none   \n4         tam0w      3900      3400            5             4      none   \n\n     side round_win  \n0  Attack      loss  \n1  Attack      loss  \n2  Attack      loss  \n3  Attack       win  \n4  Attack       win  ",
      "text/html": "<div>\n<style scoped>\n    .dataframe tbody tr th:only-of-type {\n        vertical-align: middle;\n    }\n\n    .dataframe tbody tr th {\n        vertical-align: top;\n    }\n\n    .dataframe thead th {\n        text-align: right;\n    }\n</style>\n<table border=\"1\" class=\"dataframe\">\n  <thead>\n    <tr style=\"text-align: right;\">\n      <th></th>\n      <th>first_kill</th>\n      <th>time</th>\n      <th>first_death</th>\n      <th>spike_plant</th>\n      <th>defuse</th>\n      <th>fb_team</th>\n      <th>fb_players</th>\n      <th>dt_players</th>\n      <th>team_buy</th>\n      <th>oppo_buy</th>\n      <th>total_kills</th>\n      <th>total_deaths</th>\n      <th>awps_info</th>\n      <th>side</th>\n      <th>round_win</th>\n    </tr>\n  </thead>\n  <tbody>\n    <tr>\n      <th>0</th>\n      <td>Raze</td>\n      <td>0:32</td>\n      <td>Cypher</td>\n      <td>B</td>\n      <td>True</td>\n      <td>team</td>\n      <td>BOIt OP</td>\n      <td>PavamaN</td>\n      <td>800</td>\n      <td>700</td>\n      <td>1</td>\n      <td>5</td>\n      <td>none</td>\n      <td>Attack</td>\n      <td>loss</td>\n    </tr>\n    <tr>\n      <th>1</th>\n      <td>Sage</td>\n      <td>0:38</td>\n      <td>Gekko</td>\n      <td>False</td>\n      <td>False</td>\n      <td>opponent</td>\n      <td>Sasta rossi</td>\n      <td>bhooka</td>\n      <td>600</td>\n      <td>2600</td>\n      <td>0</td>\n      <td>5</td>\n      <td>none</td>\n      <td>Attack</td>\n      <td>loss</td>\n    </tr>\n    <tr>\n      <th>2</th>\n      <td>Sage</td>\n      <td>0:09</td>\n      <td>Viper</td>\n      <td>A</td>\n      <td>True</td>\n      <td>opponent</td>\n      <td>Sasta rossi</td>\n      <td>SadScientist</td>\n      <td>4200</td>\n      <td>3200</td>\n      <td>4</td>\n      <td>5</td>\n      <td>none</td>\n      <td>Attack</td>\n      <td>loss</td>\n    </tr>\n    <tr>\n      <th>3</th>\n      <td>Raze</td>\n      <td>0:07</td>\n      <td>Raze</td>\n      <td>False</td>\n      <td>False</td>\n      <td>team</td>\n      <td>BOIt OP</td>\n      <td>BOIt OP</td>\n      <td>3300</td>\n      <td>4600</td>\n      <td>6</td>\n      <td>4</td>\n      <td>none</td>\n      <td>Attack</td>\n      <td>win</td>\n    </tr>\n    <tr>\n      <th>4</th>\n      <td>Raze</td>\n      <td>0:04</td>\n      <td>Raze</td>\n      <td>B</td>\n      <td>False</td>\n      <td>opponent</td>\n      <td>BOIt OP</td>\n      <td>tam0w</td>\n      <td>3900</td>\n      <td>3400</td>\n      <td>5</td>\n      <td>4</td>\n      <td>none</td>\n      <td>Attack</td>\n      <td>win</td>\n    </tr>\n  </tbody>\n</table>\n</div>"
     },
     "execution_count": 20,
     "metadata": {},
     "output_type": "execute_result"
    }
   ],
   "source": [
    "path_list = [r'D:\\PROJECTS\\practistics-template\\08_09_2023_Split_9-13.csv', r'D:\\PROJECTS\\practistics-template\\08_09_2023_Split_13-9.csv', r'D:\\PROJECTS\\practistics-template\\split_22_08_2023_time_12_56.csv', r'D:\\PROJECTS\\practistics-template\\08_09_2023_Split_10-13.csv']\n",
    "\n",
    "df = load_concat_csv(path_list)\n",
    "\n",
    "df.team_buy = df.team_buy.str.replace(',','')\n",
    "df.oppo_buy = df.oppo_buy.str.replace(',','')\n",
    "\n",
    "df.team_buy = df.team_buy.astype(int)\n",
    "df.oppo_buy = df.oppo_buy.astype(int)\n",
    "\n",
    "df.head()"
   ],
   "metadata": {
    "collapsed": false,
    "ExecuteTime": {
     "end_time": "2023-09-09T14:53:28.674711200Z",
     "start_time": "2023-09-09T14:53:28.611931800Z"
    }
   },
   "id": "94d647fcd65b8768"
  },
  {
   "cell_type": "markdown",
   "source": [
    "# Analytics:\n",
    "\n",
    "We will now run different standard queries on the given loaded dataset to give us various bits of information regarding scrim performances."
   ],
   "metadata": {
    "collapsed": false
   },
   "id": "ba3be7a476c745f2"
  },
  {
   "cell_type": "markdown",
   "source": [
    "1) Attack Side vs Def Side Winrate"
   ],
   "metadata": {
    "collapsed": false
   },
   "id": "9be37ebe3d2ffd52"
  },
  {
   "cell_type": "code",
   "execution_count": 42,
   "outputs": [
    {
     "name": "stderr",
     "output_type": "stream",
     "text": [
      "D:\\PROJECTS\\practistics-template\\venv\\Lib\\site-packages\\seaborn\\_oldcore.py:1498: FutureWarning: is_categorical_dtype is deprecated and will be removed in a future version. Use isinstance(dtype, CategoricalDtype) instead\n",
      "  if pd.api.types.is_categorical_dtype(vector):\n",
      "D:\\PROJECTS\\practistics-template\\venv\\Lib\\site-packages\\seaborn\\_oldcore.py:1498: FutureWarning: is_categorical_dtype is deprecated and will be removed in a future version. Use isinstance(dtype, CategoricalDtype) instead\n",
      "  if pd.api.types.is_categorical_dtype(vector):\n",
      "D:\\PROJECTS\\practistics-template\\venv\\Lib\\site-packages\\seaborn\\_oldcore.py:1498: FutureWarning: is_categorical_dtype is deprecated and will be removed in a future version. Use isinstance(dtype, CategoricalDtype) instead\n",
      "  if pd.api.types.is_categorical_dtype(vector):\n",
      "D:\\PROJECTS\\practistics-template\\venv\\Lib\\site-packages\\seaborn\\_oldcore.py:1498: FutureWarning: is_categorical_dtype is deprecated and will be removed in a future version. Use isinstance(dtype, CategoricalDtype) instead\n",
      "  if pd.api.types.is_categorical_dtype(vector):\n",
      "D:\\PROJECTS\\practistics-template\\venv\\Lib\\site-packages\\seaborn\\_oldcore.py:1498: FutureWarning: is_categorical_dtype is deprecated and will be removed in a future version. Use isinstance(dtype, CategoricalDtype) instead\n",
      "  if pd.api.types.is_categorical_dtype(vector):\n"
     ]
    },
    {
     "data": {
      "text/plain": "<Axes: xlabel='oppo_buy', ylabel='team_buy'>"
     },
     "execution_count": 42,
     "metadata": {},
     "output_type": "execute_result"
    },
    {
     "data": {
      "text/plain": "<Figure size 640x480 with 1 Axes>",
      "image/png": "[encoded data removed]"
     },
     "metadata": {},
     "output_type": "display_data"
    }
   ],
   "source": [
    "sns.scatterplot(df, x=df['oppo_buy'],y=df['team_buy'],size=df['round_win'], )"
   ],
   "metadata": {
    "collapsed": false,
    "ExecuteTime": {
     "end_time": "2023-09-09T15:04:33.786954600Z",
     "start_time": "2023-09-09T15:04:33.557442300Z"
    }
   },
   "id": "fbc7d90a5ea95fdc"
  },
  {
   "cell_type": "code",
   "execution_count": null,
   "outputs": [],
   "source": [],
   "metadata": {
    "collapsed": false,
    "ExecuteTime": {
     "start_time": "2023-09-09T14:49:07.455450400Z"
    }
   },
   "id": "ac0501ed9aa330f2"
  },
  {
   "cell_type": "code",
   "execution_count": null,
   "outputs": [],
   "source": [],
   "metadata": {
    "collapsed": false,
    "ExecuteTime": {
     "start_time": "2023-09-09T14:49:07.457445200Z"
    }
   },
   "id": "944d5a9720074b5"
  },
  {
   "cell_type": "code",
   "execution_count": null,
   "outputs": [],
   "source": [],
   "metadata": {
    "collapsed": false,
    "ExecuteTime": {
     "start_time": "2023-09-09T14:49:07.458442200Z"
    }
   },
   "id": "3007089e315328af"
  },
  {
   "cell_type": "code",
   "execution_count": null,
   "outputs": [],
   "source": [],
   "metadata": {
    "collapsed": false,
    "ExecuteTime": {
     "start_time": "2023-09-09T14:49:07.460437500Z"
    }
   },
   "id": "d6135cadb120feb4"
  },
  {
   "cell_type": "code",
   "execution_count": null,
   "outputs": [],
   "source": [],
   "metadata": {
    "collapsed": false,
    "ExecuteTime": {
     "start_time": "2023-09-09T14:49:07.461462400Z"
    }
   },
   "id": "6c9f899421dcb1c0"
  },
  {
   "cell_type": "code",
   "execution_count": null,
   "outputs": [],
   "source": [],
   "metadata": {
    "collapsed": false,
    "ExecuteTime": {
     "start_time": "2023-09-09T14:49:07.462432100Z"
    }
   },
   "id": "ae95b679fcf43bd"
  },
  {
   "cell_type": "code",
   "execution_count": 9,
   "outputs": [],
   "source": [
    "def load_concat_csv(paths):\n",
    "    \n",
    "    header = ['first_kill', 'time', 'first_death', 'spike_plant', 'defuse', 'fb_team', 'fb_players', 'dt_players',\n",
    "              'team_buy', 'oppo_buy', 'total_kills', 'total_deaths', 'awps_info', 'side', 'round_win']\n",
    "\n",
    "    df = pd.DataFrame()\n",
    "    for path in paths:\n",
    "        data = pd.read_csv(path)\n",
    "        df = pd.concat([df, data], axis=0)\n",
    "    \n",
    "    return df"
   ],
   "metadata": {
    "collapsed": false,
    "ExecuteTime": {
     "end_time": "2023-09-09T14:49:14.649308300Z",
     "start_time": "2023-09-09T14:49:14.601962900Z"
    }
   },
   "id": "e45f71a8d10519af"
  },
  {
   "cell_type": "code",
   "execution_count": null,
   "outputs": [],
   "source": [],
   "metadata": {
    "collapsed": false
   },
   "id": "f9f1aae8521177a6"
  }
 ],
 "metadata": {
  "kernelspec": {
   "display_name": "Python 3",
   "language": "python",
   "name": "python3"
  },
  "language_info": {
   "codemirror_mode": {
    "name": "ipython",
    "version": 2
   },
   "file_extension": ".py",
   "mimetype": "text/x-python",
   "name": "python",
   "nbconvert_exporter": "python",
   "pygments_lexer": "ipython2",
   "version": "2.7.6"
  }
 },
 "nbformat": 4,
 "nbformat_minor": 5
}
