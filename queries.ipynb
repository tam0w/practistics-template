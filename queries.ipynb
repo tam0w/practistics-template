{
 "cells": [
  {
   "cell_type": "code",
   "execution_count": 336,
   "outputs": [],
   "source": [
    "def load_concat_csv(paths):\n",
    "    \n",
    "    header = ['first_kill', 'time', 'first_death', 'spike_plant', 'defuse', 'fb_team', 'fb_players', 'dt_players',\n",
    "              'team_buy', 'oppo_buy', 'total_kills', 'total_deaths', 'awps_info', 'side', 'round_win']\n",
    "\n",
    "    df = pd.DataFrame()\n",
    "    for path in paths:\n",
    "        data = pd.read_csv(path)\n",
    "        df = pd.concat([df, data], axis=0)\n",
    "    \n",
    "    return df"
   ],
   "metadata": {
    "collapsed": false,
    "ExecuteTime": {
     "end_time": "2023-09-15T18:28:02.059530900Z",
     "start_time": "2023-09-15T18:28:01.957699200Z"
    }
   },
   "id": "e45f71a8d10519af"
  },
  {
   "cell_type": "markdown",
   "source": [
    "# Practistics Analytics Template\n",
    "This is a template made for use with Practistics scrim data. Instructions:\n",
    "-- Load as many scrim CSVs (of the same map) as required into a directory.\n",
    "-- Paste the file paths of all the CSVs into the read CSVs function. \n",
    "-- Execute all the cells for the required analytics each cell provides.\n",
    "-- Do not edit anything else unless you know what you're doing."
   ],
   "metadata": {
    "collapsed": false
   },
   "id": "1defbb03f10db9d1"
  },
  {
   "cell_type": "code",
   "execution_count": 336,
   "outputs": [],
   "source": [],
   "metadata": {
    "collapsed": false,
    "ExecuteTime": {
     "end_time": "2023-09-15T18:28:02.126353400Z",
     "start_time": "2023-09-15T18:28:01.978745400Z"
    }
   },
   "id": "fff26ae1c66ed4d"
  },
  {
   "cell_type": "code",
   "execution_count": 337,
   "outputs": [],
   "source": [
    "!pip install matplotlib -q\n",
    "!pip install seaborn -q\n",
    "!pip install pandas -q"
   ],
   "metadata": {
    "collapsed": false,
    "ExecuteTime": {
     "end_time": "2023-09-15T18:28:09.923077800Z",
     "start_time": "2023-09-15T18:28:01.981739400Z"
    }
   },
   "id": "initial_id"
  },
  {
   "cell_type": "code",
   "execution_count": 338,
   "outputs": [],
   "source": [
    "import pandas as pd\n",
    "import matplotlib.pyplot as plt\n",
    "import seaborn as sns\n",
    "import warnings\n",
    "warnings.filterwarnings('ignore')\n",
    "sns.set_style('dark')"
   ],
   "metadata": {
    "collapsed": false,
    "ExecuteTime": {
     "end_time": "2023-09-15T18:28:09.929356300Z",
     "start_time": "2023-09-15T18:28:09.925072400Z"
    }
   },
   "id": "33fc577027ce0c1"
  },
  {
   "cell_type": "markdown",
   "source": [
    "## Loading CSVs:\n",
    "Enter all the file paths of the CSVs here, how many ever there are: \n",
    "(Make sure all the paths are inside the `[ ]` square brackets, surrounded by `' '` marks, and seperated by `,` commas)\n",
    "\n",
    "**Example:**\n",
    "\n",
    ">path_list = ['D:\\PROJECTS\\practistics-template\\08_09_2023_Split_9-13.csv', 'D:\\PROJECTS\\practistics-template\\08_09_2023_Split_13-9.csv']"
   ],
   "metadata": {
    "collapsed": false
   },
   "id": "d0acb82f04bd6ca3"
  },
  {
   "cell_type": "code",
   "execution_count": 339,
   "outputs": [
    {
     "data": {
      "text/plain": "   first_kill  time first_death spike_plant  defuse   fb_team   fb_players  \\\n0        Raze    32      Cypher           B    True      team      BOIt OP   \n1        Sage    38       Gekko       False   False  opponent  Sasta rossi   \n2        Sage     9       Viper           A    True  opponent  Sasta rossi   \n3        Raze     7        Raze       False   False      team      BOIt OP   \n4        Raze     4        Raze           B   False  opponent      BOIt OP   \n..        ...   ...         ...         ...     ...       ...          ...   \n19      Reyna    16        Raze           B   False  opponent      Sama 70   \n20       Raze     4        Sage           B   False  opponent        KinGG   \n21       Raze     4        Raze           A   False  opponent        KinGG   \n22       Sage    40     Killjoy       False   False      team          NaN   \n23       Jett    12       Reyna       False   False      team          NaN   \n\n      dt_players  team_buy  oppo_buy  total_kills  total_deaths awps_info  \\\n0        PavamaN       800       700            1             5      none   \n1         bhooka       600      2600            0             5      none   \n2   SadScientist      4200      3200            4             5      none   \n3        BOIt OP      3300      4600            6             4      none   \n4          tam0w      3900      3400            5             4      none   \n..           ...       ...       ...          ...           ...       ...   \n19  PsychoXClown      4900      3600            4             5      team   \n20         NEROO      4300      4100            3             5      none   \n21  PsychoXClown      1800      4400            0             5      none   \n22        MiCkeY      4500      4600            5             0      none   \n23       Sama 70      4700      4600            5             3      none   \n\n       side round_win  \n0    Attack      loss  \n1    Attack      loss  \n2    Attack      loss  \n3    Attack       win  \n4    Attack       win  \n..      ...       ...  \n19  Defense      loss  \n20  Defense      loss  \n21  Defense      loss  \n22  Defense       win  \n23  Defense       win  \n\n[105 rows x 15 columns]",
      "text/html": "<div>\n<style scoped>\n    .dataframe tbody tr th:only-of-type {\n        vertical-align: middle;\n    }\n\n    .dataframe tbody tr th {\n        vertical-align: top;\n    }\n\n    .dataframe thead th {\n        text-align: right;\n    }\n</style>\n<table border=\"1\" class=\"dataframe\">\n  <thead>\n    <tr style=\"text-align: right;\">\n      <th></th>\n      <th>first_kill</th>\n      <th>time</th>\n      <th>first_death</th>\n      <th>spike_plant</th>\n      <th>defuse</th>\n      <th>fb_team</th>\n      <th>fb_players</th>\n      <th>dt_players</th>\n      <th>team_buy</th>\n      <th>oppo_buy</th>\n      <th>total_kills</th>\n      <th>total_deaths</th>\n      <th>awps_info</th>\n      <th>side</th>\n      <th>round_win</th>\n    </tr>\n  </thead>\n  <tbody>\n    <tr>\n      <th>0</th>\n      <td>Raze</td>\n      <td>32</td>\n      <td>Cypher</td>\n      <td>B</td>\n      <td>True</td>\n      <td>team</td>\n      <td>BOIt OP</td>\n      <td>PavamaN</td>\n      <td>800</td>\n      <td>700</td>\n      <td>1</td>\n      <td>5</td>\n      <td>none</td>\n      <td>Attack</td>\n      <td>loss</td>\n    </tr>\n    <tr>\n      <th>1</th>\n      <td>Sage</td>\n      <td>38</td>\n      <td>Gekko</td>\n      <td>False</td>\n      <td>False</td>\n      <td>opponent</td>\n      <td>Sasta rossi</td>\n      <td>bhooka</td>\n      <td>600</td>\n      <td>2600</td>\n      <td>0</td>\n      <td>5</td>\n      <td>none</td>\n      <td>Attack</td>\n      <td>loss</td>\n    </tr>\n    <tr>\n      <th>2</th>\n      <td>Sage</td>\n      <td>9</td>\n      <td>Viper</td>\n      <td>A</td>\n      <td>True</td>\n      <td>opponent</td>\n      <td>Sasta rossi</td>\n      <td>SadScientist</td>\n      <td>4200</td>\n      <td>3200</td>\n      <td>4</td>\n      <td>5</td>\n      <td>none</td>\n      <td>Attack</td>\n      <td>loss</td>\n    </tr>\n    <tr>\n      <th>3</th>\n      <td>Raze</td>\n      <td>7</td>\n      <td>Raze</td>\n      <td>False</td>\n      <td>False</td>\n      <td>team</td>\n      <td>BOIt OP</td>\n      <td>BOIt OP</td>\n      <td>3300</td>\n      <td>4600</td>\n      <td>6</td>\n      <td>4</td>\n      <td>none</td>\n      <td>Attack</td>\n      <td>win</td>\n    </tr>\n    <tr>\n      <th>4</th>\n      <td>Raze</td>\n      <td>4</td>\n      <td>Raze</td>\n      <td>B</td>\n      <td>False</td>\n      <td>opponent</td>\n      <td>BOIt OP</td>\n      <td>tam0w</td>\n      <td>3900</td>\n      <td>3400</td>\n      <td>5</td>\n      <td>4</td>\n      <td>none</td>\n      <td>Attack</td>\n      <td>win</td>\n    </tr>\n    <tr>\n      <th>...</th>\n      <td>...</td>\n      <td>...</td>\n      <td>...</td>\n      <td>...</td>\n      <td>...</td>\n      <td>...</td>\n      <td>...</td>\n      <td>...</td>\n      <td>...</td>\n      <td>...</td>\n      <td>...</td>\n      <td>...</td>\n      <td>...</td>\n      <td>...</td>\n      <td>...</td>\n    </tr>\n    <tr>\n      <th>19</th>\n      <td>Reyna</td>\n      <td>16</td>\n      <td>Raze</td>\n      <td>B</td>\n      <td>False</td>\n      <td>opponent</td>\n      <td>Sama 70</td>\n      <td>PsychoXClown</td>\n      <td>4900</td>\n      <td>3600</td>\n      <td>4</td>\n      <td>5</td>\n      <td>team</td>\n      <td>Defense</td>\n      <td>loss</td>\n    </tr>\n    <tr>\n      <th>20</th>\n      <td>Raze</td>\n      <td>4</td>\n      <td>Sage</td>\n      <td>B</td>\n      <td>False</td>\n      <td>opponent</td>\n      <td>KinGG</td>\n      <td>NEROO</td>\n      <td>4300</td>\n      <td>4100</td>\n      <td>3</td>\n      <td>5</td>\n      <td>none</td>\n      <td>Defense</td>\n      <td>loss</td>\n    </tr>\n    <tr>\n      <th>21</th>\n      <td>Raze</td>\n      <td>4</td>\n      <td>Raze</td>\n      <td>A</td>\n      <td>False</td>\n      <td>opponent</td>\n      <td>KinGG</td>\n      <td>PsychoXClown</td>\n      <td>1800</td>\n      <td>4400</td>\n      <td>0</td>\n      <td>5</td>\n      <td>none</td>\n      <td>Defense</td>\n      <td>loss</td>\n    </tr>\n    <tr>\n      <th>22</th>\n      <td>Sage</td>\n      <td>40</td>\n      <td>Killjoy</td>\n      <td>False</td>\n      <td>False</td>\n      <td>team</td>\n      <td>NaN</td>\n      <td>MiCkeY</td>\n      <td>4500</td>\n      <td>4600</td>\n      <td>5</td>\n      <td>0</td>\n      <td>none</td>\n      <td>Defense</td>\n      <td>win</td>\n    </tr>\n    <tr>\n      <th>23</th>\n      <td>Jett</td>\n      <td>12</td>\n      <td>Reyna</td>\n      <td>False</td>\n      <td>False</td>\n      <td>team</td>\n      <td>NaN</td>\n      <td>Sama 70</td>\n      <td>4700</td>\n      <td>4600</td>\n      <td>5</td>\n      <td>3</td>\n      <td>none</td>\n      <td>Defense</td>\n      <td>win</td>\n    </tr>\n  </tbody>\n</table>\n<p>105 rows × 15 columns</p>\n</div>"
     },
     "execution_count": 339,
     "metadata": {},
     "output_type": "execute_result"
    }
   ],
   "source": [
    "path_list = [r'D:\\PROJECTS\\practistics-template\\08_09_2023_Split_9-13.csv', r'D:\\PROJECTS\\practistics-template\\08_09_2023_Split_13-9.csv', r'D:\\PROJECTS\\practistics-template\\split_22_08_2023_time_12_56.csv', r'D:\\PROJECTS\\practistics-template\\08_09_2023_Split_10-13.csv', r'D:\\PROJECTS\\practistics-template\\10_09_2023_Split_13-11.csv']\n",
    "\n",
    "df = load_concat_csv(path_list)\n",
    "\n",
    "df.team_buy = df.team_buy.str.replace(',','')\n",
    "df.oppo_buy = df.oppo_buy.str.replace(',','')\n",
    "df.time = df.time.str.replace('0:0','')\n",
    "df.time = df.time.str.replace('0:','')\n",
    "df.time = df.time.str.replace('.','')\n",
    "\n",
    "df.team_buy = df.team_buy.astype(int)\n",
    "df.time = df.time.astype(int)\n",
    "df.oppo_buy = df.oppo_buy.astype(int)\n",
    "\n",
    "sepe = \"------------------------------\"\n",
    "\n",
    "df"
   ],
   "metadata": {
    "collapsed": false,
    "ExecuteTime": {
     "end_time": "2023-09-15T18:28:10.035387600Z",
     "start_time": "2023-09-15T18:28:09.929356300Z"
    }
   },
   "id": "94d647fcd65b8768"
  },
  {
   "cell_type": "markdown",
   "source": [
    "# Analytics:\n",
    "\n",
    "We will now run different standard queries on the given loaded dataset to give us various bits of information regarding scrim performances."
   ],
   "metadata": {
    "collapsed": false
   },
   "id": "ba3be7a476c745f2"
  },
  {
   "cell_type": "markdown",
   "source": [
    "## Basics Stats:\n",
    "Basic computations performed on your dataset based on the whole map.\n"
   ],
   "metadata": {
    "collapsed": false
   },
   "id": "5d4e4c0cebdecba0"
  },
  {
   "cell_type": "markdown",
   "source": [
    "1) Attack Side vs Def Side Win rate"
   ],
   "metadata": {
    "collapsed": false
   },
   "id": "9be37ebe3d2ffd52"
  },
  {
   "cell_type": "code",
   "execution_count": 340,
   "outputs": [
    {
     "name": "stdout",
     "output_type": "stream",
     "text": [
      "Round Win %: 43.81%\n",
      "------------------------------\n",
      "Attack Win %: 43.1%\n",
      "Defense Win %: 44.68%\n",
      "------------------------------\n",
      "Anti-Eco Loss %: 57.14% (8/14)\n"
     ]
    },
    {
     "ename": "KeyError",
     "evalue": "'win'",
     "output_type": "error",
     "traceback": [
      "\u001B[1;31m---------------------------------------------------------------------------\u001B[0m",
      "\u001B[1;31mKeyError\u001B[0m                                  Traceback (most recent call last)",
      "File \u001B[1;32mD:\\PROJECTS\\practistics-template\\venv\\Lib\\site-packages\\pandas\\core\\indexes\\base.py:3790\u001B[0m, in \u001B[0;36mIndex.get_loc\u001B[1;34m(self, key)\u001B[0m\n\u001B[0;32m   3789\u001B[0m \u001B[38;5;28;01mtry\u001B[39;00m:\n\u001B[1;32m-> 3790\u001B[0m     \u001B[38;5;28;01mreturn\u001B[39;00m \u001B[38;5;28;43mself\u001B[39;49m\u001B[38;5;241;43m.\u001B[39;49m\u001B[43m_engine\u001B[49m\u001B[38;5;241;43m.\u001B[39;49m\u001B[43mget_loc\u001B[49m\u001B[43m(\u001B[49m\u001B[43mcasted_key\u001B[49m\u001B[43m)\u001B[49m\n\u001B[0;32m   3791\u001B[0m \u001B[38;5;28;01mexcept\u001B[39;00m \u001B[38;5;167;01mKeyError\u001B[39;00m \u001B[38;5;28;01mas\u001B[39;00m err:\n",
      "File \u001B[1;32mindex.pyx:152\u001B[0m, in \u001B[0;36mpandas._libs.index.IndexEngine.get_loc\u001B[1;34m()\u001B[0m\n",
      "File \u001B[1;32mindex.pyx:181\u001B[0m, in \u001B[0;36mpandas._libs.index.IndexEngine.get_loc\u001B[1;34m()\u001B[0m\n",
      "File \u001B[1;32mpandas\\_libs\\hashtable_class_helper.pxi:7080\u001B[0m, in \u001B[0;36mpandas._libs.hashtable.PyObjectHashTable.get_item\u001B[1;34m()\u001B[0m\n",
      "File \u001B[1;32mpandas\\_libs\\hashtable_class_helper.pxi:7088\u001B[0m, in \u001B[0;36mpandas._libs.hashtable.PyObjectHashTable.get_item\u001B[1;34m()\u001B[0m\n",
      "\u001B[1;31mKeyError\u001B[0m: 'win'",
      "\nThe above exception was the direct cause of the following exception:\n",
      "\u001B[1;31mKeyError\u001B[0m                                  Traceback (most recent call last)",
      "Cell \u001B[1;32mIn[340], line 19\u001B[0m\n\u001B[0;32m     16\u001B[0m eco_wins_pct \u001B[38;5;241m=\u001B[39m \u001B[38;5;28mfloat\u001B[39m(\u001B[38;5;124m\"\u001B[39m\u001B[38;5;132;01m{:.2f}\u001B[39;00m\u001B[38;5;124m\"\u001B[39m\u001B[38;5;241m.\u001B[39mformat(anti_ecos_lost \u001B[38;5;241m/\u001B[39m total_ecos_opp \u001B[38;5;241m*\u001B[39m \u001B[38;5;241m100\u001B[39m))\n\u001B[0;32m     17\u001B[0m \u001B[38;5;28mprint\u001B[39m(\u001B[38;5;124mf\u001B[39m\u001B[38;5;124m\"\u001B[39m\u001B[38;5;124mAnti-Eco Loss %: \u001B[39m\u001B[38;5;132;01m{\u001B[39;00meco_wins_pct\u001B[38;5;132;01m}\u001B[39;00m\u001B[38;5;124m% (\u001B[39m\u001B[38;5;132;01m{\u001B[39;00manti_ecos_lost\u001B[38;5;132;01m}\u001B[39;00m\u001B[38;5;124m/\u001B[39m\u001B[38;5;132;01m{\u001B[39;00mtotal_ecos_opp\u001B[38;5;132;01m}\u001B[39;00m\u001B[38;5;124m)\u001B[39m\u001B[38;5;124m\"\u001B[39m)\n\u001B[1;32m---> 19\u001B[0m eco_wins \u001B[38;5;241m=\u001B[39m \u001B[43mdf\u001B[49m\u001B[38;5;241;43m.\u001B[39;49m\u001B[43mquery\u001B[49m\u001B[43m(\u001B[49m\u001B[38;5;124;43m'\u001B[39;49m\u001B[38;5;124;43moppo_buy >= 3500 & team_buy <= 2700\u001B[39;49m\u001B[38;5;124;43m'\u001B[39;49m\u001B[43m)\u001B[49m\u001B[43m[\u001B[49m\u001B[38;5;124;43m'\u001B[39;49m\u001B[38;5;124;43mround_win\u001B[39;49m\u001B[38;5;124;43m'\u001B[39;49m\u001B[43m]\u001B[49m\u001B[38;5;241;43m.\u001B[39;49m\u001B[43mvalue_counts\u001B[49m\u001B[43m(\u001B[49m\u001B[43m)\u001B[49m\u001B[43m[\u001B[49m\u001B[38;5;124;43m'\u001B[39;49m\u001B[38;5;124;43mwin\u001B[39;49m\u001B[38;5;124;43m'\u001B[39;49m\u001B[43m]\u001B[49m\n\u001B[0;32m     20\u001B[0m total_ecos_team \u001B[38;5;241m=\u001B[39m df\u001B[38;5;241m.\u001B[39mquery(\u001B[38;5;124m'\u001B[39m\u001B[38;5;124moppo_buy >= 3500 & team_buy <= 2700\u001B[39m\u001B[38;5;124m'\u001B[39m)[\u001B[38;5;124m'\u001B[39m\u001B[38;5;124mround_win\u001B[39m\u001B[38;5;124m'\u001B[39m]\u001B[38;5;241m.\u001B[39mcount()\n\u001B[0;32m     21\u001B[0m eco_wins_pct \u001B[38;5;241m=\u001B[39m \u001B[38;5;28mfloat\u001B[39m(\u001B[38;5;124m\"\u001B[39m\u001B[38;5;132;01m{:.2f}\u001B[39;00m\u001B[38;5;124m\"\u001B[39m\u001B[38;5;241m.\u001B[39mformat(eco_wins \u001B[38;5;241m/\u001B[39m total_ecos_team \u001B[38;5;241m*\u001B[39m \u001B[38;5;241m100\u001B[39m))\n",
      "File \u001B[1;32mD:\\PROJECTS\\practistics-template\\venv\\Lib\\site-packages\\pandas\\core\\series.py:1040\u001B[0m, in \u001B[0;36mSeries.__getitem__\u001B[1;34m(self, key)\u001B[0m\n\u001B[0;32m   1037\u001B[0m     \u001B[38;5;28;01mreturn\u001B[39;00m \u001B[38;5;28mself\u001B[39m\u001B[38;5;241m.\u001B[39m_values[key]\n\u001B[0;32m   1039\u001B[0m \u001B[38;5;28;01melif\u001B[39;00m key_is_scalar:\n\u001B[1;32m-> 1040\u001B[0m     \u001B[38;5;28;01mreturn\u001B[39;00m \u001B[38;5;28;43mself\u001B[39;49m\u001B[38;5;241;43m.\u001B[39;49m\u001B[43m_get_value\u001B[49m\u001B[43m(\u001B[49m\u001B[43mkey\u001B[49m\u001B[43m)\u001B[49m\n\u001B[0;32m   1042\u001B[0m \u001B[38;5;66;03m# Convert generator to list before going through hashable part\u001B[39;00m\n\u001B[0;32m   1043\u001B[0m \u001B[38;5;66;03m# (We will iterate through the generator there to check for slices)\u001B[39;00m\n\u001B[0;32m   1044\u001B[0m \u001B[38;5;28;01mif\u001B[39;00m is_iterator(key):\n",
      "File \u001B[1;32mD:\\PROJECTS\\practistics-template\\venv\\Lib\\site-packages\\pandas\\core\\series.py:1156\u001B[0m, in \u001B[0;36mSeries._get_value\u001B[1;34m(self, label, takeable)\u001B[0m\n\u001B[0;32m   1153\u001B[0m     \u001B[38;5;28;01mreturn\u001B[39;00m \u001B[38;5;28mself\u001B[39m\u001B[38;5;241m.\u001B[39m_values[label]\n\u001B[0;32m   1155\u001B[0m \u001B[38;5;66;03m# Similar to Index.get_value, but we do not fall back to positional\u001B[39;00m\n\u001B[1;32m-> 1156\u001B[0m loc \u001B[38;5;241m=\u001B[39m \u001B[38;5;28;43mself\u001B[39;49m\u001B[38;5;241;43m.\u001B[39;49m\u001B[43mindex\u001B[49m\u001B[38;5;241;43m.\u001B[39;49m\u001B[43mget_loc\u001B[49m\u001B[43m(\u001B[49m\u001B[43mlabel\u001B[49m\u001B[43m)\u001B[49m\n\u001B[0;32m   1158\u001B[0m \u001B[38;5;28;01mif\u001B[39;00m is_integer(loc):\n\u001B[0;32m   1159\u001B[0m     \u001B[38;5;28;01mreturn\u001B[39;00m \u001B[38;5;28mself\u001B[39m\u001B[38;5;241m.\u001B[39m_values[loc]\n",
      "File \u001B[1;32mD:\\PROJECTS\\practistics-template\\venv\\Lib\\site-packages\\pandas\\core\\indexes\\base.py:3797\u001B[0m, in \u001B[0;36mIndex.get_loc\u001B[1;34m(self, key)\u001B[0m\n\u001B[0;32m   3792\u001B[0m     \u001B[38;5;28;01mif\u001B[39;00m \u001B[38;5;28misinstance\u001B[39m(casted_key, \u001B[38;5;28mslice\u001B[39m) \u001B[38;5;129;01mor\u001B[39;00m (\n\u001B[0;32m   3793\u001B[0m         \u001B[38;5;28misinstance\u001B[39m(casted_key, abc\u001B[38;5;241m.\u001B[39mIterable)\n\u001B[0;32m   3794\u001B[0m         \u001B[38;5;129;01mand\u001B[39;00m \u001B[38;5;28many\u001B[39m(\u001B[38;5;28misinstance\u001B[39m(x, \u001B[38;5;28mslice\u001B[39m) \u001B[38;5;28;01mfor\u001B[39;00m x \u001B[38;5;129;01min\u001B[39;00m casted_key)\n\u001B[0;32m   3795\u001B[0m     ):\n\u001B[0;32m   3796\u001B[0m         \u001B[38;5;28;01mraise\u001B[39;00m InvalidIndexError(key)\n\u001B[1;32m-> 3797\u001B[0m     \u001B[38;5;28;01mraise\u001B[39;00m \u001B[38;5;167;01mKeyError\u001B[39;00m(key) \u001B[38;5;28;01mfrom\u001B[39;00m \u001B[38;5;21;01merr\u001B[39;00m\n\u001B[0;32m   3798\u001B[0m \u001B[38;5;28;01mexcept\u001B[39;00m \u001B[38;5;167;01mTypeError\u001B[39;00m:\n\u001B[0;32m   3799\u001B[0m     \u001B[38;5;66;03m# If we have a listlike key, _check_indexing_error will raise\u001B[39;00m\n\u001B[0;32m   3800\u001B[0m     \u001B[38;5;66;03m#  InvalidIndexError. Otherwise we fall through and re-raise\u001B[39;00m\n\u001B[0;32m   3801\u001B[0m     \u001B[38;5;66;03m#  the TypeError.\u001B[39;00m\n\u001B[0;32m   3802\u001B[0m     \u001B[38;5;28mself\u001B[39m\u001B[38;5;241m.\u001B[39m_check_indexing_error(key)\n",
      "\u001B[1;31mKeyError\u001B[0m: 'win'"
     ]
    }
   ],
   "source": [
    "win_percent = float(\"{:.2f}\".format((df['round_win'].value_counts()[1] / df['round_win'].count() * 100)))\n",
    "print(f\"Round Win %: {win_percent}%\")\n",
    "\n",
    "print(sepe)\n",
    "\n",
    "attack_win_pct = float(\"{:.2f}\".format((df[df['side'] == \"Attack\"]['round_win'].value_counts()[1] / df[df['side'] == \"Attack\"]['round_win'].count() * 100)))\n",
    "print(f\"Attack Win %: {attack_win_pct}%\")\n",
    "\n",
    "def_win_pct = float(\"{:.2f}\".format((df[df['side'] == \"Defense\"]['round_win'].value_counts()[1] / df[df['side'] == \"Defense\"]['round_win'].count() * 100)))\n",
    "print(f\"Defense Win %: {def_win_pct}%\")\n",
    "\n",
    "print(sepe)\n",
    "\n",
    "anti_ecos_lost = df.query('team_buy >= 3500 & oppo_buy <= 2700')['round_win'].value_counts()['loss']\n",
    "total_ecos_opp = df.query('team_buy >= 3500 & oppo_buy <= 2000')['round_win'].count()\n",
    "eco_wins_pct = float(\"{:.2f}\".format(anti_ecos_lost / total_ecos_opp * 100))\n",
    "print(f\"Anti-Eco Loss %: {eco_wins_pct}% ({anti_ecos_lost}/{total_ecos_opp})\")\n",
    "\n",
    "eco_wins = df.query('oppo_buy >= 3500 & team_buy <= 2700')['round_win'].value_counts()['win']\n",
    "total_ecos_team = df.query('oppo_buy >= 3500 & team_buy <= 2700')['round_win'].count()\n",
    "eco_wins_pct = float(\"{:.2f}\".format(eco_wins / total_ecos_team * 100))\n",
    "print(f\"Eco Win %: {eco_wins_pct}% ({eco_wins}/{total_ecos_team})\")\n",
    "\n",
    "print(sepe)\n",
    "\n",
    "post_plants_wins = df.query('(spike_plant == \"A\" | spike_plant == \"B\") & side == \"Attack\"')['round_win'].value_counts()['win']\n",
    "total_post_plants = df.query('(spike_plant == \"A\" | spike_plant == \"B\") & side == \"Attack\"')['round_win'].count()\n",
    "pp_win_pct = float(\"{:.2f}\".format(post_plants_wins / total_post_plants * 100))\n",
    "print(f\"Post-Plant Win %: {pp_win_pct}% ({post_plants_wins}/{total_post_plants})\")\n",
    "\n",
    "retake_wins = df.query('(spike_plant == \"A\" | spike_plant == \"B\") & side == \"Defense\"')['round_win'].value_counts()['win']\n",
    "total_retakes = df.query('(spike_plant == \"A\" | spike_plant == \"B\") & side == \"Defense\"')['round_win'].count()\n",
    "retake_win_pct = float(\"{:.2f}\".format(retake_wins / total_retakes * 100))\n",
    "print(f\"Retake Win %: {retake_wins}% ({retake_wins}/{total_retakes})\")\n"
   ],
   "metadata": {
    "collapsed": false,
    "ExecuteTime": {
     "end_time": "2023-09-15T18:28:10.135796500Z",
     "start_time": "2023-09-15T18:28:10.040375500Z"
    }
   },
   "id": "ac0501ed9aa330f2"
  },
  {
   "cell_type": "code",
   "execution_count": null,
   "outputs": [],
   "source": [
    "sns.set_palette(\"husl\") \n",
    "sns.relplot(df, x=df['oppo_buy'],y=df['team_buy'],hue=df['round_win'],style=df['round_win'], style_order=['win','loss'])\n",
    "plt.xlabel('opponent buy (creds)')\n",
    "plt.ylabel('team buy (creds)')\n",
    "plt.title('Distribution of every round based on economies')\n",
    "plt.text(x=1000,y=2000,s='Pistol Rounds')\n",
    "plt.text(x=3300,y=2000,s='Ecos')\n",
    "plt.text(x=1000,y=3000,s='Anti-ecos')\n",
    "plt.text(x=3300,y=3000,s='Full Buys')\n",
    "plt.hlines(2500,xmin=0,xmax=5000, colors='black')\n",
    "plt.vlines(2500,ymin=0,ymax=5000, colors='black')\n",
    "plt.show()"
   ],
   "metadata": {
    "collapsed": false,
    "ExecuteTime": {
     "start_time": "2023-09-15T18:28:10.127817100Z"
    }
   },
   "id": "fbc7d90a5ea95fdc"
  },
  {
   "cell_type": "markdown",
   "source": [
    "## Site-Based Stats:\n",
    "\n",
    "## A-Site Stats:\n",
    "\n"
   ],
   "metadata": {
    "collapsed": false
   },
   "id": "e9c33f52860a0347"
  },
  {
   "cell_type": "markdown",
   "source": [],
   "metadata": {
    "collapsed": false
   },
   "id": "65a64350a14b8d78"
  },
  {
   "cell_type": "code",
   "execution_count": null,
   "outputs": [],
   "source": [
    "a_def_won = df.query('side == \"Defense\" & spike_plant == \"A\"')['round_win'].value_counts()['win']\n",
    "a_plants = df.query('side == \"Defense\" & spike_plant == \"A\"')['round_win'].count()\n",
    "plants = df.query('side == \"Defense\" & (spike_plant == \"A\" | spike_plant == \"B\")')['round_win'].count()\n",
    "a_retake_pct = float(\"{:.2f}\".format(a_def_won / a_plants * 100))\n",
    "a_concede_pct = float(\"{:.2f}\".format(a_plants / plants * 100))\n",
    "\n",
    "print(f\"A Retake %: {a_retake_pct}% ({a_def_won}/{a_plants})\")\n",
    "print(f\"A Site Concede %: {a_concede_pct}% ({a_plants}/{plants})\")\n",
    "\n",
    "post_plants_wins = df.query('spike_plant == \"A\" & side == \"Attack\"')['round_win'].value_counts()['win']\n",
    "total_post_plants = df.query('spike_plant == \"A\" & side == \"Attack\"')['round_win'].count()\n",
    "pp_win_pct = float(\"{:.2f}\".format(post_plants_wins / total_post_plants * 100))\n",
    "print(f\"A Post-Plant Win %: {pp_win_pct}% ({post_plants_wins}/{total_post_plants})\")\n"
   ],
   "metadata": {
    "collapsed": false,
    "ExecuteTime": {
     "start_time": "2023-09-15T18:28:10.129813Z"
    }
   },
   "id": "eebec7f84361153e"
  },
  {
   "cell_type": "markdown",
   "source": [
    "## B-Site Stats:"
   ],
   "metadata": {
    "collapsed": false
   },
   "id": "82bdd0e595ff13eb"
  },
  {
   "cell_type": "code",
   "execution_count": null,
   "outputs": [],
   "source": [
    "b_def_won = df.query('side == \"Defense\" & spike_plant == \"B\"')['round_win'].value_counts()['loss']\n",
    "b_plants = df.query('side == \"Defense\" & spike_plant == \"B\"')['round_win'].count()\n",
    "plants = df.query('side == \"Defense\" & (spike_plant == \"A\" | spike_plant == \"B\")')['round_win'].count()\n",
    "b_retake_pct = float(\"{:.2f}\".format(b_def_won / b_plants * 100))\n",
    "b_concede_pct = float(\"{:.2f}\".format(b_plants / plants * 100))\n",
    "\n",
    "print(f\"B Retake %: {b_retake_pct}% ({b_def_won}/{b_plants})\")\n",
    "print(f\"B Site Concede %: {b_concede_pct}% ({b_plants}/{plants})\")\n",
    "\n",
    "post_plants_wins = df.query('spike_plant == \"B\" & side == \"Attack\"')['round_win'].value_counts()['win']\n",
    "total_post_plants = df.query('spike_plant == \"B\" & side == \"Attack\"')['round_win'].count()\n",
    "pp_win_pct = float(\"{:.2f}\".format(post_plants_wins / total_post_plants * 100))\n",
    "print(f\"B Post-Plant Win %: {pp_win_pct}% ({post_plants_wins}/{total_post_plants})\")"
   ],
   "metadata": {
    "collapsed": false,
    "ExecuteTime": {
     "start_time": "2023-09-15T18:28:10.131806400Z"
    }
   },
   "id": "e1a44a6f8e739551"
  },
  {
   "cell_type": "markdown",
   "source": [
    "## Agents that take the best fights\n",
    "\n",
    "A plot of first kill rate vs first death rate / all the rounds played. The ideal duelists will be plotted on the bottom right.\n",
    "(This graphs calculates the FKR and FDR of each agent based on all the rounds of every scrim fed into this dataset, so it makes more sense if all the scrims had the same agent composition)"
   ],
   "metadata": {
    "collapsed": false
   },
   "id": "24f0fac8a286622c"
  },
  {
   "cell_type": "code",
   "execution_count": null,
   "outputs": [],
   "source": [
    "fkr = df.query('fb_team == \"team\"')['first_kill'].value_counts(normalize=True)\n",
    "fdr = df.query('fb_team == \"opponent\"')['first_death'].value_counts(normalize=True)\n",
    "fkr = pd.DataFrame(fkr).reset_index()\n",
    "fdr = pd.DataFrame(fdr).reset_index()\n",
    "fkr.columns = [\"Names\", \"fkr\"]\n",
    "fdr.columns = [\"Names\", \"fdr\"]\n",
    "test = pd.merge(fkr,fdr,on='Names', how='inner').head(6)\n",
    "sns.relplot(test, x='fkr',y='fdr', size='Names', hue='Names')\n",
    "plt.xlabel('First Kills / round')\n",
    "plt.ylabel('First Deaths / round')\n",
    "plt.title('First Kill Rate vs First Death Rate')\n",
    "plt.axhspan(0,0.15,0.5,0.94, color='green', alpha=0.1)\n",
    "plt.text(x=0.18,y=0.05,s='Ideal Duelist')\n",
    "plt.show()"
   ],
   "metadata": {
    "collapsed": false,
    "ExecuteTime": {
     "start_time": "2023-09-15T18:28:10.133801300Z"
    }
   },
   "id": "3007089e315328af"
  },
  {
   "cell_type": "markdown",
   "source": [
    "## First Blood Info\n",
    "\n",
    "Information about first bloods and how round winrates are affected.\n",
    "\n",
    "True FB % is the percentage of first kills that are exclusively obtained by **duelists**."
   ],
   "metadata": {
    "collapsed": false
   },
   "id": "3afb1cbd34498be9"
  },
  {
   "cell_type": "code",
   "execution_count": null,
   "outputs": [],
   "source": [
    "early = df.query('time <= 10 & fb_team == \"team\"')\n",
    "early_wins = early.round_win.value_counts()['win']\n",
    "early_total = early.round_win.count()\n",
    "early_win_pct = float(\"{:.2f}\".format((early_wins / early_total) * 100))\n",
    "print(f'Winrate when the first kill is in the first 10 seconds: {early_win_pct}% ({early_wins}/{early_total})')\n",
    "\n",
    "mid = df.query('20 > time > 10 & fb_team == \"team\"')\n",
    "mid_wins = mid.round_win.value_counts()['win']\n",
    "mid_total = mid.round_win.count()\n",
    "mid_win_pct = float(\"{:.2f}\".format((mid_wins / mid_total) * 100))\n",
    "print(f'Winrate when the first kill is between 10-20 seconds of the round: {mid_win_pct}% ({mid_wins}/{mid_total})')\n",
    "\n",
    "late = df.query('time >= 20 & fb_team == \"team\"')\n",
    "late_wins = late.round_win.value_counts()['win']\n",
    "late_total = late.round_win.count()\n",
    "late_win_pct = float(\"{:.2f}\".format((late_wins / late_total) * 100))\n",
    "print(f'Winrate when the first kill is after 20 seconds: {late_win_pct}% ({late_wins}/{late_total})')\n",
    "\n",
    "print(sepe)\n",
    "\n",
    "true_fb = df.query('fb_team == \"team\" & (first_kill == \"Raze\" | first_kill == \"Jett\" | first_kill == \"Reyna\" | first_kill == \"Neon\" | first_kill == \"Yoru\" | first_kill == \"Phoenix\")')\n",
    "fb = df.query('fb_team == \"team\"')\n",
    "true_fb_pct = float(\"{:.2f}\".format((true_fb.count()[0] / fb.count()[0]) * 100))\n",
    "print(f\"True FB %: {true_fb_pct} ({true_fb.count()[0]} / {fb.count()[0]})\")"
   ],
   "metadata": {
    "collapsed": false,
    "ExecuteTime": {
     "start_time": "2023-09-15T18:28:10.135796500Z"
    }
   },
   "id": "c946d4420ae79369"
  },
  {
   "cell_type": "code",
   "execution_count": null,
   "outputs": [],
   "source": [],
   "metadata": {
    "collapsed": false,
    "ExecuteTime": {
     "start_time": "2023-09-15T18:28:10.136793500Z"
    }
   },
   "id": "100674669a27a6b4"
  },
  {
   "cell_type": "code",
   "execution_count": null,
   "outputs": [],
   "source": [],
   "metadata": {
    "collapsed": false,
    "ExecuteTime": {
     "start_time": "2023-09-15T18:28:10.138787600Z"
    }
   },
   "id": "3aa189c547341515"
  },
  {
   "cell_type": "code",
   "execution_count": null,
   "outputs": [],
   "source": [],
   "metadata": {
    "collapsed": false,
    "ExecuteTime": {
     "start_time": "2023-09-15T18:28:10.139785700Z"
    }
   },
   "id": "b9b784d8cdf86d99"
  },
  {
   "cell_type": "code",
   "execution_count": null,
   "outputs": [],
   "source": [],
   "metadata": {
    "collapsed": false,
    "ExecuteTime": {
     "start_time": "2023-09-15T18:28:10.141781900Z"
    }
   },
   "id": "d152125be5b59217"
  },
  {
   "cell_type": "code",
   "execution_count": null,
   "outputs": [],
   "source": [
    "df['counts'] = pd.cut(df['time'], bins=[0,5,10,15,20,25,30,35,40,45,50])\n",
    "\n",
    "\n",
    "# test = df.counts.value_counts().sort_index().reset_index()\n",
    "# test\n",
    "# test = pd.DataFrame(test)\n",
    "# test.columns = ['Seconds', 'Frequency']\n",
    "# test.dtypes\n",
    "# # print(test)\n",
    "# sns.barplot(data=test,x=test.Value, y=test.Frequency)\n",
    "# # \n",
    "# # plt.xlabel('X-axis Label')\n",
    "# plt.ylabel('Y-axis Label')\n",
    "# plt.title('Series Plot')\n",
    "# \n",
    "# # Show the plot\n",
    "# plt.show()"
   ],
   "metadata": {
    "collapsed": false,
    "ExecuteTime": {
     "start_time": "2023-09-15T18:28:10.143775800Z"
    }
   },
   "id": "9ef9489fa840bf99"
  },
  {
   "cell_type": "code",
   "execution_count": null,
   "outputs": [],
   "source": [
    "# fraud = pd.DataFrame()\n",
    "# fraud[['kills','deaths','team_buy','oppo_buy','round_win']] = df.query('index == 3 | index == 2')[['total_kills','total_deaths','team_buy','oppo_buy','round_win']]\n",
    "# fraud = fraud.reset_index(names='Round')\n",
    "# fraud['game'] = (fraud.index // 2) + 1\n",
    "# fraud['spent'] = (fraud.team_buy // 1000)\n",
    "# fraud['round_win_enc'] = fraud['round_win'].replace(['loss','win'],[0,1])\n",
    "# sns.scatterplot(fraud[fraud.spent > 0],x='spent',y='deaths', color='brown')\n",
    "\n",
    "# sns.relplot(fraud, x='deaths',y= 'round_win_enc', hue='Round', col='game', col_wrap=2)"
   ],
   "metadata": {
    "collapsed": false,
    "ExecuteTime": {
     "start_time": "2023-09-15T18:28:10.145769Z"
    }
   },
   "id": "ae95b679fcf43bd"
  }
 ],
 "metadata": {
  "kernelspec": {
   "display_name": "Python 3",
   "language": "python",
   "name": "python3"
  },
  "language_info": {
   "codemirror_mode": {
    "name": "ipython",
    "version": 2
   },
   "file_extension": ".py",
   "mimetype": "text/x-python",
   "name": "python",
   "nbconvert_exporter": "python",
   "pygments_lexer": "ipython2",
   "version": "2.7.6"
  }
 },
 "nbformat": 4,
 "nbformat_minor": 5
}
