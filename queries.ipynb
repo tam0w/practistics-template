{
 "cells": [
  {
   "cell_type": "markdown",
   "source": [
    "# Practistics Analytics Template\n",
    "This is a template made for use with Practistics scrim data. Instructions:\n",
    "-- Load as many scrim CSVs (of the same map) as required into a directory.\n",
    "-- Paste the file paths of all the CSVs into the read CSVs function. \n",
    "-- Execute all the cells for the required analytics each cell provides."
   ],
   "metadata": {
    "collapsed": false
   },
   "id": "1defbb03f10db9d1"
  },
  {
   "cell_type": "code",
   "execution_count": 192,
   "outputs": [],
   "source": [
    "!pip install matplotlib -q\n",
    "!pip install seaborn -q\n",
    "!pip install pandas -q"
   ],
   "metadata": {
    "collapsed": false,
    "ExecuteTime": {
     "end_time": "2023-09-09T18:27:25.109085Z",
     "start_time": "2023-09-09T18:27:18.547218900Z"
    }
   },
   "id": "initial_id"
  },
  {
   "cell_type": "code",
   "execution_count": 193,
   "outputs": [],
   "source": [
    "import pandas as pd\n",
    "import matplotlib.pyplot as plt\n",
    "import seaborn as sns\n",
    "import warnings\n",
    "warnings.filterwarnings('ignore')\n",
    "sns.set_style('dark')"
   ],
   "metadata": {
    "collapsed": false,
    "ExecuteTime": {
     "end_time": "2023-09-09T18:27:25.115363300Z",
     "start_time": "2023-09-09T18:27:25.111080700Z"
    }
   },
   "id": "33fc577027ce0c1"
  },
  {
   "cell_type": "markdown",
   "source": [
    "## Loading CSVs:\n",
    "Enter all the file paths of the CSVs here, how many ever there are: \n",
    "(Make sure all the paths are inside the `[ ]` square brackets, surrounded by `' '` marks, and seperated by `,` commas)\n",
    "\n",
    "**Example:**\n",
    "\n",
    ">path_list = ['D:\\PROJECTS\\practistics-template\\08_09_2023_Split_9-13.csv', 'D:\\PROJECTS\\practistics-template\\08_09_2023_Split_13-9.csv']"
   ],
   "metadata": {
    "collapsed": false
   },
   "id": "d0acb82f04bd6ca3"
  },
  {
   "cell_type": "code",
   "execution_count": 194,
   "outputs": [
    {
     "data": {
      "text/plain": "  first_kill  time first_death spike_plant  defuse   fb_team   fb_players  \\\n0       Raze  0:32      Cypher           B    True      team      BOIt OP   \n1       Sage  0:38       Gekko       False   False  opponent  Sasta rossi   \n2       Sage  0:09       Viper           A    True  opponent  Sasta rossi   \n3       Raze  0:07        Raze       False   False      team      BOIt OP   \n4       Raze  0:04        Raze           B   False  opponent      BOIt OP   \n\n     dt_players  team_buy  oppo_buy  total_kills  total_deaths awps_info  \\\n0       PavamaN       800       700            1             5      none   \n1        bhooka       600      2600            0             5      none   \n2  SadScientist      4200      3200            4             5      none   \n3       BOIt OP      3300      4600            6             4      none   \n4         tam0w      3900      3400            5             4      none   \n\n     side round_win  \n0  Attack      loss  \n1  Attack      loss  \n2  Attack      loss  \n3  Attack       win  \n4  Attack       win  ",
      "text/html": "<div>\n<style scoped>\n    .dataframe tbody tr th:only-of-type {\n        vertical-align: middle;\n    }\n\n    .dataframe tbody tr th {\n        vertical-align: top;\n    }\n\n    .dataframe thead th {\n        text-align: right;\n    }\n</style>\n<table border=\"1\" class=\"dataframe\">\n  <thead>\n    <tr style=\"text-align: right;\">\n      <th></th>\n      <th>first_kill</th>\n      <th>time</th>\n      <th>first_death</th>\n      <th>spike_plant</th>\n      <th>defuse</th>\n      <th>fb_team</th>\n      <th>fb_players</th>\n      <th>dt_players</th>\n      <th>team_buy</th>\n      <th>oppo_buy</th>\n      <th>total_kills</th>\n      <th>total_deaths</th>\n      <th>awps_info</th>\n      <th>side</th>\n      <th>round_win</th>\n    </tr>\n  </thead>\n  <tbody>\n    <tr>\n      <th>0</th>\n      <td>Raze</td>\n      <td>0:32</td>\n      <td>Cypher</td>\n      <td>B</td>\n      <td>True</td>\n      <td>team</td>\n      <td>BOIt OP</td>\n      <td>PavamaN</td>\n      <td>800</td>\n      <td>700</td>\n      <td>1</td>\n      <td>5</td>\n      <td>none</td>\n      <td>Attack</td>\n      <td>loss</td>\n    </tr>\n    <tr>\n      <th>1</th>\n      <td>Sage</td>\n      <td>0:38</td>\n      <td>Gekko</td>\n      <td>False</td>\n      <td>False</td>\n      <td>opponent</td>\n      <td>Sasta rossi</td>\n      <td>bhooka</td>\n      <td>600</td>\n      <td>2600</td>\n      <td>0</td>\n      <td>5</td>\n      <td>none</td>\n      <td>Attack</td>\n      <td>loss</td>\n    </tr>\n    <tr>\n      <th>2</th>\n      <td>Sage</td>\n      <td>0:09</td>\n      <td>Viper</td>\n      <td>A</td>\n      <td>True</td>\n      <td>opponent</td>\n      <td>Sasta rossi</td>\n      <td>SadScientist</td>\n      <td>4200</td>\n      <td>3200</td>\n      <td>4</td>\n      <td>5</td>\n      <td>none</td>\n      <td>Attack</td>\n      <td>loss</td>\n    </tr>\n    <tr>\n      <th>3</th>\n      <td>Raze</td>\n      <td>0:07</td>\n      <td>Raze</td>\n      <td>False</td>\n      <td>False</td>\n      <td>team</td>\n      <td>BOIt OP</td>\n      <td>BOIt OP</td>\n      <td>3300</td>\n      <td>4600</td>\n      <td>6</td>\n      <td>4</td>\n      <td>none</td>\n      <td>Attack</td>\n      <td>win</td>\n    </tr>\n    <tr>\n      <th>4</th>\n      <td>Raze</td>\n      <td>0:04</td>\n      <td>Raze</td>\n      <td>B</td>\n      <td>False</td>\n      <td>opponent</td>\n      <td>BOIt OP</td>\n      <td>tam0w</td>\n      <td>3900</td>\n      <td>3400</td>\n      <td>5</td>\n      <td>4</td>\n      <td>none</td>\n      <td>Attack</td>\n      <td>win</td>\n    </tr>\n  </tbody>\n</table>\n</div>"
     },
     "execution_count": 194,
     "metadata": {},
     "output_type": "execute_result"
    }
   ],
   "source": [
    "path_list = [r'D:\\PROJECTS\\practistics-template\\08_09_2023_Split_9-13.csv', r'D:\\PROJECTS\\practistics-template\\08_09_2023_Split_13-9.csv', r'D:\\PROJECTS\\practistics-template\\split_22_08_2023_time_12_56.csv', r'D:\\PROJECTS\\practistics-template\\08_09_2023_Split_10-13.csv']\n",
    "\n",
    "df = load_concat_csv(path_list)\n",
    "\n",
    "df.team_buy = df.team_buy.str.replace(',','')\n",
    "df.oppo_buy = df.oppo_buy.str.replace(',','')\n",
    "\n",
    "df.team_buy = df.team_buy.astype(int)\n",
    "df.oppo_buy = df.oppo_buy.astype(int)\n",
    "\n",
    "sepe = \"------------------------------\"\n",
    "\n",
    "df.head()"
   ],
   "metadata": {
    "collapsed": false,
    "ExecuteTime": {
     "end_time": "2023-09-09T18:27:25.167100300Z",
     "start_time": "2023-09-09T18:27:25.118357Z"
    }
   },
   "id": "94d647fcd65b8768"
  },
  {
   "cell_type": "markdown",
   "source": [
    "# Analytics:\n",
    "\n",
    "We will now run different standard queries on the given loaded dataset to give us various bits of information regarding scrim performances."
   ],
   "metadata": {
    "collapsed": false
   },
   "id": "ba3be7a476c745f2"
  },
  {
   "cell_type": "markdown",
   "source": [
    "## Basics Stats:\n",
    "Basic computations performed on your dataset based on the whole map.\n"
   ],
   "metadata": {
    "collapsed": false
   },
   "id": "5d4e4c0cebdecba0"
  },
  {
   "cell_type": "code",
   "execution_count": 195,
   "outputs": [
    {
     "name": "stdout",
     "output_type": "stream",
     "text": [
      "Round Win %: 40.74%\n",
      "------------------------------\n",
      "Attack Win %: 39.13%\n",
      "Defense Win %: 42.86%\n",
      "------------------------------\n",
      "Anti-Eco Loss %: 50.0% (6/12)\n"
     ]
    },
    {
     "ename": "KeyError",
     "evalue": "'win'",
     "output_type": "error",
     "traceback": [
      "\u001B[1;31m---------------------------------------------------------------------------\u001B[0m",
      "\u001B[1;31mKeyError\u001B[0m                                  Traceback (most recent call last)",
      "File \u001B[1;32mD:\\PROJECTS\\practistics-template\\venv\\Lib\\site-packages\\pandas\\core\\indexes\\base.py:3790\u001B[0m, in \u001B[0;36mIndex.get_loc\u001B[1;34m(self, key)\u001B[0m\n\u001B[0;32m   3789\u001B[0m \u001B[38;5;28;01mtry\u001B[39;00m:\n\u001B[1;32m-> 3790\u001B[0m     \u001B[38;5;28;01mreturn\u001B[39;00m \u001B[38;5;28;43mself\u001B[39;49m\u001B[38;5;241;43m.\u001B[39;49m\u001B[43m_engine\u001B[49m\u001B[38;5;241;43m.\u001B[39;49m\u001B[43mget_loc\u001B[49m\u001B[43m(\u001B[49m\u001B[43mcasted_key\u001B[49m\u001B[43m)\u001B[49m\n\u001B[0;32m   3791\u001B[0m \u001B[38;5;28;01mexcept\u001B[39;00m \u001B[38;5;167;01mKeyError\u001B[39;00m \u001B[38;5;28;01mas\u001B[39;00m err:\n",
      "File \u001B[1;32mindex.pyx:152\u001B[0m, in \u001B[0;36mpandas._libs.index.IndexEngine.get_loc\u001B[1;34m()\u001B[0m\n",
      "File \u001B[1;32mindex.pyx:181\u001B[0m, in \u001B[0;36mpandas._libs.index.IndexEngine.get_loc\u001B[1;34m()\u001B[0m\n",
      "File \u001B[1;32mpandas\\_libs\\hashtable_class_helper.pxi:7080\u001B[0m, in \u001B[0;36mpandas._libs.hashtable.PyObjectHashTable.get_item\u001B[1;34m()\u001B[0m\n",
      "File \u001B[1;32mpandas\\_libs\\hashtable_class_helper.pxi:7088\u001B[0m, in \u001B[0;36mpandas._libs.hashtable.PyObjectHashTable.get_item\u001B[1;34m()\u001B[0m\n",
      "\u001B[1;31mKeyError\u001B[0m: 'win'",
      "\nThe above exception was the direct cause of the following exception:\n",
      "\u001B[1;31mKeyError\u001B[0m                                  Traceback (most recent call last)",
      "Cell \u001B[1;32mIn[195], line 19\u001B[0m\n\u001B[0;32m     16\u001B[0m eco_wins_pct \u001B[38;5;241m=\u001B[39m \u001B[38;5;28mfloat\u001B[39m(\u001B[38;5;124m\"\u001B[39m\u001B[38;5;132;01m{:.2f}\u001B[39;00m\u001B[38;5;124m\"\u001B[39m\u001B[38;5;241m.\u001B[39mformat(anti_ecos_lost \u001B[38;5;241m/\u001B[39m total_ecos_opp \u001B[38;5;241m*\u001B[39m \u001B[38;5;241m100\u001B[39m))\n\u001B[0;32m     17\u001B[0m \u001B[38;5;28mprint\u001B[39m(\u001B[38;5;124mf\u001B[39m\u001B[38;5;124m\"\u001B[39m\u001B[38;5;124mAnti-Eco Loss %: \u001B[39m\u001B[38;5;132;01m{\u001B[39;00meco_wins_pct\u001B[38;5;132;01m}\u001B[39;00m\u001B[38;5;124m% (\u001B[39m\u001B[38;5;132;01m{\u001B[39;00manti_ecos_lost\u001B[38;5;132;01m}\u001B[39;00m\u001B[38;5;124m/\u001B[39m\u001B[38;5;132;01m{\u001B[39;00mtotal_ecos_opp\u001B[38;5;132;01m}\u001B[39;00m\u001B[38;5;124m)\u001B[39m\u001B[38;5;124m\"\u001B[39m)\n\u001B[1;32m---> 19\u001B[0m eco_wins \u001B[38;5;241m=\u001B[39m \u001B[43mdf\u001B[49m\u001B[38;5;241;43m.\u001B[39;49m\u001B[43mquery\u001B[49m\u001B[43m(\u001B[49m\u001B[38;5;124;43m'\u001B[39;49m\u001B[38;5;124;43moppo_buy >= 3500 & team_buy <= 2700\u001B[39;49m\u001B[38;5;124;43m'\u001B[39;49m\u001B[43m)\u001B[49m\u001B[43m[\u001B[49m\u001B[38;5;124;43m'\u001B[39;49m\u001B[38;5;124;43mround_win\u001B[39;49m\u001B[38;5;124;43m'\u001B[39;49m\u001B[43m]\u001B[49m\u001B[38;5;241;43m.\u001B[39;49m\u001B[43mvalue_counts\u001B[49m\u001B[43m(\u001B[49m\u001B[43m)\u001B[49m\u001B[43m[\u001B[49m\u001B[38;5;124;43m'\u001B[39;49m\u001B[38;5;124;43mwin\u001B[39;49m\u001B[38;5;124;43m'\u001B[39;49m\u001B[43m]\u001B[49m\n\u001B[0;32m     20\u001B[0m total_ecos_team \u001B[38;5;241m=\u001B[39m df\u001B[38;5;241m.\u001B[39mquery(\u001B[38;5;124m'\u001B[39m\u001B[38;5;124moppo_buy >= 3500 & team_buy <= 2700\u001B[39m\u001B[38;5;124m'\u001B[39m)[\u001B[38;5;124m'\u001B[39m\u001B[38;5;124mround_win\u001B[39m\u001B[38;5;124m'\u001B[39m]\u001B[38;5;241m.\u001B[39mcount()\n\u001B[0;32m     21\u001B[0m eco_wins_pct \u001B[38;5;241m=\u001B[39m \u001B[38;5;28mfloat\u001B[39m(\u001B[38;5;124m\"\u001B[39m\u001B[38;5;132;01m{:.2f}\u001B[39;00m\u001B[38;5;124m\"\u001B[39m\u001B[38;5;241m.\u001B[39mformat(eco_wins \u001B[38;5;241m/\u001B[39m total_ecos_team \u001B[38;5;241m*\u001B[39m \u001B[38;5;241m100\u001B[39m))\n",
      "File \u001B[1;32mD:\\PROJECTS\\practistics-template\\venv\\Lib\\site-packages\\pandas\\core\\series.py:1040\u001B[0m, in \u001B[0;36mSeries.__getitem__\u001B[1;34m(self, key)\u001B[0m\n\u001B[0;32m   1037\u001B[0m     \u001B[38;5;28;01mreturn\u001B[39;00m \u001B[38;5;28mself\u001B[39m\u001B[38;5;241m.\u001B[39m_values[key]\n\u001B[0;32m   1039\u001B[0m \u001B[38;5;28;01melif\u001B[39;00m key_is_scalar:\n\u001B[1;32m-> 1040\u001B[0m     \u001B[38;5;28;01mreturn\u001B[39;00m \u001B[38;5;28;43mself\u001B[39;49m\u001B[38;5;241;43m.\u001B[39;49m\u001B[43m_get_value\u001B[49m\u001B[43m(\u001B[49m\u001B[43mkey\u001B[49m\u001B[43m)\u001B[49m\n\u001B[0;32m   1042\u001B[0m \u001B[38;5;66;03m# Convert generator to list before going through hashable part\u001B[39;00m\n\u001B[0;32m   1043\u001B[0m \u001B[38;5;66;03m# (We will iterate through the generator there to check for slices)\u001B[39;00m\n\u001B[0;32m   1044\u001B[0m \u001B[38;5;28;01mif\u001B[39;00m is_iterator(key):\n",
      "File \u001B[1;32mD:\\PROJECTS\\practistics-template\\venv\\Lib\\site-packages\\pandas\\core\\series.py:1156\u001B[0m, in \u001B[0;36mSeries._get_value\u001B[1;34m(self, label, takeable)\u001B[0m\n\u001B[0;32m   1153\u001B[0m     \u001B[38;5;28;01mreturn\u001B[39;00m \u001B[38;5;28mself\u001B[39m\u001B[38;5;241m.\u001B[39m_values[label]\n\u001B[0;32m   1155\u001B[0m \u001B[38;5;66;03m# Similar to Index.get_value, but we do not fall back to positional\u001B[39;00m\n\u001B[1;32m-> 1156\u001B[0m loc \u001B[38;5;241m=\u001B[39m \u001B[38;5;28;43mself\u001B[39;49m\u001B[38;5;241;43m.\u001B[39;49m\u001B[43mindex\u001B[49m\u001B[38;5;241;43m.\u001B[39;49m\u001B[43mget_loc\u001B[49m\u001B[43m(\u001B[49m\u001B[43mlabel\u001B[49m\u001B[43m)\u001B[49m\n\u001B[0;32m   1158\u001B[0m \u001B[38;5;28;01mif\u001B[39;00m is_integer(loc):\n\u001B[0;32m   1159\u001B[0m     \u001B[38;5;28;01mreturn\u001B[39;00m \u001B[38;5;28mself\u001B[39m\u001B[38;5;241m.\u001B[39m_values[loc]\n",
      "File \u001B[1;32mD:\\PROJECTS\\practistics-template\\venv\\Lib\\site-packages\\pandas\\core\\indexes\\base.py:3797\u001B[0m, in \u001B[0;36mIndex.get_loc\u001B[1;34m(self, key)\u001B[0m\n\u001B[0;32m   3792\u001B[0m     \u001B[38;5;28;01mif\u001B[39;00m \u001B[38;5;28misinstance\u001B[39m(casted_key, \u001B[38;5;28mslice\u001B[39m) \u001B[38;5;129;01mor\u001B[39;00m (\n\u001B[0;32m   3793\u001B[0m         \u001B[38;5;28misinstance\u001B[39m(casted_key, abc\u001B[38;5;241m.\u001B[39mIterable)\n\u001B[0;32m   3794\u001B[0m         \u001B[38;5;129;01mand\u001B[39;00m \u001B[38;5;28many\u001B[39m(\u001B[38;5;28misinstance\u001B[39m(x, \u001B[38;5;28mslice\u001B[39m) \u001B[38;5;28;01mfor\u001B[39;00m x \u001B[38;5;129;01min\u001B[39;00m casted_key)\n\u001B[0;32m   3795\u001B[0m     ):\n\u001B[0;32m   3796\u001B[0m         \u001B[38;5;28;01mraise\u001B[39;00m InvalidIndexError(key)\n\u001B[1;32m-> 3797\u001B[0m     \u001B[38;5;28;01mraise\u001B[39;00m \u001B[38;5;167;01mKeyError\u001B[39;00m(key) \u001B[38;5;28;01mfrom\u001B[39;00m \u001B[38;5;21;01merr\u001B[39;00m\n\u001B[0;32m   3798\u001B[0m \u001B[38;5;28;01mexcept\u001B[39;00m \u001B[38;5;167;01mTypeError\u001B[39;00m:\n\u001B[0;32m   3799\u001B[0m     \u001B[38;5;66;03m# If we have a listlike key, _check_indexing_error will raise\u001B[39;00m\n\u001B[0;32m   3800\u001B[0m     \u001B[38;5;66;03m#  InvalidIndexError. Otherwise we fall through and re-raise\u001B[39;00m\n\u001B[0;32m   3801\u001B[0m     \u001B[38;5;66;03m#  the TypeError.\u001B[39;00m\n\u001B[0;32m   3802\u001B[0m     \u001B[38;5;28mself\u001B[39m\u001B[38;5;241m.\u001B[39m_check_indexing_error(key)\n",
      "\u001B[1;31mKeyError\u001B[0m: 'win'"
     ]
    }
   ],
   "source": [
    "win_percent = float(\"{:.2f}\".format((df['round_win'].value_counts()[1] / df['round_win'].count() * 100)))\n",
    "print(f\"Round Win %: {win_percent}%\")\n",
    "\n",
    "print(sepe)\n",
    "\n",
    "attack_win_pct = float(\"{:.2f}\".format((df[df['side'] == \"Attack\"]['round_win'].value_counts()[1] / df[df['side'] == \"Attack\"]['round_win'].count() * 100)))\n",
    "print(f\"Attack Win %: {attack_win_pct}%\")\n",
    "\n",
    "def_win_pct = float(\"{:.2f}\".format((df[df['side'] == \"Defense\"]['round_win'].value_counts()[1] / df[df['side'] == \"Defense\"]['round_win'].count() * 100)))\n",
    "print(f\"Defense Win %: {def_win_pct}%\")\n",
    "\n",
    "print(sepe)\n",
    "\n",
    "anti_ecos_lost = df.query('team_buy >= 3500 & oppo_buy <= 2700')['round_win'].value_counts()['loss']\n",
    "total_ecos_opp = df.query('team_buy >= 3500 & oppo_buy <= 2000')['round_win'].count()\n",
    "eco_wins_pct = float(\"{:.2f}\".format(anti_ecos_lost / total_ecos_opp * 100))\n",
    "print(f\"Anti-Eco Loss %: {eco_wins_pct}% ({anti_ecos_lost}/{total_ecos_opp})\")\n",
    "\n",
    "eco_wins = df.query('oppo_buy >= 3500 & team_buy <= 2700')['round_win'].value_counts()['win']\n",
    "total_ecos_team = df.query('oppo_buy >= 3500 & team_buy <= 2700')['round_win'].count()\n",
    "eco_wins_pct = float(\"{:.2f}\".format(eco_wins / total_ecos_team * 100))\n",
    "print(f\"Eco Win %: {eco_wins_pct}% ({eco_wins}/{total_ecos_team})\")\n",
    "\n",
    "print(sepe)\n",
    "\n",
    "post_plants_wins = df.query('spike_plant == \"A\"| spike_plant == \"B\"')['round_win'].value_counts()['win']\n",
    "total_post_plants = df.query('spike_plant == \"A\"| spike_plant == \"B\"')['round_win'].count()\n",
    "pp_win_pct = float(\"{:.2f}\".format(post_plants_wins / total_post_plants * 100))\n",
    "print(f\"Post-Plant Win %: {pp_win_pct}% ({post_plants_wins}/{total_post_plants})\")\n",
    "\n",
    "retake_wins = df.query('oppo_buy >= 3500 & team_buy <= 2700')['round_win'].value_counts()['win']\n",
    "total_retakes = df.query('oppo_buy >= 3500 & team_buy <= 2700')['round_win'].count()\n",
    "retake_win_pct = float(\"{:.2f}\".format(retake_wins / total_retakes * 100))\n",
    "print(f\"Eco Win %: {retake_wins}% ({retake_wins}/{total_retakes})\")\n"
   ],
   "metadata": {
    "collapsed": false,
    "ExecuteTime": {
     "end_time": "2023-09-09T18:27:25.271498400Z",
     "start_time": "2023-09-09T18:27:25.167100300Z"
    }
   },
   "id": "ac0501ed9aa330f2"
  },
  {
   "cell_type": "markdown",
   "source": [
    "## Site-Based Stats:\n",
    "\n",
    "## A-Site Stats:\n",
    "\n"
   ],
   "metadata": {
    "collapsed": false
   },
   "id": "e9c33f52860a0347"
  },
  {
   "cell_type": "markdown",
   "source": [],
   "metadata": {
    "collapsed": false
   },
   "id": "65a64350a14b8d78"
  },
  {
   "cell_type": "code",
   "execution_count": 196,
   "outputs": [
    {
     "name": "stdout",
     "output_type": "stream",
     "text": [
      "A Retake %: 8.33% (1/12)\n",
      "A Site Concede %: 70.59% (12/17)\n"
     ]
    }
   ],
   "source": [
    "a_def_lost = df.query('side == \"Defense\" & spike_plant == \"A\"')['round_win'].value_counts()['win']\n",
    "a_plants = df.query('side == \"Defense\" & spike_plant == \"A\"')['round_win'].count()\n",
    "plants = df.query('side == \"Defense\" & (spike_plant == \"A\" | spike_plant == \"B\")')['round_win'].count()\n",
    "a_retake_pct = float(\"{:.2f}\".format(a_def_lost / a_plants * 100))\n",
    "a_concede_pct = float(\"{:.2f}\".format(a_plants / plants * 100))\n",
    "print(f\"A Retake %: {a_retake_pct}% ({a_def_lost}/{a_plants})\")\n",
    "print(f\"A Site Concede %: {a_concede_pct}% ({a_plants}/{plants})\")"
   ],
   "metadata": {
    "collapsed": false,
    "ExecuteTime": {
     "end_time": "2023-09-09T18:27:36.347176900Z",
     "start_time": "2023-09-09T18:27:36.343189600Z"
    }
   },
   "id": "eebec7f84361153e"
  },
  {
   "cell_type": "markdown",
   "source": [
    "## B-Site Stats:"
   ],
   "metadata": {
    "collapsed": false
   },
   "id": "82bdd0e595ff13eb"
  },
  {
   "cell_type": "code",
   "execution_count": 197,
   "outputs": [
    {
     "ename": "KeyError",
     "evalue": "'win'",
     "output_type": "error",
     "traceback": [
      "\u001B[1;31m---------------------------------------------------------------------------\u001B[0m",
      "\u001B[1;31mKeyError\u001B[0m                                  Traceback (most recent call last)",
      "File \u001B[1;32mD:\\PROJECTS\\practistics-template\\venv\\Lib\\site-packages\\pandas\\core\\indexes\\base.py:3790\u001B[0m, in \u001B[0;36mIndex.get_loc\u001B[1;34m(self, key)\u001B[0m\n\u001B[0;32m   3789\u001B[0m \u001B[38;5;28;01mtry\u001B[39;00m:\n\u001B[1;32m-> 3790\u001B[0m     \u001B[38;5;28;01mreturn\u001B[39;00m \u001B[38;5;28;43mself\u001B[39;49m\u001B[38;5;241;43m.\u001B[39;49m\u001B[43m_engine\u001B[49m\u001B[38;5;241;43m.\u001B[39;49m\u001B[43mget_loc\u001B[49m\u001B[43m(\u001B[49m\u001B[43mcasted_key\u001B[49m\u001B[43m)\u001B[49m\n\u001B[0;32m   3791\u001B[0m \u001B[38;5;28;01mexcept\u001B[39;00m \u001B[38;5;167;01mKeyError\u001B[39;00m \u001B[38;5;28;01mas\u001B[39;00m err:\n",
      "File \u001B[1;32mindex.pyx:152\u001B[0m, in \u001B[0;36mpandas._libs.index.IndexEngine.get_loc\u001B[1;34m()\u001B[0m\n",
      "File \u001B[1;32mindex.pyx:181\u001B[0m, in \u001B[0;36mpandas._libs.index.IndexEngine.get_loc\u001B[1;34m()\u001B[0m\n",
      "File \u001B[1;32mpandas\\_libs\\hashtable_class_helper.pxi:7080\u001B[0m, in \u001B[0;36mpandas._libs.hashtable.PyObjectHashTable.get_item\u001B[1;34m()\u001B[0m\n",
      "File \u001B[1;32mpandas\\_libs\\hashtable_class_helper.pxi:7088\u001B[0m, in \u001B[0;36mpandas._libs.hashtable.PyObjectHashTable.get_item\u001B[1;34m()\u001B[0m\n",
      "\u001B[1;31mKeyError\u001B[0m: 'win'",
      "\nThe above exception was the direct cause of the following exception:\n",
      "\u001B[1;31mKeyError\u001B[0m                                  Traceback (most recent call last)",
      "Cell \u001B[1;32mIn[197], line 1\u001B[0m\n\u001B[1;32m----> 1\u001B[0m b_def_lost \u001B[38;5;241m=\u001B[39m \u001B[43mdf\u001B[49m\u001B[38;5;241;43m.\u001B[39;49m\u001B[43mquery\u001B[49m\u001B[43m(\u001B[49m\u001B[38;5;124;43m'\u001B[39;49m\u001B[38;5;124;43mside == \u001B[39;49m\u001B[38;5;124;43m\"\u001B[39;49m\u001B[38;5;124;43mDefense\u001B[39;49m\u001B[38;5;124;43m\"\u001B[39;49m\u001B[38;5;124;43m & spike_plant == \u001B[39;49m\u001B[38;5;124;43m\"\u001B[39;49m\u001B[38;5;124;43mB\u001B[39;49m\u001B[38;5;124;43m\"\u001B[39;49m\u001B[38;5;124;43m'\u001B[39;49m\u001B[43m)\u001B[49m\u001B[43m[\u001B[49m\u001B[38;5;124;43m'\u001B[39;49m\u001B[38;5;124;43mround_win\u001B[39;49m\u001B[38;5;124;43m'\u001B[39;49m\u001B[43m]\u001B[49m\u001B[38;5;241;43m.\u001B[39;49m\u001B[43mvalue_counts\u001B[49m\u001B[43m(\u001B[49m\u001B[43m)\u001B[49m\u001B[43m[\u001B[49m\u001B[38;5;124;43m'\u001B[39;49m\u001B[38;5;124;43mwin\u001B[39;49m\u001B[38;5;124;43m'\u001B[39;49m\u001B[43m]\u001B[49m\n\u001B[0;32m      2\u001B[0m b_plants \u001B[38;5;241m=\u001B[39m df\u001B[38;5;241m.\u001B[39mquery(\u001B[38;5;124m'\u001B[39m\u001B[38;5;124mside == \u001B[39m\u001B[38;5;124m\"\u001B[39m\u001B[38;5;124mDefense\u001B[39m\u001B[38;5;124m\"\u001B[39m\u001B[38;5;124m & spike_plant == \u001B[39m\u001B[38;5;124m\"\u001B[39m\u001B[38;5;124mB\u001B[39m\u001B[38;5;124m\"\u001B[39m\u001B[38;5;124m'\u001B[39m)[\u001B[38;5;124m'\u001B[39m\u001B[38;5;124mround_win\u001B[39m\u001B[38;5;124m'\u001B[39m]\u001B[38;5;241m.\u001B[39mcount()\n\u001B[0;32m      3\u001B[0m plants \u001B[38;5;241m=\u001B[39m df\u001B[38;5;241m.\u001B[39mquery(\u001B[38;5;124m'\u001B[39m\u001B[38;5;124mside == \u001B[39m\u001B[38;5;124m\"\u001B[39m\u001B[38;5;124mDefense\u001B[39m\u001B[38;5;124m\"\u001B[39m\u001B[38;5;124m & (spike_plant == \u001B[39m\u001B[38;5;124m\"\u001B[39m\u001B[38;5;124mB\u001B[39m\u001B[38;5;124m\"\u001B[39m\u001B[38;5;124m | spike_plant == \u001B[39m\u001B[38;5;124m\"\u001B[39m\u001B[38;5;124mB\u001B[39m\u001B[38;5;124m\"\u001B[39m\u001B[38;5;124m)\u001B[39m\u001B[38;5;124m'\u001B[39m)[\u001B[38;5;124m'\u001B[39m\u001B[38;5;124mround_win\u001B[39m\u001B[38;5;124m'\u001B[39m]\u001B[38;5;241m.\u001B[39mcount()\n",
      "File \u001B[1;32mD:\\PROJECTS\\practistics-template\\venv\\Lib\\site-packages\\pandas\\core\\series.py:1040\u001B[0m, in \u001B[0;36mSeries.__getitem__\u001B[1;34m(self, key)\u001B[0m\n\u001B[0;32m   1037\u001B[0m     \u001B[38;5;28;01mreturn\u001B[39;00m \u001B[38;5;28mself\u001B[39m\u001B[38;5;241m.\u001B[39m_values[key]\n\u001B[0;32m   1039\u001B[0m \u001B[38;5;28;01melif\u001B[39;00m key_is_scalar:\n\u001B[1;32m-> 1040\u001B[0m     \u001B[38;5;28;01mreturn\u001B[39;00m \u001B[38;5;28;43mself\u001B[39;49m\u001B[38;5;241;43m.\u001B[39;49m\u001B[43m_get_value\u001B[49m\u001B[43m(\u001B[49m\u001B[43mkey\u001B[49m\u001B[43m)\u001B[49m\n\u001B[0;32m   1042\u001B[0m \u001B[38;5;66;03m# Convert generator to list before going through hashable part\u001B[39;00m\n\u001B[0;32m   1043\u001B[0m \u001B[38;5;66;03m# (We will iterate through the generator there to check for slices)\u001B[39;00m\n\u001B[0;32m   1044\u001B[0m \u001B[38;5;28;01mif\u001B[39;00m is_iterator(key):\n",
      "File \u001B[1;32mD:\\PROJECTS\\practistics-template\\venv\\Lib\\site-packages\\pandas\\core\\series.py:1156\u001B[0m, in \u001B[0;36mSeries._get_value\u001B[1;34m(self, label, takeable)\u001B[0m\n\u001B[0;32m   1153\u001B[0m     \u001B[38;5;28;01mreturn\u001B[39;00m \u001B[38;5;28mself\u001B[39m\u001B[38;5;241m.\u001B[39m_values[label]\n\u001B[0;32m   1155\u001B[0m \u001B[38;5;66;03m# Similar to Index.get_value, but we do not fall back to positional\u001B[39;00m\n\u001B[1;32m-> 1156\u001B[0m loc \u001B[38;5;241m=\u001B[39m \u001B[38;5;28;43mself\u001B[39;49m\u001B[38;5;241;43m.\u001B[39;49m\u001B[43mindex\u001B[49m\u001B[38;5;241;43m.\u001B[39;49m\u001B[43mget_loc\u001B[49m\u001B[43m(\u001B[49m\u001B[43mlabel\u001B[49m\u001B[43m)\u001B[49m\n\u001B[0;32m   1158\u001B[0m \u001B[38;5;28;01mif\u001B[39;00m is_integer(loc):\n\u001B[0;32m   1159\u001B[0m     \u001B[38;5;28;01mreturn\u001B[39;00m \u001B[38;5;28mself\u001B[39m\u001B[38;5;241m.\u001B[39m_values[loc]\n",
      "File \u001B[1;32mD:\\PROJECTS\\practistics-template\\venv\\Lib\\site-packages\\pandas\\core\\indexes\\base.py:3797\u001B[0m, in \u001B[0;36mIndex.get_loc\u001B[1;34m(self, key)\u001B[0m\n\u001B[0;32m   3792\u001B[0m     \u001B[38;5;28;01mif\u001B[39;00m \u001B[38;5;28misinstance\u001B[39m(casted_key, \u001B[38;5;28mslice\u001B[39m) \u001B[38;5;129;01mor\u001B[39;00m (\n\u001B[0;32m   3793\u001B[0m         \u001B[38;5;28misinstance\u001B[39m(casted_key, abc\u001B[38;5;241m.\u001B[39mIterable)\n\u001B[0;32m   3794\u001B[0m         \u001B[38;5;129;01mand\u001B[39;00m \u001B[38;5;28many\u001B[39m(\u001B[38;5;28misinstance\u001B[39m(x, \u001B[38;5;28mslice\u001B[39m) \u001B[38;5;28;01mfor\u001B[39;00m x \u001B[38;5;129;01min\u001B[39;00m casted_key)\n\u001B[0;32m   3795\u001B[0m     ):\n\u001B[0;32m   3796\u001B[0m         \u001B[38;5;28;01mraise\u001B[39;00m InvalidIndexError(key)\n\u001B[1;32m-> 3797\u001B[0m     \u001B[38;5;28;01mraise\u001B[39;00m \u001B[38;5;167;01mKeyError\u001B[39;00m(key) \u001B[38;5;28;01mfrom\u001B[39;00m \u001B[38;5;21;01merr\u001B[39;00m\n\u001B[0;32m   3798\u001B[0m \u001B[38;5;28;01mexcept\u001B[39;00m \u001B[38;5;167;01mTypeError\u001B[39;00m:\n\u001B[0;32m   3799\u001B[0m     \u001B[38;5;66;03m# If we have a listlike key, _check_indexing_error will raise\u001B[39;00m\n\u001B[0;32m   3800\u001B[0m     \u001B[38;5;66;03m#  InvalidIndexError. Otherwise we fall through and re-raise\u001B[39;00m\n\u001B[0;32m   3801\u001B[0m     \u001B[38;5;66;03m#  the TypeError.\u001B[39;00m\n\u001B[0;32m   3802\u001B[0m     \u001B[38;5;28mself\u001B[39m\u001B[38;5;241m.\u001B[39m_check_indexing_error(key)\n",
      "\u001B[1;31mKeyError\u001B[0m: 'win'"
     ]
    }
   ],
   "source": [
    "b_def_lost = df.query('side == \"Defense\" & spike_plant == \"B\"')['round_win'].value_counts()['win']\n",
    "b_plants = df.query('side == \"Defense\" & spike_plant == \"B\"')['round_win'].count()\n",
    "plants = df.query('side == \"Defense\" & (spike_plant == \"B\" | spike_plant == \"B\")')['round_win'].count()\n",
    "b_retake_pct = float(\"{:.2f}\".format(b_def_lost / b_plants * 100))\n",
    "b_concede_pct = float(\"{:.2f}\".format(b_plants / plants * 100))\n",
    "print(f\"B Retake %: {b_retake_pct}% ({b_def_lost}/{b_plants})\")\n",
    "print(f\"B Site Concede %: {b_concede_pct}% ({b_plants}/{plants})\")"
   ],
   "metadata": {
    "collapsed": false,
    "ExecuteTime": {
     "end_time": "2023-09-09T18:27:37.387544800Z",
     "start_time": "2023-09-09T18:27:37.336305500Z"
    }
   },
   "id": "e1a44a6f8e739551"
  },
  {
   "cell_type": "markdown",
   "source": [],
   "metadata": {
    "collapsed": false
   },
   "id": "fdcbf1a9e4a6cc04"
  },
  {
   "cell_type": "code",
   "execution_count": null,
   "outputs": [],
   "source": [],
   "metadata": {
    "collapsed": false,
    "ExecuteTime": {
     "start_time": "2023-09-09T18:27:25.241578Z"
    }
   },
   "id": "5c84d69f1ba69bbd"
  },
  {
   "cell_type": "code",
   "execution_count": null,
   "outputs": [],
   "source": [],
   "metadata": {
    "collapsed": false,
    "ExecuteTime": {
     "start_time": "2023-09-09T18:27:25.243573200Z"
    }
   },
   "id": "c5618314d71412fd"
  },
  {
   "cell_type": "code",
   "execution_count": null,
   "outputs": [],
   "source": [],
   "metadata": {
    "collapsed": false,
    "ExecuteTime": {
     "start_time": "2023-09-09T18:27:25.245567100Z"
    }
   },
   "id": "9ef9489fa840bf99"
  },
  {
   "cell_type": "code",
   "execution_count": null,
   "outputs": [],
   "source": [
    "sns.heatmap()"
   ],
   "metadata": {
    "collapsed": false,
    "ExecuteTime": {
     "start_time": "2023-09-09T18:27:25.247562600Z"
    }
   },
   "id": "37701e285da0398e"
  },
  {
   "cell_type": "markdown",
   "source": [
    "1) Attack Side vs Def Side Win rate"
   ],
   "metadata": {
    "collapsed": false
   },
   "id": "9be37ebe3d2ffd52"
  },
  {
   "cell_type": "code",
   "execution_count": 198,
   "outputs": [
    {
     "data": {
      "text/plain": "Text(0.5, 1.0, 'Distribution of every round won or lost based on economies')"
     },
     "execution_count": 198,
     "metadata": {},
     "output_type": "execute_result"
    },
    {
     "data": {
      "text/plain": "<Figure size 640x480 with 1 Axes>",
      "image/png": "[encoded data removed]"
     },
     "metadata": {},
     "output_type": "display_data"
    }
   ],
   "source": [
    "sns.set_palette(\"husl\") \n",
    "sns.scatterplot(df, x=df['oppo_buy'],y=df['team_buy'],hue=df['round_win'])\n",
    "plt.xlabel('opponent buy')\n",
    "plt.ylabel('team buy')\n",
    "plt.title('Distribution of every round won or lost based on economies')"
   ],
   "metadata": {
    "collapsed": false,
    "ExecuteTime": {
     "end_time": "2023-09-09T18:27:57.006384600Z",
     "start_time": "2023-09-09T18:27:56.712299100Z"
    }
   },
   "id": "fbc7d90a5ea95fdc"
  },
  {
   "cell_type": "code",
   "execution_count": null,
   "outputs": [],
   "source": [],
   "metadata": {
    "collapsed": false,
    "ExecuteTime": {
     "start_time": "2023-09-09T18:27:25.251551400Z"
    }
   },
   "id": "3007089e315328af"
  },
  {
   "cell_type": "code",
   "execution_count": null,
   "outputs": [],
   "source": [],
   "metadata": {
    "collapsed": false,
    "ExecuteTime": {
     "start_time": "2023-09-09T18:27:25.252549200Z"
    }
   },
   "id": "d6135cadb120feb4"
  },
  {
   "cell_type": "code",
   "execution_count": null,
   "outputs": [],
   "source": [
    "funny ka chda"
   ],
   "metadata": {
    "collapsed": false,
    "ExecuteTime": {
     "start_time": "2023-09-09T18:27:25.253545900Z"
    }
   },
   "id": "6c9f899421dcb1c0"
  },
  {
   "cell_type": "code",
   "execution_count": null,
   "outputs": [],
   "source": [],
   "metadata": {
    "collapsed": false,
    "ExecuteTime": {
     "start_time": "2023-09-09T18:27:25.255541600Z"
    }
   },
   "id": "ae95b679fcf43bd"
  },
  {
   "cell_type": "code",
   "execution_count": null,
   "outputs": [],
   "source": [
    "def load_concat_csv(paths):\n",
    "    \n",
    "    header = ['first_kill', 'time', 'first_death', 'spike_plant', 'defuse', 'fb_team', 'fb_players', 'dt_players',\n",
    "              'team_buy', 'oppo_buy', 'total_kills', 'total_deaths', 'awps_info', 'side', 'round_win']\n",
    "\n",
    "    df = pd.DataFrame()\n",
    "    for path in paths:\n",
    "        data = pd.read_csv(path)\n",
    "        df = pd.concat([df, data], axis=0)\n",
    "    \n",
    "    return df"
   ],
   "metadata": {
    "collapsed": false,
    "ExecuteTime": {
     "start_time": "2023-09-09T18:27:25.256538200Z"
    }
   },
   "id": "e45f71a8d10519af"
  },
  {
   "cell_type": "code",
   "execution_count": null,
   "outputs": [],
   "source": [],
   "metadata": {
    "collapsed": false,
    "ExecuteTime": {
     "start_time": "2023-09-09T18:27:25.258532100Z"
    }
   },
   "id": "f9f1aae8521177a6"
  }
 ],
 "metadata": {
  "kernelspec": {
   "display_name": "Python 3",
   "language": "python",
   "name": "python3"
  },
  "language_info": {
   "codemirror_mode": {
    "name": "ipython",
    "version": 2
   },
   "file_extension": ".py",
   "mimetype": "text/x-python",
   "name": "python",
   "nbconvert_exporter": "python",
   "pygments_lexer": "ipython2",
   "version": "2.7.6"
  }
 },
 "nbformat": 4,
 "nbformat_minor": 5
}
